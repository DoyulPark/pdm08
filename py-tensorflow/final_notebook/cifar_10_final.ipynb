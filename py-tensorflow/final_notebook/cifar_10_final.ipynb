{
  "nbformat": 4,
  "nbformat_minor": 0,
  "metadata": {
    "colab": {
      "name": "cifar 10_final.ipynb",
      "provenance": [],
      "collapsed_sections": [],
      "include_colab_link": true
    },
    "kernelspec": {
      "name": "python3",
      "display_name": "Python 3"
    },
    "accelerator": "GPU"
  },
  "cells": [
    {
      "cell_type": "markdown",
      "metadata": {
        "id": "view-in-github",
        "colab_type": "text"
      },
      "source": [
        "<a href=\"https://colab.research.google.com/github/DoyulPark/pdm08/blob/master/py-tensorflow/final_notebook/cifar_10_final.ipynb\" target=\"_parent\"><img src=\"https://colab.research.google.com/assets/colab-badge.svg\" alt=\"Open In Colab\"/></a>"
      ]
    },
    {
      "cell_type": "markdown",
      "metadata": {
        "id": "-O2Gs19FC9le"
      },
      "source": [
        "##**기말고사 과제**\r\n",
        "#문제\r\n",
        "\r\n",
        "1.mnist, fmnist, cifar10 순으로 간단한 CNN 모델의 성능(정확도)이 낮아지는 이유를 설명하시오. cifar10_final.ipynb 파일 앞 부분에 설명을 추가.\r\n",
        "\t\r\n",
        "\t\r\n",
        "\t\r\n",
        "2.cifar10 데이터에 대한 분류 정확도가 높은 모델을 만드는 방법과 최적 모델을 구하시오."
      ]
    },
    {
      "cell_type": "markdown",
      "metadata": {
        "id": "iZ4gKLDQEkIF"
      },
      "source": [
        "#1번문제\r\n"
      ]
    },
    {
      "cell_type": "markdown",
      "metadata": {
        "id": "IY6IO7tbDbno"
      },
      "source": [
        "\r\n",
        " mnist데이터셋은 0~9 까지의 숫자를 필기체 이미지와 라벨 데이터를 가지고 있는 데이터셋으로 28x28 사이즈 크기에 흑백을 가진다. traindata 60000개 test data 10000개 valdation data 5000개로 구성되어 있다.\r\n",
        "\r\n",
        "cifar10 데이터셋의 경우 총 10개의 클래스를 가지는 이미지와 라벨 데이터를 가지고 있는 데이터셋이다. 32x32 사이으 크기며 컬러를 가지고 traindata 50000개 teat data 10000개로 구성되있다.\r\n",
        "\r\n",
        "즉,mnist의 경우 이미지 형식 비슷하고  cifar 10의 경우 이미지가 더 복잡하기에(이미지가 복잡하다는 뜻은 컬러도 포함되어 있다.) accuracy가 낮을수 밖에 없다"
      ]
    },
    {
      "cell_type": "markdown",
      "metadata": {
        "id": "v_DFXzDBExHm"
      },
      "source": [
        "#2번문제"
      ]
    },
    {
      "cell_type": "markdown",
      "metadata": {
        "id": "Tyrf6yC0OykL"
      },
      "source": [
        "분류 정확도를 올리는 방법으로는 적당한 layer을 추가하고 (너무 많이 추가하면 정확도에 악향을 줄수도 있다 내가 만든 C2F6모델을 보면 C2F3보다 정확도가 떨어진다), 또한 DROPOUT비율을 조절하면 정확도가 올라간다. 최종 모델은 C3F5이다."
      ]
    },
    {
      "cell_type": "markdown",
      "metadata": {
        "id": "Ww7QhADOHKqv"
      },
      "source": [
        "레이어를 추가한다 "
      ]
    },
    {
      "cell_type": "code",
      "metadata": {
        "id": "8GgGzPXPVyfa",
        "colab": {
          "base_uri": "https://localhost:8080/"
        },
        "outputId": "a68f66f1-eff4-496f-80d0-e130bebc31d8"
      },
      "source": [
        "import numpy as np\n",
        "import tensorflow as tf\n",
        "from tensorflow import keras\n",
        "import pandas as pd\n",
        "import matplotlib.pyplot as plt\n",
        "%matplotlib inline\n",
        "\n",
        "tf.random.set_seed(0)\n",
        "\n",
        "print(tf.__version__)"
      ],
      "execution_count": null,
      "outputs": [
        {
          "output_type": "stream",
          "text": [
            "2.3.0\n"
          ],
          "name": "stdout"
        }
      ]
    },
    {
      "cell_type": "code",
      "metadata": {
        "id": "nMZqMpIvIlwf"
      },
      "source": [
        "# import TF2 submodules\n",
        "from tensorflow.keras import layers, models, callbacks"
      ],
      "execution_count": null,
      "outputs": []
    },
    {
      "cell_type": "markdown",
      "metadata": {
        "id": "-0IOOUM14Jk1"
      },
      "source": [
        "## **데이터 로딩, 정규화**"
      ]
    },
    {
      "cell_type": "code",
      "metadata": {
        "id": "N1ogJ7I64Fz-",
        "colab": {
          "base_uri": "https://localhost:8080/"
        },
        "outputId": "1c9c1289-bf24-40a3-ef25-879f54d6fcce"
      },
      "source": [
        "from keras.datasets import cifar10\n",
        "\n",
        "(X_train0, y_train0), (X_test0, y_test0) = cifar10.load_data()\n",
        "\n",
        "# Reshape\n",
        "# X_train = X_train0.reshape(60000,28,28,1)\n",
        "# X_test = X_test0.reshape(10000,28,28,1)\n",
        "\n",
        "# Normalization reshape를 안하고 normalize를 한다. mnist는 흑백이기 때문에 칼라채널이1인데 4차원으로 구성되어있지않았는데 cifar10은 이미 4차원 구조로 구성되어있다\n",
        "X_train, X_test = X_train0/255.0, X_test0/255.0 # 정규화\n",
        "\n",
        "print(\"X_train={0}\".format(X_train.shape))\n",
        "print(\"y_train={0}\".format(y_train0.shape)) \n",
        "print(\"X_test={0}\".format(X_test.shape))\n",
        "print(\"y_test={0}\".format(y_test0.shape))"
      ],
      "execution_count": null,
      "outputs": [
        {
          "output_type": "stream",
          "text": [
            "X_train=(50000, 32, 32, 3)\n",
            "y_train=(50000, 1)\n",
            "X_test=(10000, 32, 32, 3)\n",
            "y_test=(10000, 1)\n"
          ],
          "name": "stdout"
        }
      ]
    },
    {
      "cell_type": "code",
      "metadata": {
        "id": "F46-QZqJHiQ6",
        "colab": {
          "base_uri": "https://localhost:8080/"
        },
        "outputId": "d016c099-05b2-4079-ddca-f9e43d38a9b0"
      },
      "source": [
        "# One-Hot-Encoding\n",
        "# Use function to_categorical() to do One-Hot-Encoding\n",
        "# tf.keras.utils.to_categorical\n",
        "from keras.utils import to_categorical\n",
        "\n",
        "y_train = to_categorical(y_train0, 10)\n",
        "y_test = to_categorical(y_test0, 10)\n",
        "y_train.shape,y_test.shape"
      ],
      "execution_count": null,
      "outputs": [
        {
          "output_type": "execute_result",
          "data": {
            "text/plain": [
              "((50000, 10), (10000, 10))"
            ]
          },
          "metadata": {
            "tags": []
          },
          "execution_count": 77
        }
      ]
    },
    {
      "cell_type": "code",
      "metadata": {
        "id": "eZ3OfP5PkEkL",
        "colab": {
          "base_uri": "https://localhost:8080/"
        },
        "outputId": "2acd7037-b2d3-45a8-eca6-8bc6acb7b5cc"
      },
      "source": [
        "# y_train0.shape vs. y_train.shape\n",
        "y_train0.shape, y_train.shape"
      ],
      "execution_count": null,
      "outputs": [
        {
          "output_type": "execute_result",
          "data": {
            "text/plain": [
              "((50000, 1), (50000, 10))"
            ]
          },
          "metadata": {
            "tags": []
          },
          "execution_count": 78
        }
      ]
    },
    {
      "cell_type": "markdown",
      "metadata": {
        "id": "5z7SozStigmF"
      },
      "source": [
        "### Display images in CIFAR-10\n",
        "- one random image\n",
        "- 10 representative images"
      ]
    },
    {
      "cell_type": "code",
      "metadata": {
        "id": "IK7XT3XoirSL",
        "colab": {
          "base_uri": "https://localhost:8080/",
          "height": 285
        },
        "outputId": "aced0618-a4f5-4647-aa0b-bbf45d13a959"
      },
      "source": [
        "# Code here!\n",
        "# display one random image from the training set:\n",
        "class_names =  ['airplane', 'automobile', 'bird', 'cat', 'deer', 'dog', 'frog', 'horse', 'ship', 'truck']\n",
        "\n",
        "idx = np.random.randint(0, X_train0.shape[0])\n",
        "print(idx)\n",
        "image = X_train0[idx]\n",
        "plt.imshow(image) #, cmap=plt.get_cmap('gray'))\n",
        "plt.title(class_names[y_train0[idx][0]])\n",
        "plt.xticks([])\n",
        "plt.yticks([])\n",
        "plt.show()"
      ],
      "execution_count": null,
      "outputs": [
        {
          "output_type": "stream",
          "text": [
            "39378\n"
          ],
          "name": "stdout"
        },
        {
          "output_type": "display_data",
          "data": {
            "image/png": "[encoded data removed]",
            "text/plain": [
              "<Figure size 432x288 with 1 Axes>"
            ]
          },
          "metadata": {
            "tags": []
          }
        }
      ]
    },
    {
      "cell_type": "code",
      "metadata": {
        "id": "LzhD5pcukau7",
        "colab": {
          "base_uri": "https://localhost:8080/",
          "height": 325
        },
        "outputId": "54a36b81-4be8-4293-b00d-fe394b95e916"
      },
      "source": [
        "fig = plt.figure(figsize=(10,6))\n",
        "num0_9 = np.unique(y_train0, return_index=True)[1] #np.unique로 사진을 찾는다, y_train0는 무슨인코딩하기전 ,[1]두번째항목선택\n",
        "images = X_train[num0_9]\n",
        "for i in range(10):\n",
        "    plt.subplot(2, 5, i+1)\n",
        "    # num0_9 = X_train0[y_train0 == i]\n",
        "    \n",
        "    # print(num0_9.shape)\n",
        "    # plt.imshow(num0_9[0]) \n",
        "    plt.imshow(images[i])\n",
        "    plt.title(\"Class %d\" % (i))\n",
        "    plt.xticks([])\n",
        "    plt.yticks([])"
      ],
      "execution_count": null,
      "outputs": [
        {
          "output_type": "display_data",
          "data": {
            "image/png": "[encoded data removed]",
            "text/plain": [
              "<Figure size 720x432 with 10 Axes>"
            ]
          },
          "metadata": {
            "tags": []
          }
        }
      ]
    },
    {
      "cell_type": "code",
      "metadata": {
        "id": "pU487MChlY7R"
      },
      "source": [
        "from keras.models import Sequential\r\n",
        "from keras.layers import Conv2D, MaxPool2D, Flatten\r\n",
        "from keras.callbacks import ModelCheckpoint, EarlyStopping"
      ],
      "execution_count": null,
      "outputs": []
    },
    {
      "cell_type": "markdown",
      "metadata": {
        "id": "7Z6DJJUCei-s"
      },
      "source": [
        "## **CNN2 + FCN2**"
      ]
    },
    {
      "cell_type": "code",
      "metadata": {
        "id": "pV3NFglM7P65"
      },
      "source": [
        "c2f2 = keras.models.Sequential([ \n",
        "    Conv2D(input_shape=(32,32,3),kernel_size=(3,3),strides=(1,1),filters= 32,padding='same',activation='relu'),\n",
        "    MaxPool2D(pool_size=(2,2), strides=(2,2)), \n",
        "    Conv2D(kernel_size=(3,3),strides=(1,1),filters= 64,padding='same',activation='relu'),\n",
        "    MaxPool2D(pool_size=(2,2), strides=(2,2)),\n",
        "    Flatten(), \n",
        "    keras.layers.Dense(128, activation='relu'),  \n",
        "    keras.layers.Dropout(0.25), \n",
        "    keras.layers.Dense(10, activation='softmax')\n",
        "])\n",
        "\n",
        "c2f2.compile(optimizer='adam',   #최적화 함수는 adam함수\n",
        "              loss='categorical_crossentropy',  #손실함수는(3가지이상의 함수) categorical_crossentropy\n",
        "              metrics=['accuracy']) "
      ],
      "execution_count": null,
      "outputs": []
    },
    {
      "cell_type": "code",
      "metadata": {
        "id": "OGtCiKy57YkR",
        "colab": {
          "base_uri": "https://localhost:8080/"
        },
        "outputId": "6fa4966a-0da2-4eb3-f3f3-f4cae01e88d1"
      },
      "source": [
        "c2f2.summary()"
      ],
      "execution_count": null,
      "outputs": [
        {
          "output_type": "stream",
          "text": [
            "Model: \"sequential_8\"\n",
            "_________________________________________________________________\n",
            "Layer (type)                 Output Shape              Param #   \n",
            "=================================================================\n",
            "conv2d_24 (Conv2D)           (None, 32, 32, 32)        896       \n",
            "_________________________________________________________________\n",
            "max_pooling2d_22 (MaxPooling (None, 16, 16, 32)        0         \n",
            "_________________________________________________________________\n",
            "conv2d_25 (Conv2D)           (None, 16, 16, 64)        18496     \n",
            "_________________________________________________________________\n",
            "max_pooling2d_23 (MaxPooling (None, 8, 8, 64)          0         \n",
            "_________________________________________________________________\n",
            "flatten_8 (Flatten)          (None, 4096)              0         \n",
            "_________________________________________________________________\n",
            "dense_22 (Dense)             (None, 128)               524416    \n",
            "_________________________________________________________________\n",
            "dropout_16 (Dropout)         (None, 128)               0         \n",
            "_________________________________________________________________\n",
            "dense_23 (Dense)             (None, 10)                1290      \n",
            "=================================================================\n",
            "Total params: 545,098\n",
            "Trainable params: 545,098\n",
            "Non-trainable params: 0\n",
            "_________________________________________________________________\n"
          ],
          "name": "stdout"
        }
      ]
    },
    {
      "cell_type": "code",
      "metadata": {
        "id": "zw_pQPBdJmU8"
      },
      "source": [
        "cp_callback = callbacks.ModelCheckpoint(filepath=\"./cifar10_c2f2_best_weights.{epoch:03d}-{val_accuracy:.4f}.hdf5\", \n",
        "                              monitor='val_accuracy', verbose=0, save_best_only=True)\n",
        "es_callback = callbacks.EarlyStopping(monitor='val_accuracy', \n",
        "                            mode='max', verbose=1, patience=25)    # patience=10, 25, 50 (50은 시간이 너무 많이 걸림)"
      ],
      "execution_count": null,
      "outputs": []
    },
    {
      "cell_type": "code",
      "metadata": {
        "id": "94GWWQt-7eRS",
        "colab": {
          "base_uri": "https://localhost:8080/"
        },
        "outputId": "60cbd6c6-a7cd-44fd-d2dc-ac6a174415f1"
      },
      "source": [
        "hist = c2f2.fit(X_train, y_train, epochs = 500 , batch_size =32, \n",
        "         callbacks=[cp_callback, es_callback], \n",
        "         validation_data=(X_test,y_test))"
      ],
      "execution_count": null,
      "outputs": [
        {
          "output_type": "stream",
          "text": [
            "Epoch 1/500\n",
            "1563/1563 [==============================] - 7s 4ms/step - loss: 1.4495 - accuracy: 0.4752 - val_loss: 1.1271 - val_accuracy: 0.6066\n",
            "Epoch 2/500\n",
            "1563/1563 [==============================] - 6s 4ms/step - loss: 1.0808 - accuracy: 0.6202 - val_loss: 0.9718 - val_accuracy: 0.6590\n",
            "Epoch 3/500\n",
            "1563/1563 [==============================] - 6s 4ms/step - loss: 0.9413 - accuracy: 0.6697 - val_loss: 0.9210 - val_accuracy: 0.6842\n",
            "Epoch 4/500\n",
            "1563/1563 [==============================] - 6s 4ms/step - loss: 0.8452 - accuracy: 0.7040 - val_loss: 0.8638 - val_accuracy: 0.7015\n",
            "Epoch 5/500\n",
            "1563/1563 [==============================] - 6s 4ms/step - loss: 0.7669 - accuracy: 0.7319 - val_loss: 0.8315 - val_accuracy: 0.7132\n",
            "Epoch 6/500\n",
            "1563/1563 [==============================] - 6s 4ms/step - loss: 0.6966 - accuracy: 0.7534 - val_loss: 0.8183 - val_accuracy: 0.7234\n",
            "Epoch 7/500\n",
            "1563/1563 [==============================] - 6s 4ms/step - loss: 0.6361 - accuracy: 0.7732 - val_loss: 0.8762 - val_accuracy: 0.7078\n",
            "Epoch 8/500\n",
            "1563/1563 [==============================] - 6s 4ms/step - loss: 0.5768 - accuracy: 0.7955 - val_loss: 0.8448 - val_accuracy: 0.7244\n",
            "Epoch 9/500\n",
            "1563/1563 [==============================] - 6s 4ms/step - loss: 0.5287 - accuracy: 0.8118 - val_loss: 0.8515 - val_accuracy: 0.7248\n",
            "Epoch 10/500\n",
            "1563/1563 [==============================] - 6s 4ms/step - loss: 0.4815 - accuracy: 0.8287 - val_loss: 0.8658 - val_accuracy: 0.7199\n",
            "Epoch 11/500\n",
            "1563/1563 [==============================] - 6s 4ms/step - loss: 0.4381 - accuracy: 0.8424 - val_loss: 0.9273 - val_accuracy: 0.7193\n",
            "Epoch 12/500\n",
            "1563/1563 [==============================] - 6s 4ms/step - loss: 0.4067 - accuracy: 0.8533 - val_loss: 0.9431 - val_accuracy: 0.7290\n",
            "Epoch 13/500\n",
            "1563/1563 [==============================] - 6s 4ms/step - loss: 0.3666 - accuracy: 0.8676 - val_loss: 1.0127 - val_accuracy: 0.7136\n",
            "Epoch 14/500\n",
            "1563/1563 [==============================] - 6s 4ms/step - loss: 0.3525 - accuracy: 0.8707 - val_loss: 1.1049 - val_accuracy: 0.7052\n",
            "Epoch 15/500\n",
            "1563/1563 [==============================] - 6s 4ms/step - loss: 0.3233 - accuracy: 0.8824 - val_loss: 1.0496 - val_accuracy: 0.7202\n",
            "Epoch 16/500\n",
            "1563/1563 [==============================] - 6s 4ms/step - loss: 0.2985 - accuracy: 0.8910 - val_loss: 1.1321 - val_accuracy: 0.7140\n",
            "Epoch 17/500\n",
            "1563/1563 [==============================] - 6s 4ms/step - loss: 0.2800 - accuracy: 0.8995 - val_loss: 1.2051 - val_accuracy: 0.7123\n",
            "Epoch 18/500\n",
            "1563/1563 [==============================] - 6s 4ms/step - loss: 0.2643 - accuracy: 0.9049 - val_loss: 1.2032 - val_accuracy: 0.7095\n",
            "Epoch 19/500\n",
            "1563/1563 [==============================] - 6s 4ms/step - loss: 0.2521 - accuracy: 0.9084 - val_loss: 1.2915 - val_accuracy: 0.7083\n",
            "Epoch 20/500\n",
            "1563/1563 [==============================] - 6s 4ms/step - loss: 0.2438 - accuracy: 0.9126 - val_loss: 1.3068 - val_accuracy: 0.7166\n",
            "Epoch 21/500\n",
            "1563/1563 [==============================] - 6s 4ms/step - loss: 0.2318 - accuracy: 0.9166 - val_loss: 1.2909 - val_accuracy: 0.7050\n",
            "Epoch 22/500\n",
            "1563/1563 [==============================] - 6s 4ms/step - loss: 0.2248 - accuracy: 0.9190 - val_loss: 1.3371 - val_accuracy: 0.7087\n",
            "Epoch 23/500\n",
            "1563/1563 [==============================] - 6s 4ms/step - loss: 0.2165 - accuracy: 0.9217 - val_loss: 1.3389 - val_accuracy: 0.7096\n",
            "Epoch 24/500\n",
            "1563/1563 [==============================] - 6s 4ms/step - loss: 0.2078 - accuracy: 0.9256 - val_loss: 1.4418 - val_accuracy: 0.7065\n",
            "Epoch 25/500\n",
            "1563/1563 [==============================] - 6s 4ms/step - loss: 0.2030 - accuracy: 0.9282 - val_loss: 1.4282 - val_accuracy: 0.7154\n",
            "Epoch 26/500\n",
            "1563/1563 [==============================] - 6s 4ms/step - loss: 0.1946 - accuracy: 0.9299 - val_loss: 1.5403 - val_accuracy: 0.7042\n",
            "Epoch 27/500\n",
            "1563/1563 [==============================] - 6s 4ms/step - loss: 0.1894 - accuracy: 0.9319 - val_loss: 1.5711 - val_accuracy: 0.7048\n",
            "Epoch 28/500\n",
            "1563/1563 [==============================] - 6s 4ms/step - loss: 0.1832 - accuracy: 0.9344 - val_loss: 1.6546 - val_accuracy: 0.6941\n",
            "Epoch 29/500\n",
            "1563/1563 [==============================] - 6s 4ms/step - loss: 0.1770 - accuracy: 0.9368 - val_loss: 1.5906 - val_accuracy: 0.7090\n",
            "Epoch 30/500\n",
            "1563/1563 [==============================] - 6s 4ms/step - loss: 0.1752 - accuracy: 0.9377 - val_loss: 1.6826 - val_accuracy: 0.6976\n",
            "Epoch 31/500\n",
            "1563/1563 [==============================] - 6s 4ms/step - loss: 0.1751 - accuracy: 0.9388 - val_loss: 1.6406 - val_accuracy: 0.7102\n",
            "Epoch 32/500\n",
            "1563/1563 [==============================] - 6s 4ms/step - loss: 0.1672 - accuracy: 0.9401 - val_loss: 1.6764 - val_accuracy: 0.7065\n",
            "Epoch 33/500\n",
            "1563/1563 [==============================] - 6s 4ms/step - loss: 0.1615 - accuracy: 0.9420 - val_loss: 1.7369 - val_accuracy: 0.7092\n",
            "Epoch 34/500\n",
            "1563/1563 [==============================] - 6s 4ms/step - loss: 0.1596 - accuracy: 0.9429 - val_loss: 1.7617 - val_accuracy: 0.7104\n",
            "Epoch 35/500\n",
            "1563/1563 [==============================] - 6s 4ms/step - loss: 0.1632 - accuracy: 0.9427 - val_loss: 1.7070 - val_accuracy: 0.7033\n",
            "Epoch 36/500\n",
            "1563/1563 [==============================] - 6s 4ms/step - loss: 0.1582 - accuracy: 0.9441 - val_loss: 1.6641 - val_accuracy: 0.7084\n",
            "Epoch 37/500\n",
            "1563/1563 [==============================] - 6s 4ms/step - loss: 0.1550 - accuracy: 0.9448 - val_loss: 1.8033 - val_accuracy: 0.7097\n",
            "Epoch 00037: early stopping\n"
          ],
          "name": "stdout"
        }
      ]
    },
    {
      "cell_type": "code",
      "metadata": {
        "id": "0-7is2U49A6Z",
        "colab": {
          "base_uri": "https://localhost:8080/"
        },
        "outputId": "5d37f3a1-1cbf-44ad-a876-cb723f006daa"
      },
      "source": [
        "c2f2.evaluate(X_test, y_test, batch_size =32)"
      ],
      "execution_count": null,
      "outputs": [
        {
          "output_type": "stream",
          "text": [
            "313/313 [==============================] - 1s 3ms/step - loss: 1.5231 - accuracy: 0.6998\n"
          ],
          "name": "stdout"
        },
        {
          "output_type": "execute_result",
          "data": {
            "text/plain": [
              "[1.523103952407837, 0.6998000144958496]"
            ]
          },
          "metadata": {
            "tags": []
          },
          "execution_count": 21
        }
      ]
    },
    {
      "cell_type": "markdown",
      "metadata": {
        "id": "SUJxRQtafihM"
      },
      "source": [
        "## **CNN2 + FCN3**"
      ]
    },
    {
      "cell_type": "code",
      "metadata": {
        "id": "Nl5CyAymAB34"
      },
      "source": [
        "c2f3 = keras.models.Sequential([ \n",
        "    Conv2D(input_shape=(32,32,3),kernel_size=(3,3),strides=(1,1),filters= 32,padding='same',activation='relu'),\n",
        "    MaxPool2D(pool_size=(2,2), strides=(2,2)), \n",
        "    Conv2D(kernel_size=(3,3),strides=(1,1),filters= 64,padding='same',activation='relu'),\n",
        "    MaxPool2D(pool_size=(2,2), strides=(2,2)),\n",
        "    Flatten(), \n",
        "    keras.layers.Dense(128, activation='relu'),  \n",
        "    keras.layers.Dropout(0.25), \n",
        "    keras.layers.Dense(64, activation='relu'),  #layer가 하나 추가됨\n",
        "    keras.layers.Dropout(0.25), \n",
        "    keras.layers.Dense(10, activation='softmax')\n",
        "])\n",
        "\n",
        "c2f3.compile(optimizer='adam',\n",
        "              loss='categorical_crossentropy',\n",
        "              metrics=['accuracy']) "
      ],
      "execution_count": null,
      "outputs": []
    },
    {
      "cell_type": "code",
      "metadata": {
        "id": "gYxuGW_2ANL8",
        "colab": {
          "base_uri": "https://localhost:8080/"
        },
        "outputId": "2bc5f25f-449b-4348-8411-269f88b270b1"
      },
      "source": [
        "c2f3.summary()"
      ],
      "execution_count": null,
      "outputs": [
        {
          "output_type": "stream",
          "text": [
            "Model: \"sequential_9\"\n",
            "_________________________________________________________________\n",
            "Layer (type)                 Output Shape              Param #   \n",
            "=================================================================\n",
            "conv2d_26 (Conv2D)           (None, 32, 32, 32)        896       \n",
            "_________________________________________________________________\n",
            "max_pooling2d_24 (MaxPooling (None, 16, 16, 32)        0         \n",
            "_________________________________________________________________\n",
            "conv2d_27 (Conv2D)           (None, 16, 16, 64)        18496     \n",
            "_________________________________________________________________\n",
            "max_pooling2d_25 (MaxPooling (None, 8, 8, 64)          0         \n",
            "_________________________________________________________________\n",
            "flatten_9 (Flatten)          (None, 4096)              0         \n",
            "_________________________________________________________________\n",
            "dense_24 (Dense)             (None, 128)               524416    \n",
            "_________________________________________________________________\n",
            "dropout_17 (Dropout)         (None, 128)               0         \n",
            "_________________________________________________________________\n",
            "dense_25 (Dense)             (None, 64)                8256      \n",
            "_________________________________________________________________\n",
            "dropout_18 (Dropout)         (None, 64)                0         \n",
            "_________________________________________________________________\n",
            "dense_26 (Dense)             (None, 10)                650       \n",
            "=================================================================\n",
            "Total params: 552,714\n",
            "Trainable params: 552,714\n",
            "Non-trainable params: 0\n",
            "_________________________________________________________________\n"
          ],
          "name": "stdout"
        }
      ]
    },
    {
      "cell_type": "code",
      "metadata": {
        "id": "KMsTuhO2x61z"
      },
      "source": [
        "cp_callback = callbacks.ModelCheckpoint(filepath=\"./cifar10_c2f3_best_weights.{epoch:03d}-{val_accuracy:.4f}.hdf5\", \n",
        "                              monitor='val_accuracy', verbose=0, save_best_only=True)\n",
        "es_callback = callbacks.EarlyStopping(monitor='val_accuracy', \n",
        "                            mode='max', verbose=1, patience=25)    # patience=10, 25, 50"
      ],
      "execution_count": null,
      "outputs": []
    },
    {
      "cell_type": "code",
      "metadata": {
        "id": "lO1of4AOAQlV",
        "colab": {
          "base_uri": "https://localhost:8080/"
        },
        "outputId": "ecee4e2d-ff13-4ef2-e49b-0e36003f9c2f"
      },
      "source": [
        "c2f3.fit(X_train, y_train, epochs=500, batch_size =32, \n",
        "         callbacks=[cp_callback, es_callback], \n",
        "         validation_data=(X_test,y_test))"
      ],
      "execution_count": null,
      "outputs": [
        {
          "output_type": "stream",
          "text": [
            "Epoch 1/500\n",
            "1563/1563 [==============================] - 6s 4ms/step - loss: 1.5337 - accuracy: 0.4411 - val_loss: 1.2074 - val_accuracy: 0.5636\n",
            "Epoch 2/500\n",
            "1563/1563 [==============================] - 6s 4ms/step - loss: 1.1676 - accuracy: 0.5919 - val_loss: 1.0389 - val_accuracy: 0.6383\n",
            "Epoch 3/500\n",
            "1563/1563 [==============================] - 6s 4ms/step - loss: 1.0212 - accuracy: 0.6446 - val_loss: 0.9241 - val_accuracy: 0.6837\n",
            "Epoch 4/500\n",
            "1563/1563 [==============================] - 6s 4ms/step - loss: 0.9248 - accuracy: 0.6798 - val_loss: 0.8904 - val_accuracy: 0.6893\n",
            "Epoch 5/500\n",
            "1563/1563 [==============================] - 6s 4ms/step - loss: 0.8498 - accuracy: 0.7044 - val_loss: 0.8580 - val_accuracy: 0.7104\n",
            "Epoch 6/500\n",
            "1563/1563 [==============================] - 6s 4ms/step - loss: 0.7878 - accuracy: 0.7275 - val_loss: 0.8702 - val_accuracy: 0.6990\n",
            "Epoch 7/500\n",
            "1563/1563 [==============================] - 6s 4ms/step - loss: 0.7339 - accuracy: 0.7452 - val_loss: 0.8315 - val_accuracy: 0.7178\n",
            "Epoch 8/500\n",
            "1563/1563 [==============================] - 6s 4ms/step - loss: 0.6825 - accuracy: 0.7632 - val_loss: 0.8454 - val_accuracy: 0.7193\n",
            "Epoch 9/500\n",
            "1563/1563 [==============================] - 6s 4ms/step - loss: 0.6381 - accuracy: 0.7780 - val_loss: 0.8594 - val_accuracy: 0.7146\n",
            "Epoch 10/500\n",
            "1563/1563 [==============================] - 6s 4ms/step - loss: 0.5957 - accuracy: 0.7917 - val_loss: 0.8811 - val_accuracy: 0.7169\n",
            "Epoch 11/500\n",
            "1563/1563 [==============================] - 6s 4ms/step - loss: 0.5663 - accuracy: 0.8000 - val_loss: 0.8941 - val_accuracy: 0.7155\n",
            "Epoch 12/500\n",
            "1563/1563 [==============================] - 6s 4ms/step - loss: 0.5350 - accuracy: 0.8111 - val_loss: 0.9089 - val_accuracy: 0.7165\n",
            "Epoch 13/500\n",
            "1563/1563 [==============================] - 6s 4ms/step - loss: 0.5083 - accuracy: 0.8216 - val_loss: 0.9201 - val_accuracy: 0.7094\n",
            "Epoch 14/500\n",
            "1563/1563 [==============================] - 6s 4ms/step - loss: 0.4760 - accuracy: 0.8319 - val_loss: 0.9192 - val_accuracy: 0.7207\n",
            "Epoch 15/500\n",
            "1563/1563 [==============================] - 6s 4ms/step - loss: 0.4523 - accuracy: 0.8395 - val_loss: 0.9613 - val_accuracy: 0.7159\n",
            "Epoch 16/500\n",
            "1563/1563 [==============================] - 6s 4ms/step - loss: 0.4351 - accuracy: 0.8463 - val_loss: 0.9630 - val_accuracy: 0.7205\n",
            "Epoch 17/500\n",
            "1563/1563 [==============================] - 6s 4ms/step - loss: 0.4125 - accuracy: 0.8534 - val_loss: 1.0041 - val_accuracy: 0.7151\n",
            "Epoch 18/500\n",
            "1563/1563 [==============================] - 6s 4ms/step - loss: 0.3944 - accuracy: 0.8610 - val_loss: 1.0141 - val_accuracy: 0.7219\n",
            "Epoch 19/500\n",
            "1563/1563 [==============================] - 6s 4ms/step - loss: 0.3782 - accuracy: 0.8666 - val_loss: 1.0826 - val_accuracy: 0.7149\n",
            "Epoch 20/500\n",
            "1563/1563 [==============================] - 6s 4ms/step - loss: 0.3666 - accuracy: 0.8720 - val_loss: 1.0542 - val_accuracy: 0.7143\n",
            "Epoch 21/500\n",
            "1563/1563 [==============================] - 6s 4ms/step - loss: 0.3509 - accuracy: 0.8764 - val_loss: 1.0823 - val_accuracy: 0.7110\n",
            "Epoch 22/500\n",
            "1563/1563 [==============================] - 6s 4ms/step - loss: 0.3376 - accuracy: 0.8815 - val_loss: 1.1273 - val_accuracy: 0.7197\n",
            "Epoch 23/500\n",
            "1563/1563 [==============================] - 6s 4ms/step - loss: 0.3311 - accuracy: 0.8838 - val_loss: 1.1140 - val_accuracy: 0.7211\n",
            "Epoch 24/500\n",
            "1563/1563 [==============================] - 6s 4ms/step - loss: 0.3205 - accuracy: 0.8881 - val_loss: 1.1197 - val_accuracy: 0.7145\n",
            "Epoch 25/500\n",
            "1563/1563 [==============================] - 6s 4ms/step - loss: 0.3098 - accuracy: 0.8908 - val_loss: 1.1798 - val_accuracy: 0.7112\n",
            "Epoch 26/500\n",
            "1563/1563 [==============================] - 6s 4ms/step - loss: 0.3089 - accuracy: 0.8909 - val_loss: 1.1971 - val_accuracy: 0.7122\n",
            "Epoch 27/500\n",
            "1563/1563 [==============================] - 6s 4ms/step - loss: 0.2917 - accuracy: 0.8973 - val_loss: 1.2057 - val_accuracy: 0.7177\n",
            "Epoch 28/500\n",
            "1563/1563 [==============================] - 6s 4ms/step - loss: 0.2858 - accuracy: 0.8991 - val_loss: 1.2541 - val_accuracy: 0.7133\n",
            "Epoch 29/500\n",
            "1563/1563 [==============================] - 5s 4ms/step - loss: 0.2809 - accuracy: 0.9018 - val_loss: 1.2577 - val_accuracy: 0.7109\n",
            "Epoch 30/500\n",
            "1563/1563 [==============================] - 6s 4ms/step - loss: 0.2753 - accuracy: 0.9019 - val_loss: 1.2995 - val_accuracy: 0.7142\n",
            "Epoch 31/500\n",
            "1563/1563 [==============================] - 6s 4ms/step - loss: 0.2672 - accuracy: 0.9069 - val_loss: 1.2698 - val_accuracy: 0.7117\n",
            "Epoch 32/500\n",
            "1563/1563 [==============================] - 6s 4ms/step - loss: 0.2559 - accuracy: 0.9127 - val_loss: 1.3160 - val_accuracy: 0.7165\n",
            "Epoch 33/500\n",
            "1563/1563 [==============================] - 6s 4ms/step - loss: 0.2632 - accuracy: 0.9090 - val_loss: 1.2836 - val_accuracy: 0.7179\n",
            "Epoch 34/500\n",
            "1563/1563 [==============================] - 6s 4ms/step - loss: 0.2454 - accuracy: 0.9159 - val_loss: 1.3557 - val_accuracy: 0.7165\n",
            "Epoch 35/500\n",
            "1563/1563 [==============================] - 6s 4ms/step - loss: 0.2443 - accuracy: 0.9147 - val_loss: 1.3417 - val_accuracy: 0.7126\n",
            "Epoch 36/500\n",
            "1563/1563 [==============================] - 6s 4ms/step - loss: 0.2419 - accuracy: 0.9162 - val_loss: 1.4388 - val_accuracy: 0.7071\n",
            "Epoch 37/500\n",
            "1563/1563 [==============================] - 6s 4ms/step - loss: 0.2364 - accuracy: 0.9177 - val_loss: 1.3817 - val_accuracy: 0.7105\n",
            "Epoch 38/500\n",
            "1563/1563 [==============================] - 6s 4ms/step - loss: 0.2321 - accuracy: 0.9208 - val_loss: 1.3715 - val_accuracy: 0.7178\n",
            "Epoch 39/500\n",
            "1563/1563 [==============================] - 6s 4ms/step - loss: 0.2259 - accuracy: 0.9211 - val_loss: 1.3972 - val_accuracy: 0.7134\n",
            "Epoch 40/500\n",
            "1563/1563 [==============================] - 6s 4ms/step - loss: 0.2211 - accuracy: 0.9240 - val_loss: 1.4442 - val_accuracy: 0.7130\n",
            "Epoch 41/500\n",
            "1563/1563 [==============================] - 6s 4ms/step - loss: 0.2229 - accuracy: 0.9230 - val_loss: 1.3973 - val_accuracy: 0.7113\n",
            "Epoch 42/500\n",
            "1563/1563 [==============================] - 6s 4ms/step - loss: 0.2116 - accuracy: 0.9265 - val_loss: 1.5142 - val_accuracy: 0.7124\n",
            "Epoch 43/500\n",
            "1563/1563 [==============================] - 6s 4ms/step - loss: 0.2187 - accuracy: 0.9240 - val_loss: 1.5912 - val_accuracy: 0.7083\n",
            "Epoch 00043: early stopping\n"
          ],
          "name": "stdout"
        },
        {
          "output_type": "execute_result",
          "data": {
            "text/plain": [
              "<tensorflow.python.keras.callbacks.History at 0x7fbe2e605550>"
            ]
          },
          "metadata": {
            "tags": []
          },
          "execution_count": 21
        }
      ]
    },
    {
      "cell_type": "code",
      "metadata": {
        "id": "W-eIxCasDBil",
        "colab": {
          "base_uri": "https://localhost:8080/"
        },
        "outputId": "e77cfd2d-2c09-4123-bc5d-764071c9d4d3"
      },
      "source": [
        " c2f3.evaluate(X_test, y_test, batch_size = 32)"
      ],
      "execution_count": null,
      "outputs": [
        {
          "output_type": "stream",
          "text": [
            "313/313 [==============================] - 1s 3ms/step - loss: 2.3076 - accuracy: 0.1076\n"
          ],
          "name": "stdout"
        },
        {
          "output_type": "execute_result",
          "data": {
            "text/plain": [
              "[2.3075764179229736, 0.10760000348091125]"
            ]
          },
          "metadata": {
            "tags": []
          },
          "execution_count": 89
        }
      ]
    },
    {
      "cell_type": "markdown",
      "metadata": {
        "id": "RJ--DHDYeEt9"
      },
      "source": [
        ""
      ]
    },
    {
      "cell_type": "code",
      "metadata": {
        "id": "THW0XFw4VMAg"
      },
      "source": [
        "c3f3 = keras.models.Sequential([ \r\n",
        "    Conv2D(input_shape=(32,32,3),kernel_size=(3,3),strides=(1,1),filters= 32,padding='same',activation='relu'),\r\n",
        "    MaxPool2D(pool_size=(2,2), strides=(2,2)), \r\n",
        "    Conv2D(kernel_size=(3,3),strides=(1,1),filters= 64,padding='same',activation='relu'),\r\n",
        "    MaxPool2D(pool_size=(2,2), strides=(2,2)),\r\n",
        "    Conv2D(kernel_size=(3,3),strides=(1,1),filters= 64,padding='same',activation='relu'),\r\n",
        "    MaxPool2D(pool_size=(2,2), strides=(2,2)),\r\n",
        "    Flatten(), \r\n",
        "    keras.layers.Dense(128, activation='relu'),  \r\n",
        "    keras.layers.Dropout(0.25), \r\n",
        "    keras.layers.Dense(64, activation='relu'),  #layer가 하나 추가됨\r\n",
        "    keras.layers.Dropout(0.25), \r\n",
        "    keras.layers.Dense(10, activation='softmax')\r\n",
        "])\r\n",
        "\r\n",
        "c3f3.compile(optimizer='adam',\r\n",
        "              loss='categorical_crossentropy',\r\n",
        "              metrics=['accuracy']) "
      ],
      "execution_count": null,
      "outputs": []
    },
    {
      "cell_type": "code",
      "metadata": {
        "colab": {
          "base_uri": "https://localhost:8080/"
        },
        "id": "thU2wsWCVgDq",
        "outputId": "30f356b5-6def-43db-b1ac-a2ed16030c26"
      },
      "source": [
        "c3f3.summary()"
      ],
      "execution_count": null,
      "outputs": [
        {
          "output_type": "stream",
          "text": [
            "Model: \"sequential_10\"\n",
            "_________________________________________________________________\n",
            "Layer (type)                 Output Shape              Param #   \n",
            "=================================================================\n",
            "conv2d_28 (Conv2D)           (None, 32, 32, 32)        896       \n",
            "_________________________________________________________________\n",
            "max_pooling2d_26 (MaxPooling (None, 16, 16, 32)        0         \n",
            "_________________________________________________________________\n",
            "conv2d_29 (Conv2D)           (None, 16, 16, 64)        18496     \n",
            "_________________________________________________________________\n",
            "max_pooling2d_27 (MaxPooling (None, 8, 8, 64)          0         \n",
            "_________________________________________________________________\n",
            "conv2d_30 (Conv2D)           (None, 8, 8, 64)          36928     \n",
            "_________________________________________________________________\n",
            "max_pooling2d_28 (MaxPooling (None, 4, 4, 64)          0         \n",
            "_________________________________________________________________\n",
            "flatten_10 (Flatten)         (None, 1024)              0         \n",
            "_________________________________________________________________\n",
            "dense_27 (Dense)             (None, 128)               131200    \n",
            "_________________________________________________________________\n",
            "dropout_19 (Dropout)         (None, 128)               0         \n",
            "_________________________________________________________________\n",
            "dense_28 (Dense)             (None, 64)                8256      \n",
            "_________________________________________________________________\n",
            "dropout_20 (Dropout)         (None, 64)                0         \n",
            "_________________________________________________________________\n",
            "dense_29 (Dense)             (None, 10)                650       \n",
            "=================================================================\n",
            "Total params: 196,426\n",
            "Trainable params: 196,426\n",
            "Non-trainable params: 0\n",
            "_________________________________________________________________\n"
          ],
          "name": "stdout"
        }
      ]
    },
    {
      "cell_type": "code",
      "metadata": {
        "id": "vIqHVWeJVm5m"
      },
      "source": [
        "cp_callback = callbacks.ModelCheckpoint(filepath=\"./cifar10_c3f3_best_weights.{epoch:03d}-{val_accuracy:.4f}.hdf5\", \r\n",
        "                              monitor='val_accuracy', verbose=0, save_best_only=True)\r\n",
        "es_callback = callbacks.EarlyStopping(monitor='val_accuracy', \r\n",
        "                            mode='max', verbose=1, patience=25)    # patience=10, 25, 50"
      ],
      "execution_count": null,
      "outputs": []
    },
    {
      "cell_type": "code",
      "metadata": {
        "colab": {
          "base_uri": "https://localhost:8080/",
          "height": 684
        },
        "id": "MKhSWoruWNx6",
        "outputId": "696ba2df-92bd-490e-abaa-48a1f4bb13d0"
      },
      "source": [
        "c3f3.fit(X_train, y_train, epochs=500, batch_size =32, \r\n",
        "         callbacks=[cp_callback, es_callback], \r\n",
        "         validation_data=(X_test,y_test))"
      ],
      "execution_count": null,
      "outputs": [
        {
          "output_type": "stream",
          "text": [
            "Epoch 1/500\n",
            "1563/1563 [==============================] - 7s 4ms/step - loss: 1.2344 - accuracy: 0.5586 - val_loss: 1.0317 - val_accuracy: 0.6394\n",
            "Epoch 2/500\n",
            "1563/1563 [==============================] - 6s 4ms/step - loss: 1.0387 - accuracy: 0.6356 - val_loss: 0.9260 - val_accuracy: 0.6752\n",
            "Epoch 3/500\n",
            "1563/1563 [==============================] - 6s 4ms/step - loss: 0.9225 - accuracy: 0.6796 - val_loss: 0.8715 - val_accuracy: 0.6977\n",
            "Epoch 4/500\n",
            "1563/1563 [==============================] - 6s 4ms/step - loss: 0.8383 - accuracy: 0.7092 - val_loss: 0.8382 - val_accuracy: 0.7116\n",
            "Epoch 5/500\n",
            "1563/1563 [==============================] - 6s 4ms/step - loss: 0.7793 - accuracy: 0.7313 - val_loss: 0.8250 - val_accuracy: 0.7178\n",
            "Epoch 6/500\n",
            "1563/1563 [==============================] - 7s 4ms/step - loss: 0.7252 - accuracy: 0.7494 - val_loss: 0.8318 - val_accuracy: 0.7189\n",
            "Epoch 7/500\n",
            "1563/1563 [==============================] - 7s 4ms/step - loss: 0.6780 - accuracy: 0.7637 - val_loss: 0.8185 - val_accuracy: 0.7223\n",
            "Epoch 8/500\n",
            "1563/1563 [==============================] - 7s 4ms/step - loss: 0.6418 - accuracy: 0.7787 - val_loss: 0.8121 - val_accuracy: 0.7296\n",
            "Epoch 9/500\n",
            "1289/1563 [=======================>......] - ETA: 1s - loss: 0.6047 - accuracy: 0.7885"
          ],
          "name": "stdout"
        },
        {
          "output_type": "error",
          "ename": "KeyboardInterrupt",
          "evalue": "ignored",
          "traceback": [
            "\u001b[0;31m---------------------------------------------------------------------------\u001b[0m",
            "\u001b[0;31mKeyboardInterrupt\u001b[0m                         Traceback (most recent call last)",
            "\u001b[0;32m<ipython-input-94-3f928a1e0795>\u001b[0m in \u001b[0;36m<module>\u001b[0;34m()\u001b[0m\n\u001b[1;32m      1\u001b[0m c3f3.fit(X_train, y_train, epochs=500, batch_size =32, \n\u001b[1;32m      2\u001b[0m          \u001b[0mcallbacks\u001b[0m\u001b[0;34m=\u001b[0m\u001b[0;34m[\u001b[0m\u001b[0mcp_callback\u001b[0m\u001b[0;34m,\u001b[0m \u001b[0mes_callback\u001b[0m\u001b[0;34m]\u001b[0m\u001b[0;34m,\u001b[0m\u001b[0;34m\u001b[0m\u001b[0;34m\u001b[0m\u001b[0m\n\u001b[0;32m----> 3\u001b[0;31m          validation_data=(X_test,y_test))\n\u001b[0m",
            "\u001b[0;32m/usr/local/lib/python3.6/dist-packages/tensorflow/python/keras/engine/training.py\u001b[0m in \u001b[0;36m_method_wrapper\u001b[0;34m(self, *args, **kwargs)\u001b[0m\n\u001b[1;32m    106\u001b[0m   \u001b[0;32mdef\u001b[0m \u001b[0m_method_wrapper\u001b[0m\u001b[0;34m(\u001b[0m\u001b[0mself\u001b[0m\u001b[0;34m,\u001b[0m \u001b[0;34m*\u001b[0m\u001b[0margs\u001b[0m\u001b[0;34m,\u001b[0m \u001b[0;34m**\u001b[0m\u001b[0mkwargs\u001b[0m\u001b[0;34m)\u001b[0m\u001b[0;34m:\u001b[0m\u001b[0;34m\u001b[0m\u001b[0;34m\u001b[0m\u001b[0m\n\u001b[1;32m    107\u001b[0m     \u001b[0;32mif\u001b[0m \u001b[0;32mnot\u001b[0m \u001b[0mself\u001b[0m\u001b[0;34m.\u001b[0m\u001b[0m_in_multi_worker_mode\u001b[0m\u001b[0;34m(\u001b[0m\u001b[0;34m)\u001b[0m\u001b[0;34m:\u001b[0m  \u001b[0;31m# pylint: disable=protected-access\u001b[0m\u001b[0;34m\u001b[0m\u001b[0;34m\u001b[0m\u001b[0m\n\u001b[0;32m--> 108\u001b[0;31m       \u001b[0;32mreturn\u001b[0m \u001b[0mmethod\u001b[0m\u001b[0;34m(\u001b[0m\u001b[0mself\u001b[0m\u001b[0;34m,\u001b[0m \u001b[0;34m*\u001b[0m\u001b[0margs\u001b[0m\u001b[0;34m,\u001b[0m \u001b[0;34m**\u001b[0m\u001b[0mkwargs\u001b[0m\u001b[0;34m)\u001b[0m\u001b[0;34m\u001b[0m\u001b[0;34m\u001b[0m\u001b[0m\n\u001b[0m\u001b[1;32m    109\u001b[0m \u001b[0;34m\u001b[0m\u001b[0m\n\u001b[1;32m    110\u001b[0m     \u001b[0;31m# Running inside `run_distribute_coordinator` already.\u001b[0m\u001b[0;34m\u001b[0m\u001b[0;34m\u001b[0m\u001b[0;34m\u001b[0m\u001b[0m\n",
            "\u001b[0;32m/usr/local/lib/python3.6/dist-packages/tensorflow/python/keras/engine/training.py\u001b[0m in \u001b[0;36mfit\u001b[0;34m(self, x, y, batch_size, epochs, verbose, callbacks, validation_split, validation_data, shuffle, class_weight, sample_weight, initial_epoch, steps_per_epoch, validation_steps, validation_batch_size, validation_freq, max_queue_size, workers, use_multiprocessing)\u001b[0m\n\u001b[1;32m   1096\u001b[0m                 batch_size=batch_size):\n\u001b[1;32m   1097\u001b[0m               \u001b[0mcallbacks\u001b[0m\u001b[0;34m.\u001b[0m\u001b[0mon_train_batch_begin\u001b[0m\u001b[0;34m(\u001b[0m\u001b[0mstep\u001b[0m\u001b[0;34m)\u001b[0m\u001b[0;34m\u001b[0m\u001b[0;34m\u001b[0m\u001b[0m\n\u001b[0;32m-> 1098\u001b[0;31m               \u001b[0mtmp_logs\u001b[0m \u001b[0;34m=\u001b[0m \u001b[0mtrain_function\u001b[0m\u001b[0;34m(\u001b[0m\u001b[0miterator\u001b[0m\u001b[0;34m)\u001b[0m\u001b[0;34m\u001b[0m\u001b[0;34m\u001b[0m\u001b[0m\n\u001b[0m\u001b[1;32m   1099\u001b[0m               \u001b[0;32mif\u001b[0m \u001b[0mdata_handler\u001b[0m\u001b[0;34m.\u001b[0m\u001b[0mshould_sync\u001b[0m\u001b[0;34m:\u001b[0m\u001b[0;34m\u001b[0m\u001b[0;34m\u001b[0m\u001b[0m\n\u001b[1;32m   1100\u001b[0m                 \u001b[0mcontext\u001b[0m\u001b[0;34m.\u001b[0m\u001b[0masync_wait\u001b[0m\u001b[0;34m(\u001b[0m\u001b[0;34m)\u001b[0m\u001b[0;34m\u001b[0m\u001b[0;34m\u001b[0m\u001b[0m\n",
            "\u001b[0;32m/usr/local/lib/python3.6/dist-packages/tensorflow/python/eager/def_function.py\u001b[0m in \u001b[0;36m__call__\u001b[0;34m(self, *args, **kwds)\u001b[0m\n\u001b[1;32m    778\u001b[0m       \u001b[0;32melse\u001b[0m\u001b[0;34m:\u001b[0m\u001b[0;34m\u001b[0m\u001b[0;34m\u001b[0m\u001b[0m\n\u001b[1;32m    779\u001b[0m         \u001b[0mcompiler\u001b[0m \u001b[0;34m=\u001b[0m \u001b[0;34m\"nonXla\"\u001b[0m\u001b[0;34m\u001b[0m\u001b[0;34m\u001b[0m\u001b[0m\n\u001b[0;32m--> 780\u001b[0;31m         \u001b[0mresult\u001b[0m \u001b[0;34m=\u001b[0m \u001b[0mself\u001b[0m\u001b[0;34m.\u001b[0m\u001b[0m_call\u001b[0m\u001b[0;34m(\u001b[0m\u001b[0;34m*\u001b[0m\u001b[0margs\u001b[0m\u001b[0;34m,\u001b[0m \u001b[0;34m**\u001b[0m\u001b[0mkwds\u001b[0m\u001b[0;34m)\u001b[0m\u001b[0;34m\u001b[0m\u001b[0;34m\u001b[0m\u001b[0m\n\u001b[0m\u001b[1;32m    781\u001b[0m \u001b[0;34m\u001b[0m\u001b[0m\n\u001b[1;32m    782\u001b[0m       \u001b[0mnew_tracing_count\u001b[0m \u001b[0;34m=\u001b[0m \u001b[0mself\u001b[0m\u001b[0;34m.\u001b[0m\u001b[0m_get_tracing_count\u001b[0m\u001b[0;34m(\u001b[0m\u001b[0;34m)\u001b[0m\u001b[0;34m\u001b[0m\u001b[0;34m\u001b[0m\u001b[0m\n",
            "\u001b[0;32m/usr/local/lib/python3.6/dist-packages/tensorflow/python/eager/def_function.py\u001b[0m in \u001b[0;36m_call\u001b[0;34m(self, *args, **kwds)\u001b[0m\n\u001b[1;32m    805\u001b[0m       \u001b[0;31m# In this case we have created variables on the first call, so we run the\u001b[0m\u001b[0;34m\u001b[0m\u001b[0;34m\u001b[0m\u001b[0;34m\u001b[0m\u001b[0m\n\u001b[1;32m    806\u001b[0m       \u001b[0;31m# defunned version which is guaranteed to never create variables.\u001b[0m\u001b[0;34m\u001b[0m\u001b[0;34m\u001b[0m\u001b[0;34m\u001b[0m\u001b[0m\n\u001b[0;32m--> 807\u001b[0;31m       \u001b[0;32mreturn\u001b[0m \u001b[0mself\u001b[0m\u001b[0;34m.\u001b[0m\u001b[0m_stateless_fn\u001b[0m\u001b[0;34m(\u001b[0m\u001b[0;34m*\u001b[0m\u001b[0margs\u001b[0m\u001b[0;34m,\u001b[0m \u001b[0;34m**\u001b[0m\u001b[0mkwds\u001b[0m\u001b[0;34m)\u001b[0m  \u001b[0;31m# pylint: disable=not-callable\u001b[0m\u001b[0;34m\u001b[0m\u001b[0;34m\u001b[0m\u001b[0m\n\u001b[0m\u001b[1;32m    808\u001b[0m     \u001b[0;32melif\u001b[0m \u001b[0mself\u001b[0m\u001b[0;34m.\u001b[0m\u001b[0m_stateful_fn\u001b[0m \u001b[0;32mis\u001b[0m \u001b[0;32mnot\u001b[0m \u001b[0;32mNone\u001b[0m\u001b[0;34m:\u001b[0m\u001b[0;34m\u001b[0m\u001b[0;34m\u001b[0m\u001b[0m\n\u001b[1;32m    809\u001b[0m       \u001b[0;31m# Release the lock early so that multiple threads can perform the call\u001b[0m\u001b[0;34m\u001b[0m\u001b[0;34m\u001b[0m\u001b[0;34m\u001b[0m\u001b[0m\n",
            "\u001b[0;32m/usr/local/lib/python3.6/dist-packages/tensorflow/python/eager/function.py\u001b[0m in \u001b[0;36m__call__\u001b[0;34m(self, *args, **kwargs)\u001b[0m\n\u001b[1;32m   2827\u001b[0m     \u001b[0;32mwith\u001b[0m \u001b[0mself\u001b[0m\u001b[0;34m.\u001b[0m\u001b[0m_lock\u001b[0m\u001b[0;34m:\u001b[0m\u001b[0;34m\u001b[0m\u001b[0;34m\u001b[0m\u001b[0m\n\u001b[1;32m   2828\u001b[0m       \u001b[0mgraph_function\u001b[0m\u001b[0;34m,\u001b[0m \u001b[0margs\u001b[0m\u001b[0;34m,\u001b[0m \u001b[0mkwargs\u001b[0m \u001b[0;34m=\u001b[0m \u001b[0mself\u001b[0m\u001b[0;34m.\u001b[0m\u001b[0m_maybe_define_function\u001b[0m\u001b[0;34m(\u001b[0m\u001b[0margs\u001b[0m\u001b[0;34m,\u001b[0m \u001b[0mkwargs\u001b[0m\u001b[0;34m)\u001b[0m\u001b[0;34m\u001b[0m\u001b[0;34m\u001b[0m\u001b[0m\n\u001b[0;32m-> 2829\u001b[0;31m     \u001b[0;32mreturn\u001b[0m \u001b[0mgraph_function\u001b[0m\u001b[0;34m.\u001b[0m\u001b[0m_filtered_call\u001b[0m\u001b[0;34m(\u001b[0m\u001b[0margs\u001b[0m\u001b[0;34m,\u001b[0m \u001b[0mkwargs\u001b[0m\u001b[0;34m)\u001b[0m  \u001b[0;31m# pylint: disable=protected-access\u001b[0m\u001b[0;34m\u001b[0m\u001b[0;34m\u001b[0m\u001b[0m\n\u001b[0m\u001b[1;32m   2830\u001b[0m \u001b[0;34m\u001b[0m\u001b[0m\n\u001b[1;32m   2831\u001b[0m   \u001b[0;34m@\u001b[0m\u001b[0mproperty\u001b[0m\u001b[0;34m\u001b[0m\u001b[0;34m\u001b[0m\u001b[0m\n",
            "\u001b[0;32m/usr/local/lib/python3.6/dist-packages/tensorflow/python/eager/function.py\u001b[0m in \u001b[0;36m_filtered_call\u001b[0;34m(self, args, kwargs, cancellation_manager)\u001b[0m\n\u001b[1;32m   1846\u001b[0m                            resource_variable_ops.BaseResourceVariable))],\n\u001b[1;32m   1847\u001b[0m         \u001b[0mcaptured_inputs\u001b[0m\u001b[0;34m=\u001b[0m\u001b[0mself\u001b[0m\u001b[0;34m.\u001b[0m\u001b[0mcaptured_inputs\u001b[0m\u001b[0;34m,\u001b[0m\u001b[0;34m\u001b[0m\u001b[0;34m\u001b[0m\u001b[0m\n\u001b[0;32m-> 1848\u001b[0;31m         cancellation_manager=cancellation_manager)\n\u001b[0m\u001b[1;32m   1849\u001b[0m \u001b[0;34m\u001b[0m\u001b[0m\n\u001b[1;32m   1850\u001b[0m   \u001b[0;32mdef\u001b[0m \u001b[0m_call_flat\u001b[0m\u001b[0;34m(\u001b[0m\u001b[0mself\u001b[0m\u001b[0;34m,\u001b[0m \u001b[0margs\u001b[0m\u001b[0;34m,\u001b[0m \u001b[0mcaptured_inputs\u001b[0m\u001b[0;34m,\u001b[0m \u001b[0mcancellation_manager\u001b[0m\u001b[0;34m=\u001b[0m\u001b[0;32mNone\u001b[0m\u001b[0;34m)\u001b[0m\u001b[0;34m:\u001b[0m\u001b[0;34m\u001b[0m\u001b[0;34m\u001b[0m\u001b[0m\n",
            "\u001b[0;32m/usr/local/lib/python3.6/dist-packages/tensorflow/python/eager/function.py\u001b[0m in \u001b[0;36m_call_flat\u001b[0;34m(self, args, captured_inputs, cancellation_manager)\u001b[0m\n\u001b[1;32m   1922\u001b[0m       \u001b[0;31m# No tape is watching; skip to running the function.\u001b[0m\u001b[0;34m\u001b[0m\u001b[0;34m\u001b[0m\u001b[0;34m\u001b[0m\u001b[0m\n\u001b[1;32m   1923\u001b[0m       return self._build_call_outputs(self._inference_function.call(\n\u001b[0;32m-> 1924\u001b[0;31m           ctx, args, cancellation_manager=cancellation_manager))\n\u001b[0m\u001b[1;32m   1925\u001b[0m     forward_backward = self._select_forward_and_backward_functions(\n\u001b[1;32m   1926\u001b[0m         \u001b[0margs\u001b[0m\u001b[0;34m,\u001b[0m\u001b[0;34m\u001b[0m\u001b[0;34m\u001b[0m\u001b[0m\n",
            "\u001b[0;32m/usr/local/lib/python3.6/dist-packages/tensorflow/python/eager/function.py\u001b[0m in \u001b[0;36mcall\u001b[0;34m(self, ctx, args, cancellation_manager)\u001b[0m\n\u001b[1;32m    548\u001b[0m               \u001b[0minputs\u001b[0m\u001b[0;34m=\u001b[0m\u001b[0margs\u001b[0m\u001b[0;34m,\u001b[0m\u001b[0;34m\u001b[0m\u001b[0;34m\u001b[0m\u001b[0m\n\u001b[1;32m    549\u001b[0m               \u001b[0mattrs\u001b[0m\u001b[0;34m=\u001b[0m\u001b[0mattrs\u001b[0m\u001b[0;34m,\u001b[0m\u001b[0;34m\u001b[0m\u001b[0;34m\u001b[0m\u001b[0m\n\u001b[0;32m--> 550\u001b[0;31m               ctx=ctx)\n\u001b[0m\u001b[1;32m    551\u001b[0m         \u001b[0;32melse\u001b[0m\u001b[0;34m:\u001b[0m\u001b[0;34m\u001b[0m\u001b[0;34m\u001b[0m\u001b[0m\n\u001b[1;32m    552\u001b[0m           outputs = execute.execute_with_cancellation(\n",
            "\u001b[0;32m/usr/local/lib/python3.6/dist-packages/tensorflow/python/eager/execute.py\u001b[0m in \u001b[0;36mquick_execute\u001b[0;34m(op_name, num_outputs, inputs, attrs, ctx, name)\u001b[0m\n\u001b[1;32m     58\u001b[0m     \u001b[0mctx\u001b[0m\u001b[0;34m.\u001b[0m\u001b[0mensure_initialized\u001b[0m\u001b[0;34m(\u001b[0m\u001b[0;34m)\u001b[0m\u001b[0;34m\u001b[0m\u001b[0;34m\u001b[0m\u001b[0m\n\u001b[1;32m     59\u001b[0m     tensors = pywrap_tfe.TFE_Py_Execute(ctx._handle, device_name, op_name,\n\u001b[0;32m---> 60\u001b[0;31m                                         inputs, attrs, num_outputs)\n\u001b[0m\u001b[1;32m     61\u001b[0m   \u001b[0;32mexcept\u001b[0m \u001b[0mcore\u001b[0m\u001b[0;34m.\u001b[0m\u001b[0m_NotOkStatusException\u001b[0m \u001b[0;32mas\u001b[0m \u001b[0me\u001b[0m\u001b[0;34m:\u001b[0m\u001b[0;34m\u001b[0m\u001b[0;34m\u001b[0m\u001b[0m\n\u001b[1;32m     62\u001b[0m     \u001b[0;32mif\u001b[0m \u001b[0mname\u001b[0m \u001b[0;32mis\u001b[0m \u001b[0;32mnot\u001b[0m \u001b[0;32mNone\u001b[0m\u001b[0;34m:\u001b[0m\u001b[0;34m\u001b[0m\u001b[0;34m\u001b[0m\u001b[0m\n",
            "\u001b[0;31mKeyboardInterrupt\u001b[0m: "
          ]
        }
      ]
    },
    {
      "cell_type": "markdown",
      "metadata": {
        "id": "mCQm29N1IS2S"
      },
      "source": [
        "##CNN2+FCN6"
      ]
    },
    {
      "cell_type": "code",
      "metadata": {
        "id": "-rW7d17weAQ8"
      },
      "source": [
        "from tensorflow.keras.layers.experimental import preprocessing\r\n",
        "from sklearn.model_selection import train_test_split\r\n",
        "from keras.utils.np_utils import to_categorical\r\n",
        "from keras.layers import Dense, Activation,Dropout ,BatchNormalization\r\n",
        "from keras.models import Sequential\r\n",
        "import matplotlib.pyplot as plt\r\n",
        "from keras import optimizers"
      ],
      "execution_count": null,
      "outputs": []
    },
    {
      "cell_type": "code",
      "metadata": {
        "id": "8mE_6b2IeFBY"
      },
      "source": [
        " model = Sequential([\r\n",
        "          Dense(128, input_shape=(X_train.shape[1],), activation='relu'),\r\n",
        "          Dense(128),\r\n",
        "          BatchNormalization(),\r\n",
        "          Activation(\"relu\"),\r\n",
        "          Dropout(0.5),\r\n",
        "          Dense(128),\r\n",
        "          BatchNormalization(),\r\n",
        "          Activation(\"relu\"),\r\n",
        "          Dropout(0.5),\r\n",
        "          Dense(128),\r\n",
        "          BatchNormalization(),\r\n",
        "          Activation(\"relu\"),\r\n",
        "          Dropout(0.5),\r\n",
        "          Dense(128),\r\n",
        "          BatchNormalization(),\r\n",
        "          Activation(\"relu\"),\r\n",
        "          Dropout(0.5),\r\n",
        "          Dense(1)\r\n",
        "      ])"
      ],
      "execution_count": null,
      "outputs": []
    },
    {
      "cell_type": "code",
      "metadata": {
        "id": "trtgZ4XsHPMj"
      },
      "source": [
        "c2f6 = keras.models.Sequential([ \r\n",
        "    Conv2D(input_shape=(32,32,3),kernel_size=(3,3),strides=(1,1),filters= 32,padding='same',activation='relu'),\r\n",
        "    MaxPool2D(pool_size=(2,2), strides=(2,2)), \r\n",
        "    Conv2D(kernel_size=(3,3),strides=(1,1),filters= 64,padding='same',activation='relu'),\r\n",
        "    MaxPool2D(pool_size=(2,2), strides=(2,2)),\r\n",
        "    Flatten(), \r\n",
        "    keras.layers.Dense(512, activation='relu'), \r\n",
        "    keras.layers.Dropout(0.25),\r\n",
        "    keras.layers.Dense(256, activation='relu'), \r\n",
        "    keras.layers.Dropout(0.25),\r\n",
        "    keras.layers.Dense(128, activation='relu'),  \r\n",
        "    keras.layers.Dropout(0.25), \r\n",
        "    keras.layers.Dense(64, activation='relu'),  #layer가 하나 추가됨\r\n",
        "    keras.layers.Dropout(0.25), \r\n",
        "    keras.layers.Dense(32, activation='relu'),  \r\n",
        "    keras.layers.Dropout(0.25), \r\n",
        "    keras.layers.Dense(10, activation='softmax')\r\n",
        "])\r\n",
        "\r\n",
        "c2f6.compile(optimizer='adam',\r\n",
        "              loss='categorical_crossentropy',\r\n",
        "              metrics=['accuracy']) "
      ],
      "execution_count": null,
      "outputs": []
    },
    {
      "cell_type": "code",
      "metadata": {
        "colab": {
          "base_uri": "https://localhost:8080/",
          "height": 171
        },
        "id": "6x3oqpoIIn3Y",
        "outputId": "469c7440-fa54-4361-c820-4df4d9e57410"
      },
      "source": [
        "c2f6.summary()"
      ],
      "execution_count": null,
      "outputs": [
        {
          "output_type": "error",
          "ename": "NameError",
          "evalue": "ignored",
          "traceback": [
            "\u001b[0;31m---------------------------------------------------------------------------\u001b[0m",
            "\u001b[0;31mNameError\u001b[0m                                 Traceback (most recent call last)",
            "\u001b[0;32m<ipython-input-97-c2f0f4be1a4c>\u001b[0m in \u001b[0;36m<module>\u001b[0;34m()\u001b[0m\n\u001b[0;32m----> 1\u001b[0;31m \u001b[0mc2f6\u001b[0m\u001b[0;34m.\u001b[0m\u001b[0msummary\u001b[0m\u001b[0;34m(\u001b[0m\u001b[0;34m)\u001b[0m\u001b[0;34m\u001b[0m\u001b[0;34m\u001b[0m\u001b[0m\n\u001b[0m",
            "\u001b[0;31mNameError\u001b[0m: name 'c2f6' is not defined"
          ]
        }
      ]
    },
    {
      "cell_type": "code",
      "metadata": {
        "id": "5T4Hg_VFItBb"
      },
      "source": [
        "cp_callback = callbacks.ModelCheckpoint(filepath=\"./cifar10_c2f6_best_weights.{epoch:03d}-{val_accuracy:.4f}.hdf5\", \r\n",
        "                              monitor='val_accuracy', verbose=0, save_best_only=True)\r\n",
        "es_callback = callbacks.EarlyStopping(monitor='val_accuracy', \r\n",
        "                            mode='max', verbose=1, patience=25)    # patience=10, 25, 50"
      ],
      "execution_count": null,
      "outputs": []
    },
    {
      "cell_type": "code",
      "metadata": {
        "colab": {
          "base_uri": "https://localhost:8080/"
        },
        "id": "1xX5BJFmI1i4",
        "outputId": "476a9fa0-291f-4b79-c5b1-d2f1120d9318"
      },
      "source": [
        "c2f6.fit(X_train, y_train, epochs=500, batch_size =32, \r\n",
        "         callbacks=[cp_callback, es_callback], \r\n",
        "         validation_data=(X_test,y_test))"
      ],
      "execution_count": null,
      "outputs": [
        {
          "output_type": "stream",
          "text": [
            "Epoch 1/500\n",
            "1563/1563 [==============================] - 7s 4ms/step - loss: 1.8848 - accuracy: 0.2609 - val_loss: 1.4945 - val_accuracy: 0.4235\n",
            "Epoch 2/500\n",
            "1563/1563 [==============================] - 6s 4ms/step - loss: 1.4544 - accuracy: 0.4685 - val_loss: 1.2872 - val_accuracy: 0.5509\n",
            "Epoch 3/500\n",
            "1563/1563 [==============================] - 6s 4ms/step - loss: 1.2497 - accuracy: 0.5662 - val_loss: 1.1179 - val_accuracy: 0.6139\n",
            "Epoch 4/500\n",
            "1563/1563 [==============================] - 7s 4ms/step - loss: 1.1234 - accuracy: 0.6197 - val_loss: 1.0775 - val_accuracy: 0.6314\n",
            "Epoch 5/500\n",
            "1563/1563 [==============================] - 7s 4ms/step - loss: 1.0356 - accuracy: 0.6509 - val_loss: 1.0145 - val_accuracy: 0.6543\n",
            "Epoch 6/500\n",
            "1563/1563 [==============================] - 7s 4ms/step - loss: 0.9571 - accuracy: 0.6803 - val_loss: 0.9901 - val_accuracy: 0.6728\n",
            "Epoch 7/500\n",
            "1563/1563 [==============================] - 7s 4ms/step - loss: 0.8950 - accuracy: 0.7025 - val_loss: 0.9878 - val_accuracy: 0.6710\n",
            "Epoch 8/500\n",
            "1563/1563 [==============================] - 6s 4ms/step - loss: 0.8416 - accuracy: 0.7171 - val_loss: 0.9873 - val_accuracy: 0.6747\n",
            "Epoch 9/500\n",
            "1563/1563 [==============================] - 7s 4ms/step - loss: 0.7891 - accuracy: 0.7410 - val_loss: 0.9731 - val_accuracy: 0.6830\n",
            "Epoch 10/500\n",
            "1563/1563 [==============================] - 7s 4ms/step - loss: 0.7480 - accuracy: 0.7550 - val_loss: 0.9796 - val_accuracy: 0.6889\n",
            "Epoch 11/500\n",
            "1563/1563 [==============================] - 7s 4ms/step - loss: 0.7057 - accuracy: 0.7699 - val_loss: 0.9757 - val_accuracy: 0.6947\n",
            "Epoch 12/500\n",
            "1563/1563 [==============================] - 6s 4ms/step - loss: 0.6678 - accuracy: 0.7812 - val_loss: 1.0031 - val_accuracy: 0.6977\n",
            "Epoch 13/500\n",
            "1563/1563 [==============================] - 7s 4ms/step - loss: 0.6270 - accuracy: 0.7973 - val_loss: 1.0159 - val_accuracy: 0.7004\n",
            "Epoch 14/500\n",
            "1563/1563 [==============================] - 6s 4ms/step - loss: 0.5898 - accuracy: 0.8083 - val_loss: 1.0074 - val_accuracy: 0.7032\n",
            "Epoch 15/500\n",
            "1563/1563 [==============================] - 6s 4ms/step - loss: 0.5621 - accuracy: 0.8190 - val_loss: 1.0091 - val_accuracy: 0.6987\n",
            "Epoch 16/500\n",
            "1563/1563 [==============================] - 6s 4ms/step - loss: 0.5369 - accuracy: 0.8296 - val_loss: 1.0491 - val_accuracy: 0.6954\n",
            "Epoch 17/500\n",
            "1563/1563 [==============================] - 6s 4ms/step - loss: 0.5106 - accuracy: 0.8380 - val_loss: 1.0589 - val_accuracy: 0.7016\n",
            "Epoch 18/500\n",
            "1563/1563 [==============================] - 6s 4ms/step - loss: 0.4880 - accuracy: 0.8466 - val_loss: 1.0787 - val_accuracy: 0.7018\n",
            "Epoch 19/500\n",
            "1563/1563 [==============================] - 6s 4ms/step - loss: 0.4737 - accuracy: 0.8505 - val_loss: 1.1220 - val_accuracy: 0.7009\n",
            "Epoch 20/500\n",
            "1563/1563 [==============================] - 6s 4ms/step - loss: 0.4523 - accuracy: 0.8591 - val_loss: 1.1439 - val_accuracy: 0.7008\n",
            "Epoch 21/500\n",
            "1563/1563 [==============================] - 6s 4ms/step - loss: 0.4204 - accuracy: 0.8692 - val_loss: 1.1852 - val_accuracy: 0.6953\n",
            "Epoch 22/500\n",
            "1563/1563 [==============================] - 7s 4ms/step - loss: 0.4160 - accuracy: 0.8725 - val_loss: 1.1619 - val_accuracy: 0.6945\n",
            "Epoch 23/500\n",
            "1563/1563 [==============================] - 7s 4ms/step - loss: 0.3911 - accuracy: 0.8799 - val_loss: 1.3182 - val_accuracy: 0.6710\n",
            "Epoch 24/500\n",
            "1563/1563 [==============================] - 7s 4ms/step - loss: 0.3776 - accuracy: 0.8853 - val_loss: 1.2303 - val_accuracy: 0.7011\n",
            "Epoch 25/500\n",
            "1563/1563 [==============================] - 6s 4ms/step - loss: 0.3577 - accuracy: 0.8917 - val_loss: 1.2462 - val_accuracy: 0.6979\n",
            "Epoch 26/500\n",
            "1563/1563 [==============================] - 6s 4ms/step - loss: 0.3535 - accuracy: 0.8944 - val_loss: 1.2062 - val_accuracy: 0.6933\n",
            "Epoch 27/500\n",
            "1563/1563 [==============================] - 6s 4ms/step - loss: 0.3350 - accuracy: 0.8999 - val_loss: 1.2374 - val_accuracy: 0.7017\n",
            "Epoch 28/500\n",
            "1563/1563 [==============================] - 6s 4ms/step - loss: 0.3233 - accuracy: 0.9059 - val_loss: 1.2627 - val_accuracy: 0.7003\n",
            "Epoch 29/500\n",
            "1563/1563 [==============================] - 6s 4ms/step - loss: 0.3165 - accuracy: 0.9075 - val_loss: 1.2656 - val_accuracy: 0.6973\n",
            "Epoch 30/500\n",
            "1563/1563 [==============================] - 6s 4ms/step - loss: 0.3063 - accuracy: 0.9103 - val_loss: 1.2817 - val_accuracy: 0.6996\n",
            "Epoch 31/500\n",
            "1563/1563 [==============================] - 7s 4ms/step - loss: 0.3073 - accuracy: 0.9114 - val_loss: 1.3738 - val_accuracy: 0.6818\n",
            "Epoch 32/500\n",
            "1563/1563 [==============================] - 7s 4ms/step - loss: 0.2939 - accuracy: 0.9158 - val_loss: 1.3943 - val_accuracy: 0.6959\n",
            "Epoch 33/500\n",
            "1563/1563 [==============================] - 7s 4ms/step - loss: 0.2781 - accuracy: 0.9197 - val_loss: 1.3468 - val_accuracy: 0.7020\n",
            "Epoch 34/500\n",
            "1563/1563 [==============================] - 7s 4ms/step - loss: 0.2661 - accuracy: 0.9231 - val_loss: 1.4213 - val_accuracy: 0.7023\n",
            "Epoch 35/500\n",
            "1563/1563 [==============================] - 7s 4ms/step - loss: 0.2661 - accuracy: 0.9244 - val_loss: 1.4206 - val_accuracy: 0.7035\n",
            "Epoch 36/500\n",
            "1563/1563 [==============================] - 7s 4ms/step - loss: 0.2525 - accuracy: 0.9274 - val_loss: 1.5234 - val_accuracy: 0.6852\n",
            "Epoch 37/500\n",
            "1563/1563 [==============================] - 6s 4ms/step - loss: 0.2447 - accuracy: 0.9312 - val_loss: 1.4406 - val_accuracy: 0.6907\n",
            "Epoch 38/500\n",
            "1563/1563 [==============================] - 7s 4ms/step - loss: 0.2459 - accuracy: 0.9309 - val_loss: 1.4174 - val_accuracy: 0.6990\n",
            "Epoch 39/500\n",
            "1563/1563 [==============================] - 6s 4ms/step - loss: 0.2440 - accuracy: 0.9308 - val_loss: 1.4859 - val_accuracy: 0.6954\n",
            "Epoch 40/500\n",
            "1563/1563 [==============================] - 7s 4ms/step - loss: 0.2343 - accuracy: 0.9343 - val_loss: 1.3728 - val_accuracy: 0.6966\n",
            "Epoch 41/500\n",
            "1563/1563 [==============================] - 7s 5ms/step - loss: 0.2251 - accuracy: 0.9378 - val_loss: 1.4871 - val_accuracy: 0.7023\n",
            "Epoch 42/500\n",
            "1563/1563 [==============================] - 7s 4ms/step - loss: 0.2308 - accuracy: 0.9363 - val_loss: 1.3369 - val_accuracy: 0.6966\n",
            "Epoch 43/500\n",
            "1563/1563 [==============================] - 7s 4ms/step - loss: 0.2169 - accuracy: 0.9406 - val_loss: 1.3835 - val_accuracy: 0.6990\n",
            "Epoch 44/500\n",
            "1563/1563 [==============================] - 6s 4ms/step - loss: 0.2077 - accuracy: 0.9429 - val_loss: 1.4936 - val_accuracy: 0.7032\n",
            "Epoch 45/500\n",
            "1563/1563 [==============================] - 6s 4ms/step - loss: 0.2131 - accuracy: 0.9420 - val_loss: 1.5327 - val_accuracy: 0.6923\n",
            "Epoch 46/500\n",
            "1563/1563 [==============================] - 6s 4ms/step - loss: 0.2125 - accuracy: 0.9427 - val_loss: 1.6604 - val_accuracy: 0.6930\n",
            "Epoch 47/500\n",
            "1563/1563 [==============================] - 7s 4ms/step - loss: 0.2074 - accuracy: 0.9442 - val_loss: 1.5767 - val_accuracy: 0.6995\n",
            "Epoch 48/500\n",
            "1563/1563 [==============================] - 7s 4ms/step - loss: 0.2032 - accuracy: 0.9446 - val_loss: 1.5352 - val_accuracy: 0.6915\n",
            "Epoch 49/500\n",
            "1563/1563 [==============================] - 7s 4ms/step - loss: 0.1926 - accuracy: 0.9487 - val_loss: 1.5402 - val_accuracy: 0.7041\n",
            "Epoch 50/500\n",
            "1563/1563 [==============================] - 7s 4ms/step - loss: 0.2004 - accuracy: 0.9467 - val_loss: 1.4180 - val_accuracy: 0.6990\n",
            "Epoch 51/500\n",
            "1563/1563 [==============================] - 6s 4ms/step - loss: 0.1830 - accuracy: 0.9517 - val_loss: 1.5860 - val_accuracy: 0.6921\n",
            "Epoch 52/500\n",
            "1563/1563 [==============================] - 6s 4ms/step - loss: 0.1842 - accuracy: 0.9495 - val_loss: 1.7297 - val_accuracy: 0.6972\n",
            "Epoch 53/500\n",
            "1563/1563 [==============================] - 7s 4ms/step - loss: 0.1801 - accuracy: 0.9521 - val_loss: 1.5805 - val_accuracy: 0.7025\n",
            "Epoch 54/500\n",
            "1563/1563 [==============================] - 6s 4ms/step - loss: 0.1861 - accuracy: 0.9489 - val_loss: 1.5791 - val_accuracy: 0.7035\n",
            "Epoch 55/500\n",
            "1563/1563 [==============================] - 6s 4ms/step - loss: 0.1766 - accuracy: 0.9534 - val_loss: 1.4726 - val_accuracy: 0.6991\n",
            "Epoch 56/500\n",
            "1563/1563 [==============================] - 6s 4ms/step - loss: 0.1785 - accuracy: 0.9535 - val_loss: 1.6368 - val_accuracy: 0.7091\n",
            "Epoch 57/500\n",
            "1563/1563 [==============================] - 6s 4ms/step - loss: 0.1732 - accuracy: 0.9533 - val_loss: 1.6541 - val_accuracy: 0.7048\n",
            "Epoch 58/500\n",
            "1563/1563 [==============================] - 7s 4ms/step - loss: 0.1787 - accuracy: 0.9540 - val_loss: 1.6881 - val_accuracy: 0.6958\n",
            "Epoch 59/500\n",
            "1563/1563 [==============================] - 7s 4ms/step - loss: 0.1720 - accuracy: 0.9549 - val_loss: 1.6902 - val_accuracy: 0.7030\n",
            "Epoch 60/500\n",
            "1563/1563 [==============================] - 7s 4ms/step - loss: 0.1692 - accuracy: 0.9553 - val_loss: 1.6454 - val_accuracy: 0.6955\n",
            "Epoch 61/500\n",
            "1563/1563 [==============================] - 7s 4ms/step - loss: 0.1733 - accuracy: 0.9556 - val_loss: 1.6105 - val_accuracy: 0.7009\n",
            "Epoch 62/500\n",
            "1563/1563 [==============================] - 7s 4ms/step - loss: 0.1682 - accuracy: 0.9555 - val_loss: 1.6497 - val_accuracy: 0.7010\n",
            "Epoch 63/500\n",
            "1563/1563 [==============================] - 6s 4ms/step - loss: 0.1599 - accuracy: 0.9584 - val_loss: 1.5838 - val_accuracy: 0.6991\n",
            "Epoch 64/500\n",
            "1563/1563 [==============================] - 7s 4ms/step - loss: 0.1629 - accuracy: 0.9572 - val_loss: 1.6939 - val_accuracy: 0.6969\n",
            "Epoch 65/500\n",
            "1563/1563 [==============================] - 7s 4ms/step - loss: 0.1649 - accuracy: 0.9569 - val_loss: 1.6820 - val_accuracy: 0.7068\n",
            "Epoch 66/500\n",
            "1563/1563 [==============================] - 7s 4ms/step - loss: 0.1573 - accuracy: 0.9596 - val_loss: 1.6012 - val_accuracy: 0.7063\n",
            "Epoch 67/500\n",
            "1563/1563 [==============================] - 7s 4ms/step - loss: 0.1521 - accuracy: 0.9591 - val_loss: 1.7347 - val_accuracy: 0.6985\n",
            "Epoch 68/500\n",
            "1563/1563 [==============================] - 7s 4ms/step - loss: 0.1508 - accuracy: 0.9615 - val_loss: 1.6487 - val_accuracy: 0.7040\n",
            "Epoch 69/500\n",
            "1563/1563 [==============================] - 6s 4ms/step - loss: 0.1565 - accuracy: 0.9596 - val_loss: 1.6228 - val_accuracy: 0.6988\n",
            "Epoch 70/500\n",
            "1563/1563 [==============================] - 7s 4ms/step - loss: 0.1507 - accuracy: 0.9611 - val_loss: 1.6271 - val_accuracy: 0.6978\n",
            "Epoch 71/500\n",
            "1563/1563 [==============================] - 7s 4ms/step - loss: 0.1569 - accuracy: 0.9589 - val_loss: 1.6195 - val_accuracy: 0.6998\n",
            "Epoch 72/500\n",
            "1563/1563 [==============================] - 7s 4ms/step - loss: 0.1444 - accuracy: 0.9615 - val_loss: 1.8090 - val_accuracy: 0.7064\n",
            "Epoch 73/500\n",
            "1563/1563 [==============================] - 7s 4ms/step - loss: 0.1513 - accuracy: 0.9608 - val_loss: 1.7327 - val_accuracy: 0.7083\n",
            "Epoch 74/500\n",
            "1563/1563 [==============================] - 7s 4ms/step - loss: 0.1460 - accuracy: 0.9635 - val_loss: 1.6071 - val_accuracy: 0.7037\n",
            "Epoch 75/500\n",
            "1563/1563 [==============================] - 7s 4ms/step - loss: 0.1502 - accuracy: 0.9605 - val_loss: 1.9453 - val_accuracy: 0.6986\n",
            "Epoch 76/500\n",
            "1563/1563 [==============================] - 7s 4ms/step - loss: 0.1479 - accuracy: 0.9613 - val_loss: 1.7200 - val_accuracy: 0.7024\n",
            "Epoch 77/500\n",
            "1563/1563 [==============================] - 7s 4ms/step - loss: 0.1523 - accuracy: 0.9610 - val_loss: 1.7207 - val_accuracy: 0.7071\n",
            "Epoch 78/500\n",
            "1563/1563 [==============================] - 6s 4ms/step - loss: 0.1406 - accuracy: 0.9639 - val_loss: 1.8516 - val_accuracy: 0.7024\n",
            "Epoch 79/500\n",
            "1563/1563 [==============================] - 6s 4ms/step - loss: 0.1400 - accuracy: 0.9640 - val_loss: 1.8308 - val_accuracy: 0.7009\n",
            "Epoch 80/500\n",
            "1563/1563 [==============================] - 7s 4ms/step - loss: 0.1450 - accuracy: 0.9637 - val_loss: 1.7819 - val_accuracy: 0.6897\n",
            "Epoch 81/500\n",
            "1563/1563 [==============================] - 7s 4ms/step - loss: 0.1345 - accuracy: 0.9662 - val_loss: 1.7420 - val_accuracy: 0.7076\n",
            "Epoch 00081: early stopping\n"
          ],
          "name": "stdout"
        },
        {
          "output_type": "execute_result",
          "data": {
            "text/plain": [
              "<tensorflow.python.keras.callbacks.History at 0x7fbe2e3635f8>"
            ]
          },
          "metadata": {
            "tags": []
          },
          "execution_count": 29
        }
      ]
    },
    {
      "cell_type": "code",
      "metadata": {
        "colab": {
          "base_uri": "https://localhost:8080/"
        },
        "id": "3QmFu852bTWP",
        "outputId": "ac7bf21d-f466-4923-a0f5-a1bff9553f56"
      },
      "source": [
        "c2f6.evaluate(X_test, y_test, batch_size = 32)"
      ],
      "execution_count": null,
      "outputs": [
        {
          "output_type": "stream",
          "text": [
            "313/313 [==============================] - 1s 3ms/step - loss: 1.9036 - accuracy: 0.7116\n"
          ],
          "name": "stdout"
        },
        {
          "output_type": "execute_result",
          "data": {
            "text/plain": [
              "[1.9036192893981934, 0.7116000056266785]"
            ]
          },
          "metadata": {
            "tags": []
          },
          "execution_count": 16
        }
      ]
    },
    {
      "cell_type": "markdown",
      "metadata": {
        "id": "5XYSVtC-DVsz"
      },
      "source": [
        "# **[DIY] Hidden layer에 따른 정확도**"
      ]
    },
    {
      "cell_type": "markdown",
      "metadata": {
        "id": "8EwwHyi1d-3M"
      },
      "source": [
        ""
      ]
    },
    {
      "cell_type": "code",
      "metadata": {
        "id": "OiCc_UO2rGmp",
        "colab": {
          "base_uri": "https://localhost:8080/"
        },
        "outputId": "164f0b7e-81b2-451e-fe7a-1920188d3ad4"
      },
      "source": [
        "score1=c2f3.evaluate(X_test, y_test, batch_size = 32)\n",
        "score2=c2f3.evaluate(X_test, y_test, batch_size = 32)\n",
        "losses = [score1[0],score2[0]]\n",
        "accuracies= [score1[1],score2[1]]\n",
        "losses,accuracies"
      ],
      "execution_count": null,
      "outputs": [
        {
          "output_type": "stream",
          "text": [
            "313/313 [==============================] - 1s 3ms/step - loss: 2.3076 - accuracy: 0.1076\n",
            "313/313 [==============================] - 1s 3ms/step - loss: 2.3076 - accuracy: 0.1076\n"
          ],
          "name": "stdout"
        },
        {
          "output_type": "execute_result",
          "data": {
            "text/plain": [
              "([2.3075764179229736, 2.3075764179229736],\n",
              " [0.10760000348091125, 0.10760000348091125])"
            ]
          },
          "metadata": {
            "tags": []
          },
          "execution_count": 100
        }
      ]
    },
    {
      "cell_type": "code",
      "metadata": {
        "id": "vZv6a2aVRw9j",
        "colab": {
          "base_uri": "https://localhost:8080/",
          "height": 268
        },
        "outputId": "372ff292-e324-416b-d4b2-1200027daed2"
      },
      "source": [
        "x = np.arange(2)\n",
        "cnns = ['C2F6','C2F3']\n",
        "\n",
        "plt.bar(x, accuracies)\n",
        "plt.xticks(x, cnns)\n",
        "plt.ylim((.5,1.0))\n",
        "plt.show()"
      ],
      "execution_count": null,
      "outputs": [
        {
          "output_type": "display_data",
          "data": {
            "image/png": "[encoded data removed]",
            "text/plain": [
              "<Figure size 432x288 with 1 Axes>"
            ]
          },
          "metadata": {
            "tags": [],
            "needs_background": "light"
          }
        }
      ]
    },
    {
      "cell_type": "markdown",
      "metadata": {
        "id": "63oPbpPejqOj"
      },
      "source": [
        "## Complex model\n",
        "- C4F5 model\n",
        "\n",
        "![cnn_c4f5.png](https://raw.githubusercontent.com/Redwoods/Py/master//pdm2020/my-note/py-tensorflow/images/cnn_c4f5.png)"
      ]
    },
    {
      "cell_type": "code",
      "metadata": {
        "id": "--Jbfpg2dp5S"
      },
      "source": [
        "c4f4 = keras.models.Sequential([ \r\n",
        "    Conv2D(input_shape=(32,32,3),kernel_size=(3,3),strides=(1,1),filters= 64,padding='same',activation='relu'),\r\n",
        "    MaxPool2D(pool_size=(2,2), strides=(2,2)), \r\n",
        "    Conv2D(kernel_size=(3,3),strides=(1,1),filters= 128,padding='same',activation='relu'),\r\n",
        "    MaxPool2D(pool_size=(2,2), strides=(2,2)),\r\n",
        "    Conv2D(kernel_size=(3,3),strides=(1,1),filters= 256,padding='same',activation='relu'),\r\n",
        "    MaxPool2D(pool_size=(2,2), strides=(2,2)),\r\n",
        "    Conv2D(kernel_size=(3,3),strides=(1,1),filters= 512,padding='same',activation='relu'),\r\n",
        "    MaxPool2D(pool_size=(2,2), strides=(2,2)),\r\n",
        "    Flatten(), \r\n",
        "    keras.layers.Dense(128, activation='relu'),   #5단짜리 dense를 만들어준다\r\n",
        "    keras.layers.Dropout(0.25), \r\n",
        "    keras.layers.Dense(256, activation='relu'),  \r\n",
        "    keras.layers.Dropout(0.25), \r\n",
        "    keras.layers.Dense(512, activation='relu'),  \r\n",
        "    keras.layers.Dropout(0.25), \r\n",
        "    keras.layers.Dense(1024, activation='relu'),  \r\n",
        "])\r\n",
        "\r\n",
        "c4f4.compile(optimizer='adam',\r\n",
        "              loss='categorical_crossentropy',\r\n",
        "              metrics=['accuracy']) "
      ],
      "execution_count": null,
      "outputs": []
    },
    {
      "cell_type": "code",
      "metadata": {
        "colab": {
          "base_uri": "https://localhost:8080/"
        },
        "id": "Ci8Q1reXdykU",
        "outputId": "27a52d10-eca7-45a7-a16c-7c9d3a2a1f87"
      },
      "source": [
        "c4f4.summary()"
      ],
      "execution_count": null,
      "outputs": [
        {
          "output_type": "stream",
          "text": [
            "Model: \"sequential_12\"\n",
            "_________________________________________________________________\n",
            "Layer (type)                 Output Shape              Param #   \n",
            "=================================================================\n",
            "conv2d_31 (Conv2D)           (None, 32, 32, 64)        1792      \n",
            "_________________________________________________________________\n",
            "max_pooling2d_29 (MaxPooling (None, 16, 16, 64)        0         \n",
            "_________________________________________________________________\n",
            "conv2d_32 (Conv2D)           (None, 16, 16, 128)       73856     \n",
            "_________________________________________________________________\n",
            "max_pooling2d_30 (MaxPooling (None, 8, 8, 128)         0         \n",
            "_________________________________________________________________\n",
            "conv2d_33 (Conv2D)           (None, 8, 8, 256)         295168    \n",
            "_________________________________________________________________\n",
            "max_pooling2d_31 (MaxPooling (None, 4, 4, 256)         0         \n",
            "_________________________________________________________________\n",
            "conv2d_34 (Conv2D)           (None, 4, 4, 512)         1180160   \n",
            "_________________________________________________________________\n",
            "max_pooling2d_32 (MaxPooling (None, 2, 2, 512)         0         \n",
            "_________________________________________________________________\n",
            "flatten_11 (Flatten)         (None, 2048)              0         \n",
            "_________________________________________________________________\n",
            "dense_36 (Dense)             (None, 128)               262272    \n",
            "_________________________________________________________________\n",
            "dropout_25 (Dropout)         (None, 128)               0         \n",
            "_________________________________________________________________\n",
            "dense_37 (Dense)             (None, 256)               33024     \n",
            "_________________________________________________________________\n",
            "dropout_26 (Dropout)         (None, 256)               0         \n",
            "_________________________________________________________________\n",
            "dense_38 (Dense)             (None, 512)               131584    \n",
            "_________________________________________________________________\n",
            "dropout_27 (Dropout)         (None, 512)               0         \n",
            "_________________________________________________________________\n",
            "dense_39 (Dense)             (None, 1024)              525312    \n",
            "=================================================================\n",
            "Total params: 2,503,168\n",
            "Trainable params: 2,503,168\n",
            "Non-trainable params: 0\n",
            "_________________________________________________________________\n"
          ],
          "name": "stdout"
        }
      ]
    },
    {
      "cell_type": "code",
      "metadata": {
        "id": "kSN8pq8DkQ6B"
      },
      "source": [
        "c4f5 = keras.models.Sequential([ \n",
        "    Conv2D(input_shape=(32,32,3),kernel_size=(3,3),strides=(1,1),filters= 64,padding='same',activation='relu'),\n",
        "    MaxPool2D(pool_size=(2,2), strides=(2,2)), \n",
        "    Conv2D(kernel_size=(3,3),strides=(1,1),filters= 128,padding='same',activation='relu'),\n",
        "    MaxPool2D(pool_size=(2,2), strides=(2,2)),\n",
        "    Conv2D(kernel_size=(3,3),strides=(1,1),filters= 256,padding='same',activation='relu'),\n",
        "    MaxPool2D(pool_size=(2,2), strides=(2,2)),\n",
        "    Conv2D(kernel_size=(3,3),strides=(1,1),filters= 512,padding='same',activation='relu'),\n",
        "    MaxPool2D(pool_size=(2,2), strides=(2,2)),\n",
        "    Flatten(), \n",
        "    keras.layers.Dense(128, activation='relu'),   #5단짜리 dense를 만들어준다\n",
        "    keras.layers.Dropout(0.25), \n",
        "    keras.layers.Dense(256, activation='relu'),  \n",
        "    keras.layers.Dropout(0.25), \n",
        "    keras.layers.Dense(512, activation='relu'),  \n",
        "    keras.layers.Dropout(0.25), \n",
        "    keras.layers.Dense(1024, activation='relu'),  \n",
        "    keras.layers.Dropout(0.25), \n",
        "    keras.layers.Dense(10, activation='softmax')\n",
        "])\n",
        "\n",
        "c4f5.compile(optimizer='adam',\n",
        "              loss='categorical_crossentropy',\n",
        "              metrics=['accuracy']) "
      ],
      "execution_count": null,
      "outputs": []
    },
    {
      "cell_type": "code",
      "metadata": {
        "id": "kwuxPT43d2rE"
      },
      "source": [
        "cp_callback = callbacks.ModelCheckpoint(filepath=\"./cifar10_c4f4_best_weights.{epoch:03d}-{val_accuracy:.4f}.hdf5\", \r\n",
        "                              monitor='val_accuracy', verbose=0, save_best_only=True)\r\n",
        "es_callback = callbacks.EarlyStopping(monitor='val_accuracy', \r\n",
        "                            mode='max', verbose=1, patience=25)    # patience=10, 25, 50"
      ],
      "execution_count": null,
      "outputs": []
    },
    {
      "cell_type": "code",
      "metadata": {
        "colab": {
          "base_uri": "https://localhost:8080/",
          "height": 974
        },
        "id": "Ala1ml64d7iq",
        "outputId": "1b0acce2-e972-4214-b0a3-98197030c864"
      },
      "source": [
        "c4f4.fit(X_train, y_train, epochs=500, batch_size =32, \r\n",
        "         callbacks=[cp_callback, es_callback], \r\n",
        "         validation_data=(X_test,y_test))"
      ],
      "execution_count": null,
      "outputs": [
        {
          "output_type": "stream",
          "text": [
            "Epoch 1/500\n"
          ],
          "name": "stdout"
        },
        {
          "output_type": "error",
          "ename": "ValueError",
          "evalue": "ignored",
          "traceback": [
            "\u001b[0;31m---------------------------------------------------------------------------\u001b[0m",
            "\u001b[0;31mValueError\u001b[0m                                Traceback (most recent call last)",
            "\u001b[0;32m<ipython-input-105-40b5ec81ac8b>\u001b[0m in \u001b[0;36m<module>\u001b[0;34m()\u001b[0m\n\u001b[1;32m      1\u001b[0m c4f4.fit(X_train, y_train, epochs=500, batch_size =32, \n\u001b[1;32m      2\u001b[0m          \u001b[0mcallbacks\u001b[0m\u001b[0;34m=\u001b[0m\u001b[0;34m[\u001b[0m\u001b[0mcp_callback\u001b[0m\u001b[0;34m,\u001b[0m \u001b[0mes_callback\u001b[0m\u001b[0;34m]\u001b[0m\u001b[0;34m,\u001b[0m\u001b[0;34m\u001b[0m\u001b[0;34m\u001b[0m\u001b[0m\n\u001b[0;32m----> 3\u001b[0;31m          validation_data=(X_test,y_test))\n\u001b[0m",
            "\u001b[0;32m/usr/local/lib/python3.6/dist-packages/tensorflow/python/keras/engine/training.py\u001b[0m in \u001b[0;36m_method_wrapper\u001b[0;34m(self, *args, **kwargs)\u001b[0m\n\u001b[1;32m    106\u001b[0m   \u001b[0;32mdef\u001b[0m \u001b[0m_method_wrapper\u001b[0m\u001b[0;34m(\u001b[0m\u001b[0mself\u001b[0m\u001b[0;34m,\u001b[0m \u001b[0;34m*\u001b[0m\u001b[0margs\u001b[0m\u001b[0;34m,\u001b[0m \u001b[0;34m**\u001b[0m\u001b[0mkwargs\u001b[0m\u001b[0;34m)\u001b[0m\u001b[0;34m:\u001b[0m\u001b[0;34m\u001b[0m\u001b[0;34m\u001b[0m\u001b[0m\n\u001b[1;32m    107\u001b[0m     \u001b[0;32mif\u001b[0m \u001b[0;32mnot\u001b[0m \u001b[0mself\u001b[0m\u001b[0;34m.\u001b[0m\u001b[0m_in_multi_worker_mode\u001b[0m\u001b[0;34m(\u001b[0m\u001b[0;34m)\u001b[0m\u001b[0;34m:\u001b[0m  \u001b[0;31m# pylint: disable=protected-access\u001b[0m\u001b[0;34m\u001b[0m\u001b[0;34m\u001b[0m\u001b[0m\n\u001b[0;32m--> 108\u001b[0;31m       \u001b[0;32mreturn\u001b[0m \u001b[0mmethod\u001b[0m\u001b[0;34m(\u001b[0m\u001b[0mself\u001b[0m\u001b[0;34m,\u001b[0m \u001b[0;34m*\u001b[0m\u001b[0margs\u001b[0m\u001b[0;34m,\u001b[0m \u001b[0;34m**\u001b[0m\u001b[0mkwargs\u001b[0m\u001b[0;34m)\u001b[0m\u001b[0;34m\u001b[0m\u001b[0;34m\u001b[0m\u001b[0m\n\u001b[0m\u001b[1;32m    109\u001b[0m \u001b[0;34m\u001b[0m\u001b[0m\n\u001b[1;32m    110\u001b[0m     \u001b[0;31m# Running inside `run_distribute_coordinator` already.\u001b[0m\u001b[0;34m\u001b[0m\u001b[0;34m\u001b[0m\u001b[0;34m\u001b[0m\u001b[0m\n",
            "\u001b[0;32m/usr/local/lib/python3.6/dist-packages/tensorflow/python/keras/engine/training.py\u001b[0m in \u001b[0;36mfit\u001b[0;34m(self, x, y, batch_size, epochs, verbose, callbacks, validation_split, validation_data, shuffle, class_weight, sample_weight, initial_epoch, steps_per_epoch, validation_steps, validation_batch_size, validation_freq, max_queue_size, workers, use_multiprocessing)\u001b[0m\n\u001b[1;32m   1096\u001b[0m                 batch_size=batch_size):\n\u001b[1;32m   1097\u001b[0m               \u001b[0mcallbacks\u001b[0m\u001b[0;34m.\u001b[0m\u001b[0mon_train_batch_begin\u001b[0m\u001b[0;34m(\u001b[0m\u001b[0mstep\u001b[0m\u001b[0;34m)\u001b[0m\u001b[0;34m\u001b[0m\u001b[0;34m\u001b[0m\u001b[0m\n\u001b[0;32m-> 1098\u001b[0;31m               \u001b[0mtmp_logs\u001b[0m \u001b[0;34m=\u001b[0m \u001b[0mtrain_function\u001b[0m\u001b[0;34m(\u001b[0m\u001b[0miterator\u001b[0m\u001b[0;34m)\u001b[0m\u001b[0;34m\u001b[0m\u001b[0;34m\u001b[0m\u001b[0m\n\u001b[0m\u001b[1;32m   1099\u001b[0m               \u001b[0;32mif\u001b[0m \u001b[0mdata_handler\u001b[0m\u001b[0;34m.\u001b[0m\u001b[0mshould_sync\u001b[0m\u001b[0;34m:\u001b[0m\u001b[0;34m\u001b[0m\u001b[0;34m\u001b[0m\u001b[0m\n\u001b[1;32m   1100\u001b[0m                 \u001b[0mcontext\u001b[0m\u001b[0;34m.\u001b[0m\u001b[0masync_wait\u001b[0m\u001b[0;34m(\u001b[0m\u001b[0;34m)\u001b[0m\u001b[0;34m\u001b[0m\u001b[0;34m\u001b[0m\u001b[0m\n",
            "\u001b[0;32m/usr/local/lib/python3.6/dist-packages/tensorflow/python/eager/def_function.py\u001b[0m in \u001b[0;36m__call__\u001b[0;34m(self, *args, **kwds)\u001b[0m\n\u001b[1;32m    778\u001b[0m       \u001b[0;32melse\u001b[0m\u001b[0;34m:\u001b[0m\u001b[0;34m\u001b[0m\u001b[0;34m\u001b[0m\u001b[0m\n\u001b[1;32m    779\u001b[0m         \u001b[0mcompiler\u001b[0m \u001b[0;34m=\u001b[0m \u001b[0;34m\"nonXla\"\u001b[0m\u001b[0;34m\u001b[0m\u001b[0;34m\u001b[0m\u001b[0m\n\u001b[0;32m--> 780\u001b[0;31m         \u001b[0mresult\u001b[0m \u001b[0;34m=\u001b[0m \u001b[0mself\u001b[0m\u001b[0;34m.\u001b[0m\u001b[0m_call\u001b[0m\u001b[0;34m(\u001b[0m\u001b[0;34m*\u001b[0m\u001b[0margs\u001b[0m\u001b[0;34m,\u001b[0m \u001b[0;34m**\u001b[0m\u001b[0mkwds\u001b[0m\u001b[0;34m)\u001b[0m\u001b[0;34m\u001b[0m\u001b[0;34m\u001b[0m\u001b[0m\n\u001b[0m\u001b[1;32m    781\u001b[0m \u001b[0;34m\u001b[0m\u001b[0m\n\u001b[1;32m    782\u001b[0m       \u001b[0mnew_tracing_count\u001b[0m \u001b[0;34m=\u001b[0m \u001b[0mself\u001b[0m\u001b[0;34m.\u001b[0m\u001b[0m_get_tracing_count\u001b[0m\u001b[0;34m(\u001b[0m\u001b[0;34m)\u001b[0m\u001b[0;34m\u001b[0m\u001b[0;34m\u001b[0m\u001b[0m\n",
            "\u001b[0;32m/usr/local/lib/python3.6/dist-packages/tensorflow/python/eager/def_function.py\u001b[0m in \u001b[0;36m_call\u001b[0;34m(self, *args, **kwds)\u001b[0m\n\u001b[1;32m    821\u001b[0m       \u001b[0;31m# This is the first call of __call__, so we have to initialize.\u001b[0m\u001b[0;34m\u001b[0m\u001b[0;34m\u001b[0m\u001b[0;34m\u001b[0m\u001b[0m\n\u001b[1;32m    822\u001b[0m       \u001b[0minitializers\u001b[0m \u001b[0;34m=\u001b[0m \u001b[0;34m[\u001b[0m\u001b[0;34m]\u001b[0m\u001b[0;34m\u001b[0m\u001b[0;34m\u001b[0m\u001b[0m\n\u001b[0;32m--> 823\u001b[0;31m       \u001b[0mself\u001b[0m\u001b[0;34m.\u001b[0m\u001b[0m_initialize\u001b[0m\u001b[0;34m(\u001b[0m\u001b[0margs\u001b[0m\u001b[0;34m,\u001b[0m \u001b[0mkwds\u001b[0m\u001b[0;34m,\u001b[0m \u001b[0madd_initializers_to\u001b[0m\u001b[0;34m=\u001b[0m\u001b[0minitializers\u001b[0m\u001b[0;34m)\u001b[0m\u001b[0;34m\u001b[0m\u001b[0;34m\u001b[0m\u001b[0m\n\u001b[0m\u001b[1;32m    824\u001b[0m     \u001b[0;32mfinally\u001b[0m\u001b[0;34m:\u001b[0m\u001b[0;34m\u001b[0m\u001b[0;34m\u001b[0m\u001b[0m\n\u001b[1;32m    825\u001b[0m       \u001b[0;31m# At this point we know that the initialization is complete (or less\u001b[0m\u001b[0;34m\u001b[0m\u001b[0;34m\u001b[0m\u001b[0;34m\u001b[0m\u001b[0m\n",
            "\u001b[0;32m/usr/local/lib/python3.6/dist-packages/tensorflow/python/eager/def_function.py\u001b[0m in \u001b[0;36m_initialize\u001b[0;34m(self, args, kwds, add_initializers_to)\u001b[0m\n\u001b[1;32m    695\u001b[0m     self._concrete_stateful_fn = (\n\u001b[1;32m    696\u001b[0m         self._stateful_fn._get_concrete_function_internal_garbage_collected(  # pylint: disable=protected-access\n\u001b[0;32m--> 697\u001b[0;31m             *args, **kwds))\n\u001b[0m\u001b[1;32m    698\u001b[0m \u001b[0;34m\u001b[0m\u001b[0m\n\u001b[1;32m    699\u001b[0m     \u001b[0;32mdef\u001b[0m \u001b[0minvalid_creator_scope\u001b[0m\u001b[0;34m(\u001b[0m\u001b[0;34m*\u001b[0m\u001b[0munused_args\u001b[0m\u001b[0;34m,\u001b[0m \u001b[0;34m**\u001b[0m\u001b[0munused_kwds\u001b[0m\u001b[0;34m)\u001b[0m\u001b[0;34m:\u001b[0m\u001b[0;34m\u001b[0m\u001b[0;34m\u001b[0m\u001b[0m\n",
            "\u001b[0;32m/usr/local/lib/python3.6/dist-packages/tensorflow/python/eager/function.py\u001b[0m in \u001b[0;36m_get_concrete_function_internal_garbage_collected\u001b[0;34m(self, *args, **kwargs)\u001b[0m\n\u001b[1;32m   2853\u001b[0m       \u001b[0margs\u001b[0m\u001b[0;34m,\u001b[0m \u001b[0mkwargs\u001b[0m \u001b[0;34m=\u001b[0m \u001b[0;32mNone\u001b[0m\u001b[0;34m,\u001b[0m \u001b[0;32mNone\u001b[0m\u001b[0;34m\u001b[0m\u001b[0;34m\u001b[0m\u001b[0m\n\u001b[1;32m   2854\u001b[0m     \u001b[0;32mwith\u001b[0m \u001b[0mself\u001b[0m\u001b[0;34m.\u001b[0m\u001b[0m_lock\u001b[0m\u001b[0;34m:\u001b[0m\u001b[0;34m\u001b[0m\u001b[0;34m\u001b[0m\u001b[0m\n\u001b[0;32m-> 2855\u001b[0;31m       \u001b[0mgraph_function\u001b[0m\u001b[0;34m,\u001b[0m \u001b[0m_\u001b[0m\u001b[0;34m,\u001b[0m \u001b[0m_\u001b[0m \u001b[0;34m=\u001b[0m \u001b[0mself\u001b[0m\u001b[0;34m.\u001b[0m\u001b[0m_maybe_define_function\u001b[0m\u001b[0;34m(\u001b[0m\u001b[0margs\u001b[0m\u001b[0;34m,\u001b[0m \u001b[0mkwargs\u001b[0m\u001b[0;34m)\u001b[0m\u001b[0;34m\u001b[0m\u001b[0;34m\u001b[0m\u001b[0m\n\u001b[0m\u001b[1;32m   2856\u001b[0m     \u001b[0;32mreturn\u001b[0m \u001b[0mgraph_function\u001b[0m\u001b[0;34m\u001b[0m\u001b[0;34m\u001b[0m\u001b[0m\n\u001b[1;32m   2857\u001b[0m \u001b[0;34m\u001b[0m\u001b[0m\n",
            "\u001b[0;32m/usr/local/lib/python3.6/dist-packages/tensorflow/python/eager/function.py\u001b[0m in \u001b[0;36m_maybe_define_function\u001b[0;34m(self, args, kwargs)\u001b[0m\n\u001b[1;32m   3211\u001b[0m \u001b[0;34m\u001b[0m\u001b[0m\n\u001b[1;32m   3212\u001b[0m       \u001b[0mself\u001b[0m\u001b[0;34m.\u001b[0m\u001b[0m_function_cache\u001b[0m\u001b[0;34m.\u001b[0m\u001b[0mmissed\u001b[0m\u001b[0;34m.\u001b[0m\u001b[0madd\u001b[0m\u001b[0;34m(\u001b[0m\u001b[0mcall_context_key\u001b[0m\u001b[0;34m)\u001b[0m\u001b[0;34m\u001b[0m\u001b[0;34m\u001b[0m\u001b[0m\n\u001b[0;32m-> 3213\u001b[0;31m       \u001b[0mgraph_function\u001b[0m \u001b[0;34m=\u001b[0m \u001b[0mself\u001b[0m\u001b[0;34m.\u001b[0m\u001b[0m_create_graph_function\u001b[0m\u001b[0;34m(\u001b[0m\u001b[0margs\u001b[0m\u001b[0;34m,\u001b[0m \u001b[0mkwargs\u001b[0m\u001b[0;34m)\u001b[0m\u001b[0;34m\u001b[0m\u001b[0;34m\u001b[0m\u001b[0m\n\u001b[0m\u001b[1;32m   3214\u001b[0m       \u001b[0mself\u001b[0m\u001b[0;34m.\u001b[0m\u001b[0m_function_cache\u001b[0m\u001b[0;34m.\u001b[0m\u001b[0mprimary\u001b[0m\u001b[0;34m[\u001b[0m\u001b[0mcache_key\u001b[0m\u001b[0;34m]\u001b[0m \u001b[0;34m=\u001b[0m \u001b[0mgraph_function\u001b[0m\u001b[0;34m\u001b[0m\u001b[0;34m\u001b[0m\u001b[0m\n\u001b[1;32m   3215\u001b[0m       \u001b[0;32mreturn\u001b[0m \u001b[0mgraph_function\u001b[0m\u001b[0;34m,\u001b[0m \u001b[0margs\u001b[0m\u001b[0;34m,\u001b[0m \u001b[0mkwargs\u001b[0m\u001b[0;34m\u001b[0m\u001b[0;34m\u001b[0m\u001b[0m\n",
            "\u001b[0;32m/usr/local/lib/python3.6/dist-packages/tensorflow/python/eager/function.py\u001b[0m in \u001b[0;36m_create_graph_function\u001b[0;34m(self, args, kwargs, override_flat_arg_shapes)\u001b[0m\n\u001b[1;32m   3073\u001b[0m             \u001b[0marg_names\u001b[0m\u001b[0;34m=\u001b[0m\u001b[0marg_names\u001b[0m\u001b[0;34m,\u001b[0m\u001b[0;34m\u001b[0m\u001b[0;34m\u001b[0m\u001b[0m\n\u001b[1;32m   3074\u001b[0m             \u001b[0moverride_flat_arg_shapes\u001b[0m\u001b[0;34m=\u001b[0m\u001b[0moverride_flat_arg_shapes\u001b[0m\u001b[0;34m,\u001b[0m\u001b[0;34m\u001b[0m\u001b[0;34m\u001b[0m\u001b[0m\n\u001b[0;32m-> 3075\u001b[0;31m             capture_by_value=self._capture_by_value),\n\u001b[0m\u001b[1;32m   3076\u001b[0m         \u001b[0mself\u001b[0m\u001b[0;34m.\u001b[0m\u001b[0m_function_attributes\u001b[0m\u001b[0;34m,\u001b[0m\u001b[0;34m\u001b[0m\u001b[0;34m\u001b[0m\u001b[0m\n\u001b[1;32m   3077\u001b[0m         \u001b[0mfunction_spec\u001b[0m\u001b[0;34m=\u001b[0m\u001b[0mself\u001b[0m\u001b[0;34m.\u001b[0m\u001b[0mfunction_spec\u001b[0m\u001b[0;34m,\u001b[0m\u001b[0;34m\u001b[0m\u001b[0;34m\u001b[0m\u001b[0m\n",
            "\u001b[0;32m/usr/local/lib/python3.6/dist-packages/tensorflow/python/framework/func_graph.py\u001b[0m in \u001b[0;36mfunc_graph_from_py_func\u001b[0;34m(name, python_func, args, kwargs, signature, func_graph, autograph, autograph_options, add_control_dependencies, arg_names, op_return_value, collections, capture_by_value, override_flat_arg_shapes)\u001b[0m\n\u001b[1;32m    984\u001b[0m         \u001b[0m_\u001b[0m\u001b[0;34m,\u001b[0m \u001b[0moriginal_func\u001b[0m \u001b[0;34m=\u001b[0m \u001b[0mtf_decorator\u001b[0m\u001b[0;34m.\u001b[0m\u001b[0munwrap\u001b[0m\u001b[0;34m(\u001b[0m\u001b[0mpython_func\u001b[0m\u001b[0;34m)\u001b[0m\u001b[0;34m\u001b[0m\u001b[0;34m\u001b[0m\u001b[0m\n\u001b[1;32m    985\u001b[0m \u001b[0;34m\u001b[0m\u001b[0m\n\u001b[0;32m--> 986\u001b[0;31m       \u001b[0mfunc_outputs\u001b[0m \u001b[0;34m=\u001b[0m \u001b[0mpython_func\u001b[0m\u001b[0;34m(\u001b[0m\u001b[0;34m*\u001b[0m\u001b[0mfunc_args\u001b[0m\u001b[0;34m,\u001b[0m \u001b[0;34m**\u001b[0m\u001b[0mfunc_kwargs\u001b[0m\u001b[0;34m)\u001b[0m\u001b[0;34m\u001b[0m\u001b[0;34m\u001b[0m\u001b[0m\n\u001b[0m\u001b[1;32m    987\u001b[0m \u001b[0;34m\u001b[0m\u001b[0m\n\u001b[1;32m    988\u001b[0m       \u001b[0;31m# invariant: `func_outputs` contains only Tensors, CompositeTensors,\u001b[0m\u001b[0;34m\u001b[0m\u001b[0;34m\u001b[0m\u001b[0;34m\u001b[0m\u001b[0m\n",
            "\u001b[0;32m/usr/local/lib/python3.6/dist-packages/tensorflow/python/eager/def_function.py\u001b[0m in \u001b[0;36mwrapped_fn\u001b[0;34m(*args, **kwds)\u001b[0m\n\u001b[1;32m    598\u001b[0m         \u001b[0;31m# __wrapped__ allows AutoGraph to swap in a converted function. We give\u001b[0m\u001b[0;34m\u001b[0m\u001b[0;34m\u001b[0m\u001b[0;34m\u001b[0m\u001b[0m\n\u001b[1;32m    599\u001b[0m         \u001b[0;31m# the function a weak reference to itself to avoid a reference cycle.\u001b[0m\u001b[0;34m\u001b[0m\u001b[0;34m\u001b[0m\u001b[0;34m\u001b[0m\u001b[0m\n\u001b[0;32m--> 600\u001b[0;31m         \u001b[0;32mreturn\u001b[0m \u001b[0mweak_wrapped_fn\u001b[0m\u001b[0;34m(\u001b[0m\u001b[0;34m)\u001b[0m\u001b[0;34m.\u001b[0m\u001b[0m__wrapped__\u001b[0m\u001b[0;34m(\u001b[0m\u001b[0;34m*\u001b[0m\u001b[0margs\u001b[0m\u001b[0;34m,\u001b[0m \u001b[0;34m**\u001b[0m\u001b[0mkwds\u001b[0m\u001b[0;34m)\u001b[0m\u001b[0;34m\u001b[0m\u001b[0;34m\u001b[0m\u001b[0m\n\u001b[0m\u001b[1;32m    601\u001b[0m     \u001b[0mweak_wrapped_fn\u001b[0m \u001b[0;34m=\u001b[0m \u001b[0mweakref\u001b[0m\u001b[0;34m.\u001b[0m\u001b[0mref\u001b[0m\u001b[0;34m(\u001b[0m\u001b[0mwrapped_fn\u001b[0m\u001b[0;34m)\u001b[0m\u001b[0;34m\u001b[0m\u001b[0;34m\u001b[0m\u001b[0m\n\u001b[1;32m    602\u001b[0m \u001b[0;34m\u001b[0m\u001b[0m\n",
            "\u001b[0;32m/usr/local/lib/python3.6/dist-packages/tensorflow/python/framework/func_graph.py\u001b[0m in \u001b[0;36mwrapper\u001b[0;34m(*args, **kwargs)\u001b[0m\n\u001b[1;32m    971\u001b[0m           \u001b[0;32mexcept\u001b[0m \u001b[0mException\u001b[0m \u001b[0;32mas\u001b[0m \u001b[0me\u001b[0m\u001b[0;34m:\u001b[0m  \u001b[0;31m# pylint:disable=broad-except\u001b[0m\u001b[0;34m\u001b[0m\u001b[0;34m\u001b[0m\u001b[0m\n\u001b[1;32m    972\u001b[0m             \u001b[0;32mif\u001b[0m \u001b[0mhasattr\u001b[0m\u001b[0;34m(\u001b[0m\u001b[0me\u001b[0m\u001b[0;34m,\u001b[0m \u001b[0;34m\"ag_error_metadata\"\u001b[0m\u001b[0;34m)\u001b[0m\u001b[0;34m:\u001b[0m\u001b[0;34m\u001b[0m\u001b[0;34m\u001b[0m\u001b[0m\n\u001b[0;32m--> 973\u001b[0;31m               \u001b[0;32mraise\u001b[0m \u001b[0me\u001b[0m\u001b[0;34m.\u001b[0m\u001b[0mag_error_metadata\u001b[0m\u001b[0;34m.\u001b[0m\u001b[0mto_exception\u001b[0m\u001b[0;34m(\u001b[0m\u001b[0me\u001b[0m\u001b[0;34m)\u001b[0m\u001b[0;34m\u001b[0m\u001b[0;34m\u001b[0m\u001b[0m\n\u001b[0m\u001b[1;32m    974\u001b[0m             \u001b[0;32melse\u001b[0m\u001b[0;34m:\u001b[0m\u001b[0;34m\u001b[0m\u001b[0;34m\u001b[0m\u001b[0m\n\u001b[1;32m    975\u001b[0m               \u001b[0;32mraise\u001b[0m\u001b[0;34m\u001b[0m\u001b[0;34m\u001b[0m\u001b[0m\n",
            "\u001b[0;31mValueError\u001b[0m: in user code:\n\n    /usr/local/lib/python3.6/dist-packages/tensorflow/python/keras/engine/training.py:806 train_function  *\n        return step_function(self, iterator)\n    /usr/local/lib/python3.6/dist-packages/tensorflow/python/keras/engine/training.py:796 step_function  **\n        outputs = model.distribute_strategy.run(run_step, args=(data,))\n    /usr/local/lib/python3.6/dist-packages/tensorflow/python/distribute/distribute_lib.py:1211 run\n        return self._extended.call_for_each_replica(fn, args=args, kwargs=kwargs)\n    /usr/local/lib/python3.6/dist-packages/tensorflow/python/distribute/distribute_lib.py:2585 call_for_each_replica\n        return self._call_for_each_replica(fn, args, kwargs)\n    /usr/local/lib/python3.6/dist-packages/tensorflow/python/distribute/distribute_lib.py:2945 _call_for_each_replica\n        return fn(*args, **kwargs)\n    /usr/local/lib/python3.6/dist-packages/tensorflow/python/keras/engine/training.py:789 run_step  **\n        outputs = model.train_step(data)\n    /usr/local/lib/python3.6/dist-packages/tensorflow/python/keras/engine/training.py:749 train_step\n        y, y_pred, sample_weight, regularization_losses=self.losses)\n    /usr/local/lib/python3.6/dist-packages/tensorflow/python/keras/engine/compile_utils.py:204 __call__\n        loss_value = loss_obj(y_t, y_p, sample_weight=sw)\n    /usr/local/lib/python3.6/dist-packages/tensorflow/python/keras/losses.py:149 __call__\n        losses = ag_call(y_true, y_pred)\n    /usr/local/lib/python3.6/dist-packages/tensorflow/python/keras/losses.py:253 call  **\n        return ag_fn(y_true, y_pred, **self._fn_kwargs)\n    /usr/local/lib/python3.6/dist-packages/tensorflow/python/util/dispatch.py:201 wrapper\n        return target(*args, **kwargs)\n    /usr/local/lib/python3.6/dist-packages/tensorflow/python/keras/losses.py:1535 categorical_crossentropy\n        return K.categorical_crossentropy(y_true, y_pred, from_logits=from_logits)\n    /usr/local/lib/python3.6/dist-packages/tensorflow/python/util/dispatch.py:201 wrapper\n        return target(*args, **kwargs)\n    /usr/local/lib/python3.6/dist-packages/tensorflow/python/keras/backend.py:4687 categorical_crossentropy\n        target.shape.assert_is_compatible_with(output.shape)\n    /usr/local/lib/python3.6/dist-packages/tensorflow/python/framework/tensor_shape.py:1134 assert_is_compatible_with\n        raise ValueError(\"Shapes %s and %s are incompatible\" % (self, other))\n\n    ValueError: Shapes (None, 10) and (None, 1024) are incompatible\n"
          ]
        }
      ]
    },
    {
      "cell_type": "code",
      "metadata": {
        "colab": {
          "base_uri": "https://localhost:8080/"
        },
        "id": "k7qWzpLRkQ6C",
        "outputId": "c7d4db3a-147d-476f-907b-e5b06a050ee2"
      },
      "source": [
        "c4f5.summary()"
      ],
      "execution_count": null,
      "outputs": [
        {
          "output_type": "stream",
          "text": [
            "Model: \"sequential_6\"\n",
            "_________________________________________________________________\n",
            "Layer (type)                 Output Shape              Param #   \n",
            "=================================================================\n",
            "conv2d_10 (Conv2D)           (None, 32, 32, 64)        1792      \n",
            "_________________________________________________________________\n",
            "max_pooling2d_10 (MaxPooling (None, 16, 16, 64)        0         \n",
            "_________________________________________________________________\n",
            "conv2d_11 (Conv2D)           (None, 16, 16, 128)       73856     \n",
            "_________________________________________________________________\n",
            "max_pooling2d_11 (MaxPooling (None, 8, 8, 128)         0         \n",
            "_________________________________________________________________\n",
            "conv2d_12 (Conv2D)           (None, 8, 8, 256)         295168    \n",
            "_________________________________________________________________\n",
            "max_pooling2d_12 (MaxPooling (None, 4, 4, 256)         0         \n",
            "_________________________________________________________________\n",
            "conv2d_13 (Conv2D)           (None, 4, 4, 512)         1180160   \n",
            "_________________________________________________________________\n",
            "max_pooling2d_13 (MaxPooling (None, 2, 2, 512)         0         \n",
            "_________________________________________________________________\n",
            "flatten_4 (Flatten)          (None, 2048)              0         \n",
            "_________________________________________________________________\n",
            "dense_32 (Dense)             (None, 128)               262272    \n",
            "_________________________________________________________________\n",
            "dropout_24 (Dropout)         (None, 128)               0         \n",
            "_________________________________________________________________\n",
            "dense_33 (Dense)             (None, 256)               33024     \n",
            "_________________________________________________________________\n",
            "dropout_25 (Dropout)         (None, 256)               0         \n",
            "_________________________________________________________________\n",
            "dense_34 (Dense)             (None, 512)               131584    \n",
            "_________________________________________________________________\n",
            "dropout_26 (Dropout)         (None, 512)               0         \n",
            "_________________________________________________________________\n",
            "dense_35 (Dense)             (None, 1024)              525312    \n",
            "_________________________________________________________________\n",
            "dropout_27 (Dropout)         (None, 1024)              0         \n",
            "_________________________________________________________________\n",
            "dense_36 (Dense)             (None, 10)                10250     \n",
            "=================================================================\n",
            "Total params: 2,513,418\n",
            "Trainable params: 2,513,418\n",
            "Non-trainable params: 0\n",
            "_________________________________________________________________\n"
          ],
          "name": "stdout"
        }
      ]
    },
    {
      "cell_type": "code",
      "metadata": {
        "id": "-pKJWy-2kQ6C"
      },
      "source": [
        "cp_callback = callbacks.ModelCheckpoint(filepath=\"./cifar10_c4f5_best_weights.{epoch:03d}-{val_accuracy:.4f}.hdf5\", \n",
        "                              monitor='val_accuracy', verbose=0, save_best_only=True)\n",
        "es_callback = callbacks.EarlyStopping(monitor='val_accuracy', \n",
        "                            mode='max', verbose=1, patience=25)    # patience=10, 25, 50"
      ],
      "execution_count": null,
      "outputs": []
    },
    {
      "cell_type": "code",
      "metadata": {
        "colab": {
          "base_uri": "https://localhost:8080/"
        },
        "id": "wKdgr9EskQ6C",
        "outputId": "25f64e0c-7f72-4e90-89a7-620bf5ca3bab"
      },
      "source": [
        "c4f5.fit(X_train, y_train, epochs=500, batch_size =32, \n",
        "         callbacks=[cp_callback, es_callback], \n",
        "         validation_data=(X_test,y_test))"
      ],
      "execution_count": null,
      "outputs": [
        {
          "output_type": "stream",
          "text": [
            "Epoch 1/500\n",
            "1563/1563 [==============================] - 11s 7ms/step - loss: 1.6782 - accuracy: 0.3557 - val_loss: 1.3481 - val_accuracy: 0.5024\n",
            "Epoch 2/500\n",
            "1563/1563 [==============================] - 11s 7ms/step - loss: 1.2402 - accuracy: 0.5565 - val_loss: 1.0675 - val_accuracy: 0.6290\n",
            "Epoch 3/500\n",
            "1563/1563 [==============================] - 11s 7ms/step - loss: 1.0470 - accuracy: 0.6369 - val_loss: 1.0157 - val_accuracy: 0.6525\n",
            "Epoch 4/500\n",
            "1563/1563 [==============================] - 11s 7ms/step - loss: 0.9265 - accuracy: 0.6825 - val_loss: 0.9822 - val_accuracy: 0.6663\n",
            "Epoch 5/500\n",
            "1563/1563 [==============================] - 11s 7ms/step - loss: 0.8352 - accuracy: 0.7188 - val_loss: 0.9419 - val_accuracy: 0.6743\n",
            "Epoch 6/500\n",
            "1563/1563 [==============================] - 11s 7ms/step - loss: 0.7674 - accuracy: 0.7441 - val_loss: 0.8872 - val_accuracy: 0.7121\n",
            "Epoch 7/500\n",
            "1563/1563 [==============================] - 11s 7ms/step - loss: 0.7042 - accuracy: 0.7634 - val_loss: 0.9166 - val_accuracy: 0.6952\n",
            "Epoch 8/500\n",
            "1563/1563 [==============================] - 11s 7ms/step - loss: 0.6526 - accuracy: 0.7825 - val_loss: 0.8145 - val_accuracy: 0.7261\n",
            "Epoch 9/500\n",
            "1563/1563 [==============================] - 11s 7ms/step - loss: 0.6169 - accuracy: 0.7979 - val_loss: 0.8600 - val_accuracy: 0.7199\n",
            "Epoch 10/500\n",
            "1563/1563 [==============================] - 11s 7ms/step - loss: 0.5747 - accuracy: 0.8149 - val_loss: 0.8309 - val_accuracy: 0.7237\n",
            "Epoch 11/500\n",
            "1563/1563 [==============================] - 11s 7ms/step - loss: 0.5464 - accuracy: 0.8235 - val_loss: 0.8987 - val_accuracy: 0.7068\n",
            "Epoch 12/500\n",
            "1563/1563 [==============================] - 11s 7ms/step - loss: 0.5203 - accuracy: 0.8322 - val_loss: 0.8469 - val_accuracy: 0.7314\n",
            "Epoch 13/500\n",
            "1563/1563 [==============================] - 11s 7ms/step - loss: 0.4987 - accuracy: 0.8411 - val_loss: 0.8955 - val_accuracy: 0.7235\n",
            "Epoch 14/500\n",
            "1563/1563 [==============================] - 11s 7ms/step - loss: 0.4669 - accuracy: 0.8511 - val_loss: 0.8650 - val_accuracy: 0.7363\n",
            "Epoch 15/500\n",
            "1563/1563 [==============================] - 11s 7ms/step - loss: 0.4552 - accuracy: 0.8571 - val_loss: 0.8890 - val_accuracy: 0.7246\n",
            "Epoch 16/500\n",
            "1563/1563 [==============================] - 11s 7ms/step - loss: 0.4320 - accuracy: 0.8653 - val_loss: 0.8963 - val_accuracy: 0.7335\n",
            "Epoch 17/500\n",
            "1563/1563 [==============================] - 11s 7ms/step - loss: 0.4181 - accuracy: 0.8702 - val_loss: 0.9101 - val_accuracy: 0.7326\n",
            "Epoch 18/500\n",
            "1563/1563 [==============================] - 11s 7ms/step - loss: 0.3971 - accuracy: 0.8778 - val_loss: 0.8851 - val_accuracy: 0.7363\n",
            "Epoch 19/500\n",
            "1563/1563 [==============================] - 11s 7ms/step - loss: 0.3954 - accuracy: 0.8791 - val_loss: 0.9037 - val_accuracy: 0.7353\n",
            "Epoch 20/500\n",
            "1563/1563 [==============================] - 11s 7ms/step - loss: 0.3815 - accuracy: 0.8844 - val_loss: 0.9728 - val_accuracy: 0.7338\n",
            "Epoch 21/500\n",
            "1563/1563 [==============================] - 11s 7ms/step - loss: 0.3656 - accuracy: 0.8902 - val_loss: 0.9484 - val_accuracy: 0.7327\n",
            "Epoch 22/500\n",
            "1563/1563 [==============================] - 11s 7ms/step - loss: 0.3613 - accuracy: 0.8923 - val_loss: 0.9696 - val_accuracy: 0.7264\n",
            "Epoch 23/500\n",
            "1563/1563 [==============================] - 11s 7ms/step - loss: 0.3509 - accuracy: 0.8943 - val_loss: 0.9522 - val_accuracy: 0.7289\n",
            "Epoch 24/500\n",
            "1563/1563 [==============================] - 11s 7ms/step - loss: 0.3346 - accuracy: 0.8979 - val_loss: 0.9438 - val_accuracy: 0.7364\n",
            "Epoch 25/500\n",
            "1563/1563 [==============================] - 11s 7ms/step - loss: 0.3338 - accuracy: 0.9010 - val_loss: 1.0134 - val_accuracy: 0.7329\n",
            "Epoch 26/500\n",
            "1563/1563 [==============================] - 11s 7ms/step - loss: 0.3318 - accuracy: 0.9030 - val_loss: 0.9676 - val_accuracy: 0.7364\n",
            "Epoch 27/500\n",
            "1563/1563 [==============================] - 11s 7ms/step - loss: 0.3272 - accuracy: 0.9055 - val_loss: 0.9511 - val_accuracy: 0.7342\n",
            "Epoch 28/500\n",
            "1563/1563 [==============================] - 11s 7ms/step - loss: 0.3226 - accuracy: 0.9069 - val_loss: 0.9832 - val_accuracy: 0.7350\n",
            "Epoch 29/500\n",
            "1563/1563 [==============================] - 11s 7ms/step - loss: 0.3070 - accuracy: 0.9104 - val_loss: 0.9552 - val_accuracy: 0.7415\n",
            "Epoch 30/500\n",
            "1563/1563 [==============================] - 11s 7ms/step - loss: 0.3003 - accuracy: 0.9108 - val_loss: 1.0464 - val_accuracy: 0.7341\n",
            "Epoch 31/500\n",
            "1563/1563 [==============================] - 11s 7ms/step - loss: 0.3074 - accuracy: 0.9130 - val_loss: 0.9507 - val_accuracy: 0.7386\n",
            "Epoch 32/500\n",
            "1563/1563 [==============================] - 11s 7ms/step - loss: 0.2931 - accuracy: 0.9148 - val_loss: 1.0337 - val_accuracy: 0.7222\n",
            "Epoch 33/500\n",
            "1563/1563 [==============================] - 11s 7ms/step - loss: 0.2989 - accuracy: 0.9151 - val_loss: 0.9745 - val_accuracy: 0.7369\n",
            "Epoch 34/500\n",
            "1563/1563 [==============================] - 11s 7ms/step - loss: 0.3085 - accuracy: 0.9122 - val_loss: 0.9540 - val_accuracy: 0.7356\n",
            "Epoch 35/500\n",
            "1563/1563 [==============================] - 11s 7ms/step - loss: 0.4143 - accuracy: 0.8831 - val_loss: 0.9430 - val_accuracy: 0.7195\n",
            "Epoch 36/500\n",
            "1563/1563 [==============================] - 11s 7ms/step - loss: 0.2911 - accuracy: 0.9182 - val_loss: 1.0406 - val_accuracy: 0.7227\n",
            "Epoch 37/500\n",
            "1563/1563 [==============================] - 11s 7ms/step - loss: 0.2830 - accuracy: 0.9196 - val_loss: 1.0269 - val_accuracy: 0.7378\n",
            "Epoch 38/500\n",
            "1563/1563 [==============================] - 11s 7ms/step - loss: 0.2702 - accuracy: 0.9260 - val_loss: 1.0985 - val_accuracy: 0.7384\n",
            "Epoch 39/500\n",
            "1563/1563 [==============================] - 11s 7ms/step - loss: 0.2810 - accuracy: 0.9230 - val_loss: 1.0337 - val_accuracy: 0.7393\n",
            "Epoch 40/500\n",
            "1563/1563 [==============================] - 11s 7ms/step - loss: 0.2669 - accuracy: 0.9284 - val_loss: 1.0304 - val_accuracy: 0.7426\n",
            "Epoch 41/500\n",
            "1563/1563 [==============================] - 11s 7ms/step - loss: 0.2998 - accuracy: 0.9221 - val_loss: 1.5398 - val_accuracy: 0.5099\n",
            "Epoch 42/500\n",
            "1563/1563 [==============================] - 11s 7ms/step - loss: 0.3384 - accuracy: 0.9034 - val_loss: 1.0045 - val_accuracy: 0.7413\n",
            "Epoch 43/500\n",
            "1563/1563 [==============================] - 11s 7ms/step - loss: 0.2934 - accuracy: 0.9213 - val_loss: 1.2552 - val_accuracy: 0.6293\n",
            "Epoch 44/500\n",
            "1563/1563 [==============================] - 11s 7ms/step - loss: 0.2963 - accuracy: 0.9194 - val_loss: 1.0065 - val_accuracy: 0.7359\n",
            "Epoch 45/500\n",
            "1563/1563 [==============================] - 11s 7ms/step - loss: 0.3028 - accuracy: 0.9189 - val_loss: 1.1053 - val_accuracy: 0.7440\n",
            "Epoch 46/500\n",
            "1563/1563 [==============================] - 11s 7ms/step - loss: 0.2602 - accuracy: 0.9314 - val_loss: 0.9885 - val_accuracy: 0.7488\n",
            "Epoch 47/500\n",
            "1563/1563 [==============================] - 11s 7ms/step - loss: 0.2352 - accuracy: 0.9368 - val_loss: 1.0131 - val_accuracy: 0.7428\n",
            "Epoch 48/500\n",
            "1563/1563 [==============================] - 11s 7ms/step - loss: 0.2868 - accuracy: 0.9263 - val_loss: 1.0668 - val_accuracy: 0.6922\n",
            "Epoch 49/500\n",
            "1563/1563 [==============================] - 11s 7ms/step - loss: 0.2847 - accuracy: 0.9255 - val_loss: 1.0581 - val_accuracy: 0.7450\n",
            "Epoch 50/500\n",
            "1563/1563 [==============================] - 11s 7ms/step - loss: 0.2550 - accuracy: 0.9345 - val_loss: 1.1543 - val_accuracy: 0.7394\n",
            "Epoch 51/500\n",
            "1563/1563 [==============================] - 11s 7ms/step - loss: 0.2369 - accuracy: 0.9370 - val_loss: 1.0764 - val_accuracy: 0.7299\n",
            "Epoch 52/500\n",
            "1563/1563 [==============================] - 11s 7ms/step - loss: 0.2345 - accuracy: 0.9398 - val_loss: 1.1238 - val_accuracy: 0.7329\n",
            "Epoch 53/500\n",
            "1563/1563 [==============================] - 12s 8ms/step - loss: 0.2476 - accuracy: 0.9359 - val_loss: 1.1399 - val_accuracy: 0.7087\n",
            "Epoch 54/500\n",
            "1563/1563 [==============================] - 11s 7ms/step - loss: 0.2823 - accuracy: 0.9247 - val_loss: 1.0402 - val_accuracy: 0.7305\n",
            "Epoch 55/500\n",
            "1563/1563 [==============================] - 11s 7ms/step - loss: 0.2321 - accuracy: 0.9395 - val_loss: 1.1615 - val_accuracy: 0.7439\n",
            "Epoch 56/500\n",
            "1563/1563 [==============================] - 11s 7ms/step - loss: 0.2571 - accuracy: 0.9338 - val_loss: 1.1252 - val_accuracy: 0.7395\n",
            "Epoch 57/500\n",
            "1563/1563 [==============================] - 11s 7ms/step - loss: 0.2435 - accuracy: 0.9375 - val_loss: 1.1358 - val_accuracy: 0.7364\n",
            "Epoch 58/500\n",
            "1563/1563 [==============================] - 11s 7ms/step - loss: 0.2353 - accuracy: 0.9397 - val_loss: 1.1752 - val_accuracy: 0.7428\n",
            "Epoch 59/500\n",
            "1563/1563 [==============================] - 11s 7ms/step - loss: 0.2671 - accuracy: 0.9333 - val_loss: 1.2472 - val_accuracy: 0.7350\n",
            "Epoch 60/500\n",
            "1563/1563 [==============================] - 11s 7ms/step - loss: 0.2373 - accuracy: 0.9400 - val_loss: 1.0795 - val_accuracy: 0.7333\n",
            "Epoch 61/500\n",
            "1563/1563 [==============================] - 11s 7ms/step - loss: 0.2356 - accuracy: 0.9407 - val_loss: 1.1567 - val_accuracy: 0.7409\n",
            "Epoch 62/500\n",
            "1563/1563 [==============================] - 11s 7ms/step - loss: 0.4384 - accuracy: 0.8905 - val_loss: 1.0876 - val_accuracy: 0.7382\n",
            "Epoch 63/500\n",
            "1563/1563 [==============================] - 11s 7ms/step - loss: 0.2818 - accuracy: 0.9269 - val_loss: 1.2001 - val_accuracy: 0.7211\n",
            "Epoch 64/500\n",
            "1563/1563 [==============================] - 11s 7ms/step - loss: 0.2256 - accuracy: 0.9427 - val_loss: 1.2701 - val_accuracy: 0.7461\n",
            "Epoch 65/500\n",
            "1563/1563 [==============================] - 11s 7ms/step - loss: 0.2514 - accuracy: 0.9385 - val_loss: 1.1797 - val_accuracy: 0.7176\n",
            "Epoch 66/500\n",
            "1563/1563 [==============================] - 11s 7ms/step - loss: 0.2619 - accuracy: 0.9348 - val_loss: 1.3044 - val_accuracy: 0.7396\n",
            "Epoch 67/500\n",
            "1563/1563 [==============================] - 11s 7ms/step - loss: 0.2573 - accuracy: 0.9367 - val_loss: 1.1485 - val_accuracy: 0.7382\n",
            "Epoch 68/500\n",
            "1563/1563 [==============================] - 11s 7ms/step - loss: 0.2509 - accuracy: 0.9374 - val_loss: 1.1681 - val_accuracy: 0.7391\n",
            "Epoch 69/500\n",
            "1563/1563 [==============================] - 11s 7ms/step - loss: 0.2719 - accuracy: 0.9397 - val_loss: 1.2737 - val_accuracy: 0.7181\n",
            "Epoch 70/500\n",
            "1563/1563 [==============================] - 11s 7ms/step - loss: 0.2050 - accuracy: 0.9487 - val_loss: 1.2623 - val_accuracy: 0.7382\n",
            "Epoch 71/500\n",
            "1563/1563 [==============================] - 11s 7ms/step - loss: 0.2502 - accuracy: 0.9385 - val_loss: 1.1980 - val_accuracy: 0.7345\n",
            "Epoch 00071: early stopping\n"
          ],
          "name": "stdout"
        },
        {
          "output_type": "execute_result",
          "data": {
            "text/plain": [
              "<tensorflow.python.keras.callbacks.History at 0x7fbe2e04d7b8>"
            ]
          },
          "metadata": {
            "tags": []
          },
          "execution_count": 36
        }
      ]
    },
    {
      "cell_type": "code",
      "metadata": {
        "colab": {
          "base_uri": "https://localhost:8080/"
        },
        "id": "jfwYHBexkQ6D",
        "outputId": "5d274f36-2b96-4529-d83f-89a7f4e7ed07"
      },
      "source": [
        " c4f5.evaluate(X_test, y_test, batch_size = 32)"
      ],
      "execution_count": null,
      "outputs": [
        {
          "output_type": "stream",
          "text": [
            "313/313 [==============================] - 1s 4ms/step - loss: 1.1980 - accuracy: 0.7345\n"
          ],
          "name": "stdout"
        },
        {
          "output_type": "execute_result",
          "data": {
            "text/plain": [
              "[1.1980160474777222, 0.734499990940094]"
            ]
          },
          "metadata": {
            "tags": []
          },
          "execution_count": 38
        }
      ]
    },
    {
      "cell_type": "markdown",
      "metadata": {
        "id": "3Ub3qGnjs4EI"
      },
      "source": [
        "## Graph of loss and accuracy\n",
        "- model: C4f5"
      ]
    },
    {
      "cell_type": "code",
      "metadata": {
        "id": "NiSAsgsNtUte"
      },
      "source": [
        "c4f5 = keras.models.Sequential([ \n",
        "    Conv2D(input_shape=(32,32,3),kernel_size=(3,3),strides=(1,1),filters= 64,padding='same',activation='relu'),\n",
        "    MaxPool2D(pool_size=(2,2), strides=(2,2)), \n",
        "    Conv2D(kernel_size=(3,3),strides=(1,1),filters= 128,padding='same',activation='relu'),\n",
        "    MaxPool2D(pool_size=(2,2), strides=(2,2)),\n",
        "    Conv2D(kernel_size=(3,3),strides=(1,1),filters= 256,padding='same',activation='relu'),\n",
        "    MaxPool2D(pool_size=(2,2), strides=(2,2)),\n",
        "    Conv2D(kernel_size=(3,3),strides=(1,1),filters= 512,padding='same',activation='relu'),\n",
        "    MaxPool2D(pool_size=(2,2), strides=(2,2)),\n",
        "    Flatten(), \n",
        "    keras.layers.Dense(128, activation='relu'),  \n",
        "    keras.layers.Dropout(0.25), \n",
        "    keras.layers.Dense(256, activation='relu'),  \n",
        "    keras.layers.Dropout(0.25), \n",
        "    keras.layers.Dense(512, activation='relu'),  \n",
        "    keras.layers.Dropout(0.25), \n",
        "    keras.layers.Dense(1024, activation='relu'),  \n",
        "    keras.layers.Dropout(0.25), \n",
        "    keras.layers.Dense(10, activation='softmax')\n",
        "])\n",
        "\n",
        "c4f5.compile(optimizer='adam',\n",
        "              loss='categorical_crossentropy',\n",
        "              metrics=['accuracy'])"
      ],
      "execution_count": null,
      "outputs": []
    },
    {
      "cell_type": "code",
      "metadata": {
        "id": "-Yfqv2AqtUtz",
        "colab": {
          "base_uri": "https://localhost:8080/"
        },
        "outputId": "64f64319-990f-4908-8ceb-82f020d00969"
      },
      "source": [
        "epoch = 39\n",
        "hist = c4f5.fit(X_train, y_train, \n",
        "         epochs = epoch, \n",
        "         batch_size =32, \n",
        "         validation_data=(X_test,y_test))"
      ],
      "execution_count": null,
      "outputs": [
        {
          "output_type": "stream",
          "text": [
            "Epoch 1/39\n",
            "1563/1563 [==============================] - 11s 7ms/step - loss: 1.6628 - accuracy: 0.3705 - val_loss: 1.3128 - val_accuracy: 0.5197\n",
            "Epoch 2/39\n",
            "1563/1563 [==============================] - 11s 7ms/step - loss: 1.2439 - accuracy: 0.5598 - val_loss: 1.0956 - val_accuracy: 0.6105\n",
            "Epoch 3/39\n",
            "1563/1563 [==============================] - 11s 7ms/step - loss: 1.0476 - accuracy: 0.6386 - val_loss: 1.0103 - val_accuracy: 0.6499\n",
            "Epoch 4/39\n",
            "1563/1563 [==============================] - 11s 7ms/step - loss: 0.9347 - accuracy: 0.6825 - val_loss: 0.9706 - val_accuracy: 0.6686\n",
            "Epoch 5/39\n",
            "1563/1563 [==============================] - 11s 7ms/step - loss: 0.8455 - accuracy: 0.7132 - val_loss: 0.9105 - val_accuracy: 0.6967\n",
            "Epoch 6/39\n",
            "1563/1563 [==============================] - 11s 7ms/step - loss: 0.7664 - accuracy: 0.7415 - val_loss: 0.8977 - val_accuracy: 0.6971\n",
            "Epoch 7/39\n",
            "1563/1563 [==============================] - 11s 7ms/step - loss: 0.7089 - accuracy: 0.7644 - val_loss: 0.8894 - val_accuracy: 0.7044\n",
            "Epoch 8/39\n",
            "1563/1563 [==============================] - 11s 7ms/step - loss: 0.6553 - accuracy: 0.7851 - val_loss: 0.8188 - val_accuracy: 0.7262\n",
            "Epoch 9/39\n",
            "1563/1563 [==============================] - 11s 7ms/step - loss: 0.6144 - accuracy: 0.7981 - val_loss: 0.9120 - val_accuracy: 0.7022\n",
            "Epoch 10/39\n",
            "1563/1563 [==============================] - 11s 7ms/step - loss: 0.5851 - accuracy: 0.8090 - val_loss: 0.8708 - val_accuracy: 0.7168\n",
            "Epoch 11/39\n",
            "1563/1563 [==============================] - 11s 7ms/step - loss: 0.5379 - accuracy: 0.8271 - val_loss: 0.8403 - val_accuracy: 0.7247\n",
            "Epoch 12/39\n",
            "1563/1563 [==============================] - 11s 7ms/step - loss: 0.5113 - accuracy: 0.8346 - val_loss: 0.8296 - val_accuracy: 0.7381\n",
            "Epoch 13/39\n",
            "1563/1563 [==============================] - 11s 7ms/step - loss: 0.4943 - accuracy: 0.8412 - val_loss: 0.8882 - val_accuracy: 0.7341\n",
            "Epoch 14/39\n",
            "1563/1563 [==============================] - 11s 7ms/step - loss: 0.4645 - accuracy: 0.8533 - val_loss: 0.8363 - val_accuracy: 0.7405\n",
            "Epoch 15/39\n",
            "1563/1563 [==============================] - 11s 7ms/step - loss: 0.4406 - accuracy: 0.8618 - val_loss: 0.8375 - val_accuracy: 0.7418\n",
            "Epoch 16/39\n",
            "1563/1563 [==============================] - 11s 7ms/step - loss: 0.4165 - accuracy: 0.8693 - val_loss: 0.8861 - val_accuracy: 0.7398\n",
            "Epoch 17/39\n",
            "1563/1563 [==============================] - 11s 7ms/step - loss: 0.4055 - accuracy: 0.8746 - val_loss: 0.8924 - val_accuracy: 0.7263\n",
            "Epoch 18/39\n",
            "1563/1563 [==============================] - 11s 7ms/step - loss: 0.3852 - accuracy: 0.8809 - val_loss: 0.9681 - val_accuracy: 0.7302\n",
            "Epoch 19/39\n",
            "1563/1563 [==============================] - 11s 7ms/step - loss: 0.3814 - accuracy: 0.8833 - val_loss: 0.9019 - val_accuracy: 0.7429\n",
            "Epoch 20/39\n",
            "1563/1563 [==============================] - 11s 7ms/step - loss: 0.3717 - accuracy: 0.8857 - val_loss: 0.8770 - val_accuracy: 0.7382\n",
            "Epoch 21/39\n",
            "1563/1563 [==============================] - 11s 7ms/step - loss: 0.3583 - accuracy: 0.8943 - val_loss: 0.9067 - val_accuracy: 0.7376\n",
            "Epoch 22/39\n",
            "1563/1563 [==============================] - 11s 7ms/step - loss: 0.3452 - accuracy: 0.8953 - val_loss: 0.9978 - val_accuracy: 0.7236\n",
            "Epoch 23/39\n",
            "1563/1563 [==============================] - 11s 7ms/step - loss: 0.3443 - accuracy: 0.8981 - val_loss: 0.9599 - val_accuracy: 0.7245\n",
            "Epoch 24/39\n",
            "1563/1563 [==============================] - 11s 7ms/step - loss: 0.3325 - accuracy: 0.9021 - val_loss: 0.9577 - val_accuracy: 0.7395\n",
            "Epoch 25/39\n",
            "1563/1563 [==============================] - 11s 7ms/step - loss: 0.3448 - accuracy: 0.8987 - val_loss: 0.8979 - val_accuracy: 0.7288\n",
            "Epoch 26/39\n",
            "1563/1563 [==============================] - 11s 7ms/step - loss: 0.3156 - accuracy: 0.9079 - val_loss: 0.9896 - val_accuracy: 0.7285\n",
            "Epoch 27/39\n",
            "1563/1563 [==============================] - 11s 7ms/step - loss: 0.3055 - accuracy: 0.9111 - val_loss: 1.0240 - val_accuracy: 0.7252\n",
            "Epoch 28/39\n",
            "1563/1563 [==============================] - 11s 7ms/step - loss: 0.3024 - accuracy: 0.9138 - val_loss: 0.9947 - val_accuracy: 0.7085\n",
            "Epoch 29/39\n",
            "1563/1563 [==============================] - 11s 7ms/step - loss: 0.3342 - accuracy: 0.9053 - val_loss: 1.0483 - val_accuracy: 0.7343\n",
            "Epoch 30/39\n",
            "1563/1563 [==============================] - 11s 7ms/step - loss: 0.2952 - accuracy: 0.9170 - val_loss: 0.9641 - val_accuracy: 0.7311\n",
            "Epoch 31/39\n",
            "1563/1563 [==============================] - 11s 7ms/step - loss: 0.3261 - accuracy: 0.9084 - val_loss: 0.9613 - val_accuracy: 0.7426\n",
            "Epoch 32/39\n",
            "1563/1563 [==============================] - 12s 7ms/step - loss: 0.2752 - accuracy: 0.9224 - val_loss: 0.9576 - val_accuracy: 0.7365\n",
            "Epoch 33/39\n",
            "1563/1563 [==============================] - 11s 7ms/step - loss: 0.2722 - accuracy: 0.9224 - val_loss: 0.9946 - val_accuracy: 0.7369\n",
            "Epoch 34/39\n",
            "1563/1563 [==============================] - 11s 7ms/step - loss: 0.3293 - accuracy: 0.9088 - val_loss: 1.0398 - val_accuracy: 0.7266\n",
            "Epoch 35/39\n",
            "1563/1563 [==============================] - 11s 7ms/step - loss: 0.2738 - accuracy: 0.9227 - val_loss: 1.0998 - val_accuracy: 0.7312\n",
            "Epoch 36/39\n",
            "1563/1563 [==============================] - 11s 7ms/step - loss: 0.2977 - accuracy: 0.9173 - val_loss: 1.0125 - val_accuracy: 0.7368\n",
            "Epoch 37/39\n",
            "1563/1563 [==============================] - 11s 7ms/step - loss: 0.2550 - accuracy: 0.9294 - val_loss: 1.0242 - val_accuracy: 0.7414\n",
            "Epoch 38/39\n",
            "1563/1563 [==============================] - 11s 7ms/step - loss: 0.2824 - accuracy: 0.9223 - val_loss: 1.0276 - val_accuracy: 0.7321\n",
            "Epoch 39/39\n",
            "1563/1563 [==============================] - 11s 7ms/step - loss: 0.2727 - accuracy: 0.9256 - val_loss: 1.0002 - val_accuracy: 0.7344\n"
          ],
          "name": "stdout"
        }
      ]
    },
    {
      "cell_type": "code",
      "metadata": {
        "colab": {
          "base_uri": "https://localhost:8080/",
          "height": 313
        },
        "id": "W8r2mFCT_If8",
        "outputId": "d77a1ed7-4b72-4859-b716-7f1b2b9cf759"
      },
      "source": [
        "# Plot loass and accuracy\r\n",
        "# Plot training & validation accuracy values\r\n",
        "epochs = epoch\r\n",
        "loss_list = [100 * i for i in hist.history['loss']]\r\n",
        "acc_list = [100 * i for i in hist.history['accuracy']]\r\n",
        "plt.plot(range(1,epochs+1),loss_list) \r\n",
        "plt.plot(range(1,epochs+1),acc_list) \r\n",
        "plt.title('Model loss & accuracy')\r\n",
        "plt.ylabel('Accuracy (%)')\r\n",
        "plt.xlabel('Epoch')\r\n",
        "plt.legend(['loss', 'accuracy'], loc='center left')"
      ],
      "execution_count": null,
      "outputs": [
        {
          "output_type": "execute_result",
          "data": {
            "text/plain": [
              "<matplotlib.legend.Legend at 0x7fbe22169898>"
            ]
          },
          "metadata": {
            "tags": []
          },
          "execution_count": 41
        },
        {
          "output_type": "display_data",
          "data": {
            "image/png": "[encoded data removed]",
            "text/plain": [
              "<Figure size 432x288 with 1 Axes>"
            ]
          },
          "metadata": {
            "tags": [],
            "needs_background": "light"
          }
        }
      ]
    },
    {
      "cell_type": "code",
      "metadata": {
        "id": "X4z9Ewsn_LSw"
      },
      "source": [
        "vloss_list = [100 * i for i in hist.history['val_loss']]\r\n",
        "vacc_list = [100 * i for i in hist.history['val_accuracy']]"
      ],
      "execution_count": null,
      "outputs": []
    },
    {
      "cell_type": "code",
      "metadata": {
        "id": "TX5Uzro4vjaY",
        "colab": {
          "base_uri": "https://localhost:8080/",
          "height": 313
        },
        "outputId": "2283669c-fcb4-4ea7-a72a-174805f4b391"
      },
      "source": [
        "plt.plot(range(1,epochs+1),vloss_list)  \n",
        "plt.plot(range(1,epochs+1),vacc_list)  \n",
        "plt.title('Model val_loss & val_accuracy')\n",
        "plt.ylabel('Accuracy (%)')\n",
        "plt.xlabel('Epoch')\n",
        "plt.legend(['val_loss', 'val_accuracy'], loc='center left')"
      ],
      "execution_count": null,
      "outputs": [
        {
          "output_type": "execute_result",
          "data": {
            "text/plain": [
              "<matplotlib.legend.Legend at 0x7fbe22135d30>"
            ]
          },
          "metadata": {
            "tags": []
          },
          "execution_count": 43
        },
        {
          "output_type": "display_data",
          "data": {
            "image/png": "[encoded data removed]",
            "text/plain": [
              "<Figure size 432x288 with 1 Axes>"
            ]
          },
          "metadata": {
            "tags": [],
            "needs_background": "light"
          }
        }
      ]
    },
    {
      "cell_type": "code",
      "metadata": {
        "id": "blALTNdyvjVK",
        "colab": {
          "base_uri": "https://localhost:8080/",
          "height": 313
        },
        "outputId": "6afdf04a-94d6-46a8-d44e-913beb686740"
      },
      "source": [
        "plt.plot(range(1,epochs+1),acc_list)  \n",
        "plt.plot(range(1,epochs+1),vacc_list)  \n",
        "plt.plot(np.argmax(np.array(vacc_list))+1,vacc_list[np.argmax(np.array(vacc_list))], 'r*') \n",
        "plt.title('accuracy vs. val_accuracy, best = ' +str(vacc_list[np.argmax(np.array(vacc_list))]))\n",
        "plt.ylabel('Accuracy (%)')\n",
        "plt.xlabel('Epoch')\n",
        "plt.legend(['accuracy','val_accuracy','best']) #, loc='center bottom')\n"
      ],
      "execution_count": null,
      "outputs": [
        {
          "output_type": "execute_result",
          "data": {
            "text/plain": [
              "<matplotlib.legend.Legend at 0x7fbe220f49b0>"
            ]
          },
          "metadata": {
            "tags": []
          },
          "execution_count": 44
        },
        {
          "output_type": "display_data",
          "data": {
            "image/png": "[encoded data removed]",
            "text/plain": [
              "<Figure size 432x288 with 1 Axes>"
            ]
          },
          "metadata": {
            "tags": [],
            "needs_background": "light"
          }
        }
      ]
    },
    {
      "cell_type": "markdown",
      "metadata": {
        "id": "SQ3M6vRVXG78"
      },
      "source": [
        "## cifar10 모델 학습\n",
        "> https://gruuuuu.github.io/machine-learning/cifar10-cnn/#"
      ]
    },
    {
      "cell_type": "markdown",
      "metadata": {
        "id": "gBPKMI4y3fsa"
      },
      "source": [
        "## 모형의 저장\n",
        "\n",
        "- 트레이닝이 끝난 모형은 save 메서드로 가중치와 함께 hdf5 형식으로 저장\n",
        "- load 명령으로 불러 사용"
      ]
    },
    {
      "cell_type": "code",
      "metadata": {
        "id": "KCfbQl2v3fsa"
      },
      "source": [
        "# c2f2.save('fmnist_cnn_best.hdf5')"
      ],
      "execution_count": null,
      "outputs": []
    },
    {
      "cell_type": "code",
      "metadata": {
        "id": "b7-ysIVy3fse",
        "colab": {
          "base_uri": "https://localhost:8080/"
        },
        "outputId": "53134f59-571d-4219-fc89-a655a0ac7dbd"
      },
      "source": [
        "from keras.models import load_model\n",
        "\n",
        "model = load_model('cifar10_c4f5_best_weights.046-0.7488.hdf5')\n",
        "model.evaluate(X_test, y_test, batch_size=32)"
      ],
      "execution_count": null,
      "outputs": [
        {
          "output_type": "stream",
          "text": [
            "313/313 [==============================] - 1s 4ms/step - loss: 0.9885 - accuracy: 0.7488\n"
          ],
          "name": "stdout"
        },
        {
          "output_type": "execute_result",
          "data": {
            "text/plain": [
              "[0.988508403301239, 0.7487999796867371]"
            ]
          },
          "metadata": {
            "tags": []
          },
          "execution_count": 45
        }
      ]
    },
    {
      "cell_type": "markdown",
      "metadata": {
        "id": "7Az_0uaxX4I0"
      },
      "source": [
        "정확도 올리기\r\n"
      ]
    },
    {
      "cell_type": "markdown",
      "metadata": {
        "id": "KF3UzDJotZrh"
      },
      "source": [
        "## Confusion matrix"
      ]
    },
    {
      "cell_type": "code",
      "metadata": {
        "id": "RV1IaOyeu6Em"
      },
      "source": [
        "from sklearn.metrics import confusion_matrix\n",
        "import seaborn as sns"
      ],
      "execution_count": null,
      "outputs": []
    },
    {
      "cell_type": "code",
      "metadata": {
        "id": "Bxs1eC-cuO0Y"
      },
      "source": [
        "predictions = model.predict(X_test)"
      ],
      "execution_count": null,
      "outputs": []
    },
    {
      "cell_type": "code",
      "metadata": {
        "colab": {
          "base_uri": "https://localhost:8080/"
        },
        "id": "6Tqhg-UJujo5",
        "outputId": "623de524-3257-4109-efd2-0104d64f896c"
      },
      "source": [
        "predictions.shape"
      ],
      "execution_count": null,
      "outputs": [
        {
          "output_type": "execute_result",
          "data": {
            "text/plain": [
              "(10000, 10)"
            ]
          },
          "metadata": {
            "tags": []
          },
          "execution_count": 55
        }
      ]
    },
    {
      "cell_type": "code",
      "metadata": {
        "colab": {
          "base_uri": "https://localhost:8080/"
        },
        "id": "nZch1JFSufoR",
        "outputId": "e66b366a-07e8-47b2-9c52-c5d357607a1c"
      },
      "source": [
        "predictions0 = np.argmax(predictions, axis=1)\n",
        "predictions0.shape"
      ],
      "execution_count": null,
      "outputs": [
        {
          "output_type": "execute_result",
          "data": {
            "text/plain": [
              "(10000,)"
            ]
          },
          "metadata": {
            "tags": []
          },
          "execution_count": 56
        }
      ]
    },
    {
      "cell_type": "code",
      "metadata": {
        "id": "hiPMQeYXt12l"
      },
      "source": [
        "cm = confusion_matrix(y_test0, predictions0)"
      ],
      "execution_count": null,
      "outputs": []
    },
    {
      "cell_type": "code",
      "metadata": {
        "id": "YITaGwYjvatc"
      },
      "source": [
        "class_names = ['airplane', 'automobile', 'bird', 'cat', 'deer', 'dog', 'frog', 'horse', 'ship', 'truck']"
      ],
      "execution_count": null,
      "outputs": []
    },
    {
      "cell_type": "code",
      "metadata": {
        "colab": {
          "base_uri": "https://localhost:8080/",
          "height": 551
        },
        "id": "yxhNkjiFI5Ef",
        "outputId": "3eb3d2c7-503c-41ce-bfea-51a7e6c0d251"
      },
      "source": [
        "plt.figure(figsize=(9,9))\r\n",
        "sns.heatmap(cm, cbar=False, xticklabels=class_names, yticklabels=class_names, fmt='d', annot=True, cmap=plt.cm.coolwarm)\r\n",
        "plt.xlabel('Predicted')\r\n",
        "plt.ylabel('Actual')\r\n",
        "plt.show()\r\n"
      ],
      "execution_count": null,
      "outputs": [
        {
          "output_type": "display_data",
          "data": {
            "image/png": "[encoded data removed]",
            "text/plain": [
              "<Figure size 648x648 with 1 Axes>"
            ]
          },
          "metadata": {
            "tags": [],
            "needs_background": "light"
          }
        }
      ]
    },
    {
      "cell_type": "markdown",
      "metadata": {
        "id": "0n2PfCMBh2ju"
      },
      "source": [
        "# State of current scores of cifar-10\n",
        "\n",
        "> https://paperswithcode.com/sota/image-classification-on-cifar-10"
      ]
    },
    {
      "cell_type": "markdown",
      "metadata": {
        "id": "7abyx_2n0_7d"
      },
      "source": [
        "## Transfer learning on cifar-10\n",
        "\n",
        "- https://medium.com/@andrew.dabydeen/transfer-learning-using-resnet50-and-cifar-10-6242ed4b4245\n",
        "\n",
        "- https://medium.com/swlh/comparative-analysis-of-cifar-10-image-classification-transfer-learning-vs-user-defined-cnns-e673685d925e\n",
        "\n",
        "- https://medium.com/swlh/hands-on-the-cifar-10-dataset-with-transfer-learning-2e768fd6c318\n",
        "\n",
        "- https://medium.com/analytics-vidhya/the-transfer-learning-experience-with-vgg16-and-cifar-10-dataset-9b25b306a23f"
      ]
    },
    {
      "cell_type": "code",
      "metadata": {
        "id": "o5iFioeMiAHE"
      },
      "source": [
        ""
      ],
      "execution_count": null,
      "outputs": []
    }
  ]
}