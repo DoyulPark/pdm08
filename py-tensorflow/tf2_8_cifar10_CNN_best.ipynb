{
  "nbformat": 4,
  "nbformat_minor": 0,
  "metadata": {
    "colab": {
      "name": "tf2_8_cifar10_CNN_best.ipynb",
      "provenance": [],
      "collapsed_sections": [],
      "include_colab_link": true
    },
    "kernelspec": {
      "name": "python3",
      "display_name": "Python 3"
    },
    "accelerator": "GPU"
  },
  "cells": [
    {
      "cell_type": "markdown",
      "metadata": {
        "id": "view-in-github",
        "colab_type": "text"
      },
      "source": [
        "<a href=\"https://colab.research.google.com/github/DoyulPark/pdm08/blob/master/py-tensorflow/tf2_8_cifar10_CNN_best.ipynb\" target=\"_parent\"><img src=\"https://colab.research.google.com/assets/colab-badge.svg\" alt=\"Open In Colab\"/></a>"
      ]
    },
    {
      "cell_type": "markdown",
      "metadata": {
        "id": "rswfCVLZ-QW0"
      },
      "source": [
        "# **CNN model of cifar-10 dataset**\n",
        "- Conv2D + FCN\n",
        "    * Conv2D : 2차원 합성곱 필터링 + 풀링(Pooling)\n",
        "    * FCN : 1차원 완전연결신경망\n",
        "\n",
        "***\n",
        "- ## Traget: Find the best model\n",
        "***\n",
        "\n",
        "![mnist_NN_2_layers](https://img1.daumcdn.net/thumb/R1280x0/?scode=mtistory2&fname=https%3A%2F%2Fblog.kakaocdn.net%2Fdn%2FdJp5Z6%2FbtqAPebnF3x%2FQCe5vVcskhmxe964bGz4iK%2Fimg.png)\n",
        "\n",
        "(source: https://img1.daumcdn.net/thumb/R1280x0/?scode=mtistory2&fname=https%3A%2F%2Fblog.kakaocdn.net%2Fdn%2FdJp5Z6%2FbtqAPebnF3x%2FQCe5vVcskhmxe964bGz4iK%2Fimg.png)"
      ]
    },
    {
      "cell_type": "markdown",
      "metadata": {
        "id": "ISueys4bNHd1"
      },
      "source": [
        "### CIFAR-10 Dataset (CIFAR: Canadian Institute For Advanced Research)\n",
        "> https://www.cs.toronto.edu/~kriz/cifar.html\n",
        "\n",
        "- (50000, 32, 32, 3), train\n",
        "- (10000, 32, 32, 3), test\n",
        "- color photographs of objects from 10 classes, such as frogs, birds, cats, ships, etc\n",
        "> class names\n",
        "> - ['airplane', 'automobile', 'bird', 'cat', 'deer', 'dog', 'frog', 'horse', 'ship', 'truck']\n",
        "\n",
        "- 참고 문헌  \n",
        "\n",
        "> https://becominghuman.ai/cifar-10-image-classification-fd2ace47c5e8  \n",
        "\n",
        "> https://becominghuman.ai/convolutional-neural-networks-cnns-convnets-for-visual-recognition-cae879a70f1a\n",
        "\n",
        "> https://towardsdatascience.com/cifar-10-image-classification-in-tensorflow-5b501f7dc77c"
      ]
    },
    {
      "cell_type": "markdown",
      "metadata": {
        "id": "1yhvkxS_HhpK"
      },
      "source": [
        "## Search the best model of C2F2\n",
        "- callback\n",
        "    - Early stopping\n",
        "    - model checkpoint"
      ]
    },
    {
      "cell_type": "code",
      "metadata": {
        "id": "8GgGzPXPVyfa",
        "colab": {
          "base_uri": "https://localhost:8080/"
        },
        "outputId": "cf9103d5-bd22-48ea-dbcd-dd54450dd6da"
      },
      "source": [
        "import numpy as np\n",
        "import tensorflow as tf\n",
        "from tensorflow import keras\n",
        "import pandas as pd\n",
        "import matplotlib.pyplot as plt\n",
        "%matplotlib inline\n",
        "\n",
        "tf.random.set_seed(0)\n",
        "\n",
        "print(tf.__version__)"
      ],
      "execution_count": 1,
      "outputs": [
        {
          "output_type": "stream",
          "text": [
            "2.3.0\n"
          ],
          "name": "stdout"
        }
      ]
    },
    {
      "cell_type": "code",
      "metadata": {
        "id": "nMZqMpIvIlwf"
      },
      "source": [
        "# import TF2 submodules\n",
        "from tensorflow.keras import layers, models, callbacks"
      ],
      "execution_count": 2,
      "outputs": []
    },
    {
      "cell_type": "markdown",
      "metadata": {
        "id": "-0IOOUM14Jk1"
      },
      "source": [
        "## **데이터 로딩, 정규화**"
      ]
    },
    {
      "cell_type": "code",
      "metadata": {
        "id": "N1ogJ7I64Fz-",
        "colab": {
          "base_uri": "https://localhost:8080/"
        },
        "outputId": "e1b8f797-86b5-4ad2-b372-77255f6d9b86"
      },
      "source": [
        "from keras.datasets import cifar10\n",
        "\n",
        "(X_train0, y_train0), (X_test0, y_test0) = cifar10.load_data()\n",
        "\n",
        "# Reshape\n",
        "# X_train = X_train0.reshape(60000,28,28,1)\n",
        "# X_test = X_test0.reshape(10000,28,28,1)\n",
        "\n",
        "# Normalization reshape를 안하고 normalize를 한다. mnist는 흑백이기 때문에 칼라채널이1인데 4차원으로 구성되어있지않았는데 cifar10은 이미 4차원 구조로 구성되어있다\n",
        "X_train, X_test = X_train0/255.0, X_test0/255.0 # 정규화\n",
        "\n",
        "print(\"X_train={0}\".format(X_train.shape))\n",
        "print(\"y_train={0}\".format(y_train0.shape)) \n",
        "print(\"X_test={0}\".format(X_test.shape))\n",
        "print(\"y_test={0}\".format(y_test0.shape))"
      ],
      "execution_count": 4,
      "outputs": [
        {
          "output_type": "stream",
          "text": [
            "X_train=(50000, 32, 32, 3)\n",
            "y_train=(50000, 1)\n",
            "X_test=(10000, 32, 32, 3)\n",
            "y_test=(10000, 1)\n"
          ],
          "name": "stdout"
        }
      ]
    },
    {
      "cell_type": "code",
      "metadata": {
        "id": "F46-QZqJHiQ6",
        "colab": {
          "base_uri": "https://localhost:8080/"
        },
        "outputId": "9c939d6f-b0b9-4398-946f-5344fee2ae7c"
      },
      "source": [
        "# One-Hot-Encoding\n",
        "# Use function to_categorical() to do One-Hot-Encoding\n",
        "# tf.keras.utils.to_categorical\n",
        "from keras.utils import to_categorical\n",
        "\n",
        "y_train = to_categorical(y_train0, 10)\n",
        "y_test = to_categorical(y_test0, 10)\n",
        "y_train.shape,y_test.shape"
      ],
      "execution_count": 5,
      "outputs": [
        {
          "output_type": "execute_result",
          "data": {
            "text/plain": [
              "((50000, 10), (10000, 10))"
            ]
          },
          "metadata": {
            "tags": []
          },
          "execution_count": 5
        }
      ]
    },
    {
      "cell_type": "code",
      "metadata": {
        "id": "eZ3OfP5PkEkL",
        "colab": {
          "base_uri": "https://localhost:8080/"
        },
        "outputId": "d59bc13d-70f3-4829-f3d0-0e99e07b5bd3"
      },
      "source": [
        "# y_train0.shape vs. y_train.shape\n",
        "y_train0.shape, y_train.shape"
      ],
      "execution_count": 6,
      "outputs": [
        {
          "output_type": "execute_result",
          "data": {
            "text/plain": [
              "((50000, 1), (50000, 10))"
            ]
          },
          "metadata": {
            "tags": []
          },
          "execution_count": 6
        }
      ]
    },
    {
      "cell_type": "markdown",
      "metadata": {
        "id": "5z7SozStigmF"
      },
      "source": [
        "### Display images in CIFAR-10\n",
        "- one random image\n",
        "- 10 representative images"
      ]
    },
    {
      "cell_type": "code",
      "metadata": {
        "id": "IK7XT3XoirSL",
        "colab": {
          "base_uri": "https://localhost:8080/",
          "height": 286
        },
        "outputId": "e88f806a-aaad-4c8b-e1bb-eacda859f62a"
      },
      "source": [
        "# Code here!\n",
        "# display one random image from the training set:\n",
        "class_names =  ['airplane', 'automobile', 'bird', 'cat', 'deer', 'dog', 'frog', 'horse', 'ship', 'truck']\n",
        "\n",
        "idx = np.random.randint(0, X_train0.shape[0])\n",
        "print(idx)\n",
        "image = X_train0[idx]\n",
        "plt.imshow(image) #, cmap=plt.get_cmap('gray'))\n",
        "plt.title(class_names[y_train0[idx][0]])\n",
        "plt.xticks([])\n",
        "plt.yticks([])\n",
        "plt.show()"
      ],
      "execution_count": 7,
      "outputs": [
        {
          "output_type": "stream",
          "text": [
            "9314\n"
          ],
          "name": "stdout"
        },
        {
          "output_type": "display_data",
          "data": {
            "image/png": "[encoded data removed]",
            "text/plain": [
              "<Figure size 432x288 with 1 Axes>"
            ]
          },
          "metadata": {
            "tags": []
          }
        }
      ]
    },
    {
      "cell_type": "code",
      "metadata": {
        "id": "LzhD5pcukau7",
        "colab": {
          "base_uri": "https://localhost:8080/",
          "height": 325
        },
        "outputId": "6cfcca2d-97ce-41c2-bdb6-c0278d3c1089"
      },
      "source": [
        "fig = plt.figure(figsize=(10,6))\n",
        "num0_9 = np.unique(y_train0, return_index=True)[1] #np.unique로 사진을 찾는다, y_train0는 무슨인코딩하기전 ,[1]두번째항목선택\n",
        "images = X_train[num0_9]\n",
        "for i in range(10):\n",
        "    plt.subplot(2, 5, i+1)\n",
        "    # num0_9 = X_train0[y_train0 == i]\n",
        "    \n",
        "    # print(num0_9.shape)\n",
        "    # plt.imshow(num0_9[0]) \n",
        "    plt.imshow(images[i])\n",
        "    plt.title(\"Class %d\" % (i))\n",
        "    plt.xticks([])\n",
        "    plt.yticks([])"
      ],
      "execution_count": 8,
      "outputs": [
        {
          "output_type": "display_data",
          "data": {
            "image/png": "[encoded data removed]",
            "text/plain": [
              "<Figure size 720x432 with 10 Axes>"
            ]
          },
          "metadata": {
            "tags": []
          }
        }
      ]
    },
    {
      "cell_type": "markdown",
      "metadata": {
        "id": "55DYVfFXi0WR"
      },
      "source": [
        "# Design CNN"
      ]
    },
    {
      "cell_type": "markdown",
      "metadata": {
        "id": "iPcLIcUCcsiG"
      },
      "source": [
        "### import models, layers, callbacks\n",
        "- models: Sequential\n",
        "- layers: Conv2D, MaxPool2D, Flatten\n",
        "- callbacks: ModelCheckpoint, EarlyStopping"
      ]
    },
    {
      "cell_type": "code",
      "metadata": {
        "id": "NzqMC4Xtc3ZE"
      },
      "source": [
        "from keras.models import Sequential\n",
        "from keras.layers import Conv2D, MaxPool2D, Flatten\n",
        "from keras.callbacks import ModelCheckpoint, EarlyStopping"
      ],
      "execution_count": 9,
      "outputs": []
    },
    {
      "cell_type": "markdown",
      "metadata": {
        "id": "7Z6DJJUCei-s"
      },
      "source": [
        "## **CNN2 + FCN2**"
      ]
    },
    {
      "cell_type": "code",
      "metadata": {
        "id": "pV3NFglM7P65"
      },
      "source": [
        "c2f2 = keras.models.Sequential([ \n",
        "    Conv2D(input_shape=(32,32,3),kernel_size=(3,3),strides=(1,1),filters= 32,padding='same',activation='relu'),\n",
        "    MaxPool2D(pool_size=(2,2), strides=(2,2)), \n",
        "    Conv2D(kernel_size=(3,3),strides=(1,1),filters= 64,padding='same',activation='relu'),\n",
        "    MaxPool2D(pool_size=(2,2), strides=(2,2)),\n",
        "    Flatten(), \n",
        "    keras.layers.Dense(128, activation='relu'),  \n",
        "    keras.layers.Dropout(0.25), \n",
        "    keras.layers.Dense(10, activation='softmax')\n",
        "])\n",
        "\n",
        "c2f2.compile(optimizer='adam',   #최적화 함수는 adam함수\n",
        "              loss='categorical_crossentropy',  #손실함수는(3가지이상의 함수) categorical_crossentropy\n",
        "              metrics=['accuracy']) "
      ],
      "execution_count": 10,
      "outputs": []
    },
    {
      "cell_type": "code",
      "metadata": {
        "id": "OGtCiKy57YkR",
        "colab": {
          "base_uri": "https://localhost:8080/"
        },
        "outputId": "f290c803-bd9f-48df-9e09-e45e76ead41d"
      },
      "source": [
        "c2f2.summary()"
      ],
      "execution_count": 12,
      "outputs": [
        {
          "output_type": "stream",
          "text": [
            "Model: \"sequential\"\n",
            "_________________________________________________________________\n",
            "Layer (type)                 Output Shape              Param #   \n",
            "=================================================================\n",
            "conv2d (Conv2D)              (None, 32, 32, 32)        896       \n",
            "_________________________________________________________________\n",
            "max_pooling2d (MaxPooling2D) (None, 16, 16, 32)        0         \n",
            "_________________________________________________________________\n",
            "conv2d_1 (Conv2D)            (None, 16, 16, 64)        18496     \n",
            "_________________________________________________________________\n",
            "max_pooling2d_1 (MaxPooling2 (None, 8, 8, 64)          0         \n",
            "_________________________________________________________________\n",
            "flatten (Flatten)            (None, 4096)              0         \n",
            "_________________________________________________________________\n",
            "dense (Dense)                (None, 128)               524416    \n",
            "_________________________________________________________________\n",
            "dropout (Dropout)            (None, 128)               0         \n",
            "_________________________________________________________________\n",
            "dense_1 (Dense)              (None, 10)                1290      \n",
            "=================================================================\n",
            "Total params: 545,098\n",
            "Trainable params: 545,098\n",
            "Non-trainable params: 0\n",
            "_________________________________________________________________\n"
          ],
          "name": "stdout"
        }
      ]
    },
    {
      "cell_type": "code",
      "metadata": {
        "id": "zw_pQPBdJmU8"
      },
      "source": [
        "cp_callback = callbacks.ModelCheckpoint(filepath=\"./cifar10_c2f2_best_weights.{epoch:03d}-{val_accuracy:.4f}.hdf5\", \n",
        "                              monitor='val_accuracy', verbose=0, save_best_only=True)\n",
        "es_callback = callbacks.EarlyStopping(monitor='val_accuracy', \n",
        "                            mode='max', verbose=1, patience=25)    # patience=10, 25, 50 (50은 시간이 너무 많이 걸림)"
      ],
      "execution_count": 13,
      "outputs": []
    },
    {
      "cell_type": "code",
      "metadata": {
        "id": "94GWWQt-7eRS",
        "colab": {
          "base_uri": "https://localhost:8080/"
        },
        "outputId": "dde0defe-0938-47b1-d3d4-b6af1c96f5e5"
      },
      "source": [
        "hist = c2f2.fit(X_train, y_train, epochs = 500 , batch_size =32, \n",
        "         callbacks=[cp_callback, es_callback], \n",
        "         validation_data=(X_test,y_test))"
      ],
      "execution_count": 14,
      "outputs": [
        {
          "output_type": "stream",
          "text": [
            "Epoch 1/500\n",
            "1563/1563 [==============================] - 5s 3ms/step - loss: 1.5105 - accuracy: 0.4545 - val_loss: 1.2491 - val_accuracy: 0.5635\n",
            "Epoch 2/500\n",
            "1563/1563 [==============================] - 5s 3ms/step - loss: 1.1787 - accuracy: 0.5844 - val_loss: 1.0512 - val_accuracy: 0.6312\n",
            "Epoch 3/500\n",
            "1563/1563 [==============================] - 5s 3ms/step - loss: 1.0501 - accuracy: 0.6294 - val_loss: 0.9752 - val_accuracy: 0.6583\n",
            "Epoch 4/500\n",
            "1563/1563 [==============================] - 5s 3ms/step - loss: 0.9657 - accuracy: 0.6599 - val_loss: 0.9324 - val_accuracy: 0.6686\n",
            "Epoch 5/500\n",
            "1563/1563 [==============================] - 6s 4ms/step - loss: 0.9011 - accuracy: 0.6818 - val_loss: 0.8748 - val_accuracy: 0.6924\n",
            "Epoch 6/500\n",
            "1563/1563 [==============================] - 6s 4ms/step - loss: 0.8419 - accuracy: 0.7015 - val_loss: 0.8706 - val_accuracy: 0.6976\n",
            "Epoch 7/500\n",
            "1563/1563 [==============================] - 5s 3ms/step - loss: 0.7869 - accuracy: 0.7215 - val_loss: 0.8581 - val_accuracy: 0.6986\n",
            "Epoch 8/500\n",
            "1563/1563 [==============================] - 5s 3ms/step - loss: 0.7386 - accuracy: 0.7354 - val_loss: 0.8674 - val_accuracy: 0.7033\n",
            "Epoch 9/500\n",
            "1563/1563 [==============================] - 5s 3ms/step - loss: 0.6884 - accuracy: 0.7532 - val_loss: 0.8633 - val_accuracy: 0.7062\n",
            "Epoch 10/500\n",
            "1563/1563 [==============================] - 5s 3ms/step - loss: 0.6502 - accuracy: 0.7648 - val_loss: 0.8951 - val_accuracy: 0.7050\n",
            "Epoch 11/500\n",
            "1563/1563 [==============================] - 5s 3ms/step - loss: 0.6063 - accuracy: 0.7825 - val_loss: 0.9128 - val_accuracy: 0.6958\n",
            "Epoch 12/500\n",
            "1563/1563 [==============================] - 5s 3ms/step - loss: 0.5706 - accuracy: 0.7936 - val_loss: 0.9188 - val_accuracy: 0.7070\n",
            "Epoch 13/500\n",
            "1563/1563 [==============================] - 5s 3ms/step - loss: 0.5429 - accuracy: 0.8026 - val_loss: 0.9600 - val_accuracy: 0.6980\n",
            "Epoch 14/500\n",
            "1563/1563 [==============================] - 5s 3ms/step - loss: 0.5051 - accuracy: 0.8154 - val_loss: 0.9422 - val_accuracy: 0.7141\n",
            "Epoch 15/500\n",
            "1563/1563 [==============================] - 5s 3ms/step - loss: 0.4783 - accuracy: 0.8235 - val_loss: 0.9820 - val_accuracy: 0.6954\n",
            "Epoch 16/500\n",
            "1563/1563 [==============================] - 5s 3ms/step - loss: 0.4494 - accuracy: 0.8353 - val_loss: 1.0275 - val_accuracy: 0.6966\n",
            "Epoch 17/500\n",
            "1563/1563 [==============================] - 5s 3ms/step - loss: 0.4257 - accuracy: 0.8423 - val_loss: 1.0356 - val_accuracy: 0.7044\n",
            "Epoch 18/500\n",
            "1563/1563 [==============================] - 5s 3ms/step - loss: 0.3961 - accuracy: 0.8551 - val_loss: 1.0810 - val_accuracy: 0.7044\n",
            "Epoch 19/500\n",
            "1563/1563 [==============================] - 5s 3ms/step - loss: 0.3729 - accuracy: 0.8626 - val_loss: 1.1234 - val_accuracy: 0.6957\n",
            "Epoch 20/500\n",
            "1563/1563 [==============================] - 5s 3ms/step - loss: 0.3626 - accuracy: 0.8654 - val_loss: 1.1664 - val_accuracy: 0.7076\n",
            "Epoch 21/500\n",
            "1563/1563 [==============================] - 5s 3ms/step - loss: 0.3405 - accuracy: 0.8742 - val_loss: 1.1582 - val_accuracy: 0.7038\n",
            "Epoch 22/500\n",
            "1563/1563 [==============================] - 5s 3ms/step - loss: 0.3324 - accuracy: 0.8764 - val_loss: 1.2031 - val_accuracy: 0.6991\n",
            "Epoch 23/500\n",
            "1563/1563 [==============================] - 5s 3ms/step - loss: 0.3126 - accuracy: 0.8846 - val_loss: 1.2635 - val_accuracy: 0.6906\n",
            "Epoch 24/500\n",
            "1563/1563 [==============================] - 5s 3ms/step - loss: 0.3091 - accuracy: 0.8868 - val_loss: 1.2980 - val_accuracy: 0.6996\n",
            "Epoch 25/500\n",
            "1563/1563 [==============================] - 5s 3ms/step - loss: 0.2918 - accuracy: 0.8929 - val_loss: 1.2876 - val_accuracy: 0.7021\n",
            "Epoch 26/500\n",
            "1563/1563 [==============================] - 5s 3ms/step - loss: 0.2795 - accuracy: 0.8966 - val_loss: 1.3489 - val_accuracy: 0.6996\n",
            "Epoch 27/500\n",
            "1563/1563 [==============================] - 5s 3ms/step - loss: 0.2769 - accuracy: 0.8978 - val_loss: 1.3508 - val_accuracy: 0.6933\n",
            "Epoch 28/500\n",
            "1563/1563 [==============================] - 5s 3ms/step - loss: 0.2635 - accuracy: 0.9022 - val_loss: 1.3912 - val_accuracy: 0.7009\n",
            "Epoch 29/500\n",
            "1563/1563 [==============================] - 5s 3ms/step - loss: 0.2546 - accuracy: 0.9065 - val_loss: 1.4415 - val_accuracy: 0.7014\n",
            "Epoch 30/500\n",
            "1563/1563 [==============================] - 5s 3ms/step - loss: 0.2443 - accuracy: 0.9103 - val_loss: 1.4916 - val_accuracy: 0.6970\n",
            "Epoch 31/500\n",
            "1563/1563 [==============================] - 5s 3ms/step - loss: 0.2405 - accuracy: 0.9111 - val_loss: 1.4917 - val_accuracy: 0.6958\n",
            "Epoch 32/500\n",
            "1563/1563 [==============================] - 5s 3ms/step - loss: 0.2403 - accuracy: 0.9121 - val_loss: 1.4764 - val_accuracy: 0.7008\n",
            "Epoch 33/500\n",
            "1563/1563 [==============================] - 5s 3ms/step - loss: 0.2323 - accuracy: 0.9150 - val_loss: 1.5377 - val_accuracy: 0.6929\n",
            "Epoch 34/500\n",
            "1563/1563 [==============================] - 5s 3ms/step - loss: 0.2226 - accuracy: 0.9181 - val_loss: 1.5742 - val_accuracy: 0.7013\n",
            "Epoch 35/500\n",
            "1563/1563 [==============================] - 5s 3ms/step - loss: 0.2193 - accuracy: 0.9196 - val_loss: 1.5641 - val_accuracy: 0.6980\n",
            "Epoch 36/500\n",
            "1563/1563 [==============================] - 5s 3ms/step - loss: 0.2114 - accuracy: 0.9228 - val_loss: 1.5407 - val_accuracy: 0.7017\n",
            "Epoch 37/500\n",
            "1563/1563 [==============================] - 5s 3ms/step - loss: 0.2093 - accuracy: 0.9240 - val_loss: 1.5341 - val_accuracy: 0.6993\n",
            "Epoch 38/500\n",
            "1563/1563 [==============================] - 5s 3ms/step - loss: 0.2089 - accuracy: 0.9243 - val_loss: 1.6050 - val_accuracy: 0.6976\n",
            "Epoch 39/500\n",
            "1563/1563 [==============================] - 5s 3ms/step - loss: 0.1976 - accuracy: 0.9281 - val_loss: 1.7083 - val_accuracy: 0.6951\n",
            "Epoch 00039: early stopping\n"
          ],
          "name": "stdout"
        }
      ]
    },
    {
      "cell_type": "code",
      "metadata": {
        "id": "0-7is2U49A6Z",
        "colab": {
          "base_uri": "https://localhost:8080/"
        },
        "outputId": "2b3b021a-4403-4148-f42b-f2bfa9b0d515"
      },
      "source": [
        "c2f2.evaluate(X_test, y_test, batch_size =32)"
      ],
      "execution_count": 15,
      "outputs": [
        {
          "output_type": "stream",
          "text": [
            "313/313 [==============================] - 1s 2ms/step - loss: 1.7083 - accuracy: 0.6951\n"
          ],
          "name": "stdout"
        },
        {
          "output_type": "execute_result",
          "data": {
            "text/plain": [
              "[1.7083415985107422, 0.6951000094413757]"
            ]
          },
          "metadata": {
            "tags": []
          },
          "execution_count": 15
        }
      ]
    },
    {
      "cell_type": "markdown",
      "metadata": {
        "id": "SUJxRQtafihM"
      },
      "source": [
        "## **CNN2 + FCN3**"
      ]
    },
    {
      "cell_type": "code",
      "metadata": {
        "id": "Nl5CyAymAB34"
      },
      "source": [
        "c2f3 = keras.models.Sequential([ \n",
        "    Conv2D(input_shape=(32,32,3),kernel_size=(3,3),strides=(1,1),filters= 32,padding='same',activation='relu'),\n",
        "    MaxPool2D(pool_size=(2,2), strides=(2,2)), \n",
        "    Conv2D(kernel_size=(3,3),strides=(1,1),filters= 64,padding='same',activation='relu'),\n",
        "    MaxPool2D(pool_size=(2,2), strides=(2,2)),\n",
        "    Flatten(), \n",
        "    keras.layers.Dense(128, activation='relu'),  \n",
        "    keras.layers.Dropout(0.25), \n",
        "    keras.layers.Dense(64, activation='relu'),  #layer가 하나 추가됨\n",
        "    keras.layers.Dropout(0.25), \n",
        "    keras.layers.Dense(10, activation='softmax')\n",
        "])\n",
        "\n",
        "c2f3.compile(optimizer='adam',\n",
        "              loss='categorical_crossentropy',\n",
        "              metrics=['accuracy']) "
      ],
      "execution_count": 16,
      "outputs": []
    },
    {
      "cell_type": "code",
      "metadata": {
        "id": "gYxuGW_2ANL8",
        "colab": {
          "base_uri": "https://localhost:8080/"
        },
        "outputId": "cc34f2ec-f098-4c58-c5e6-28074bee05cc"
      },
      "source": [
        "c2f3.summary()"
      ],
      "execution_count": 17,
      "outputs": [
        {
          "output_type": "stream",
          "text": [
            "Model: \"sequential_1\"\n",
            "_________________________________________________________________\n",
            "Layer (type)                 Output Shape              Param #   \n",
            "=================================================================\n",
            "conv2d_2 (Conv2D)            (None, 32, 32, 32)        896       \n",
            "_________________________________________________________________\n",
            "max_pooling2d_2 (MaxPooling2 (None, 16, 16, 32)        0         \n",
            "_________________________________________________________________\n",
            "conv2d_3 (Conv2D)            (None, 16, 16, 64)        18496     \n",
            "_________________________________________________________________\n",
            "max_pooling2d_3 (MaxPooling2 (None, 8, 8, 64)          0         \n",
            "_________________________________________________________________\n",
            "flatten_1 (Flatten)          (None, 4096)              0         \n",
            "_________________________________________________________________\n",
            "dense_2 (Dense)              (None, 128)               524416    \n",
            "_________________________________________________________________\n",
            "dropout_1 (Dropout)          (None, 128)               0         \n",
            "_________________________________________________________________\n",
            "dense_3 (Dense)              (None, 64)                8256      \n",
            "_________________________________________________________________\n",
            "dropout_2 (Dropout)          (None, 64)                0         \n",
            "_________________________________________________________________\n",
            "dense_4 (Dense)              (None, 10)                650       \n",
            "=================================================================\n",
            "Total params: 552,714\n",
            "Trainable params: 552,714\n",
            "Non-trainable params: 0\n",
            "_________________________________________________________________\n"
          ],
          "name": "stdout"
        }
      ]
    },
    {
      "cell_type": "code",
      "metadata": {
        "id": "KMsTuhO2x61z"
      },
      "source": [
        "cp_callback = callbacks.ModelCheckpoint(filepath=\"./cifar10_c2f3_best_weights.{epoch:03d}-{val_accuracy:.4f}.hdf5\", \n",
        "                              monitor='val_accuracy', verbose=0, save_best_only=True)\n",
        "es_callback = callbacks.EarlyStopping(monitor='val_accuracy', \n",
        "                            mode='max', verbose=1, patience=25)    # patience=10, 25, 50"
      ],
      "execution_count": 18,
      "outputs": []
    },
    {
      "cell_type": "code",
      "metadata": {
        "id": "lO1of4AOAQlV",
        "colab": {
          "base_uri": "https://localhost:8080/"
        },
        "outputId": "6bc10aae-10b6-417f-e3d1-5ef6a44e175a"
      },
      "source": [
        "c2f3.fit(X_train, y_train, epochs=500, batch_size =32, \n",
        "         callbacks=[cp_callback, es_callback], \n",
        "         validation_data=(X_test,y_test))"
      ],
      "execution_count": 19,
      "outputs": [
        {
          "output_type": "stream",
          "text": [
            "Epoch 1/500\n",
            "1563/1563 [==============================] - 6s 4ms/step - loss: 1.5767 - accuracy: 0.4261 - val_loss: 1.2082 - val_accuracy: 0.5735\n",
            "Epoch 2/500\n",
            "1563/1563 [==============================] - 6s 4ms/step - loss: 1.2287 - accuracy: 0.5654 - val_loss: 1.1015 - val_accuracy: 0.6099\n",
            "Epoch 3/500\n",
            "1563/1563 [==============================] - 5s 3ms/step - loss: 1.0820 - accuracy: 0.6227 - val_loss: 0.9857 - val_accuracy: 0.6594\n",
            "Epoch 4/500\n",
            "1563/1563 [==============================] - 5s 3ms/step - loss: 0.9879 - accuracy: 0.6560 - val_loss: 0.9387 - val_accuracy: 0.6733\n",
            "Epoch 5/500\n",
            "1563/1563 [==============================] - 5s 3ms/step - loss: 0.9218 - accuracy: 0.6784 - val_loss: 0.8999 - val_accuracy: 0.6867\n",
            "Epoch 6/500\n",
            "1563/1563 [==============================] - 5s 3ms/step - loss: 0.8573 - accuracy: 0.7019 - val_loss: 0.9000 - val_accuracy: 0.6878\n",
            "Epoch 7/500\n",
            "1563/1563 [==============================] - 5s 3ms/step - loss: 0.8108 - accuracy: 0.7179 - val_loss: 0.8858 - val_accuracy: 0.6993\n",
            "Epoch 8/500\n",
            "1563/1563 [==============================] - 5s 3ms/step - loss: 0.7649 - accuracy: 0.7337 - val_loss: 0.8766 - val_accuracy: 0.7078\n",
            "Epoch 9/500\n",
            "1563/1563 [==============================] - 5s 3ms/step - loss: 0.7259 - accuracy: 0.7472 - val_loss: 0.9193 - val_accuracy: 0.6904\n",
            "Epoch 10/500\n",
            "1563/1563 [==============================] - 5s 3ms/step - loss: 0.6857 - accuracy: 0.7599 - val_loss: 0.8635 - val_accuracy: 0.7102\n",
            "Epoch 11/500\n",
            "1563/1563 [==============================] - 6s 4ms/step - loss: 0.6466 - accuracy: 0.7738 - val_loss: 0.8723 - val_accuracy: 0.7094\n",
            "Epoch 12/500\n",
            "1563/1563 [==============================] - 6s 4ms/step - loss: 0.6210 - accuracy: 0.7810 - val_loss: 0.8844 - val_accuracy: 0.7125\n",
            "Epoch 13/500\n",
            "1563/1563 [==============================] - 5s 3ms/step - loss: 0.5882 - accuracy: 0.7931 - val_loss: 0.9186 - val_accuracy: 0.7044\n",
            "Epoch 14/500\n",
            "1563/1563 [==============================] - 5s 3ms/step - loss: 0.5596 - accuracy: 0.8029 - val_loss: 0.9315 - val_accuracy: 0.7095\n",
            "Epoch 15/500\n",
            "1563/1563 [==============================] - 5s 3ms/step - loss: 0.5429 - accuracy: 0.8078 - val_loss: 0.9654 - val_accuracy: 0.7058\n",
            "Epoch 16/500\n",
            "1563/1563 [==============================] - 5s 3ms/step - loss: 0.5175 - accuracy: 0.8174 - val_loss: 0.9645 - val_accuracy: 0.7130\n",
            "Epoch 17/500\n",
            "1563/1563 [==============================] - 5s 3ms/step - loss: 0.5062 - accuracy: 0.8208 - val_loss: 0.9939 - val_accuracy: 0.6998\n",
            "Epoch 18/500\n",
            "1563/1563 [==============================] - 5s 3ms/step - loss: 0.4847 - accuracy: 0.8295 - val_loss: 0.9835 - val_accuracy: 0.7017\n",
            "Epoch 19/500\n",
            "1563/1563 [==============================] - 5s 3ms/step - loss: 0.4601 - accuracy: 0.8372 - val_loss: 1.0514 - val_accuracy: 0.7060\n",
            "Epoch 20/500\n",
            "1563/1563 [==============================] - 5s 3ms/step - loss: 0.4448 - accuracy: 0.8427 - val_loss: 1.0624 - val_accuracy: 0.6989\n",
            "Epoch 21/500\n",
            "1563/1563 [==============================] - 5s 3ms/step - loss: 0.4387 - accuracy: 0.8439 - val_loss: 1.0191 - val_accuracy: 0.7097\n",
            "Epoch 22/500\n",
            "1563/1563 [==============================] - 5s 3ms/step - loss: 0.4150 - accuracy: 0.8537 - val_loss: 1.0726 - val_accuracy: 0.7087\n",
            "Epoch 23/500\n",
            "1563/1563 [==============================] - 5s 3ms/step - loss: 0.4049 - accuracy: 0.8591 - val_loss: 1.1430 - val_accuracy: 0.7024\n",
            "Epoch 24/500\n",
            "1563/1563 [==============================] - 5s 3ms/step - loss: 0.3948 - accuracy: 0.8613 - val_loss: 1.1042 - val_accuracy: 0.7064\n",
            "Epoch 25/500\n",
            "1563/1563 [==============================] - 5s 3ms/step - loss: 0.3811 - accuracy: 0.8637 - val_loss: 1.2026 - val_accuracy: 0.6975\n",
            "Epoch 26/500\n",
            "1563/1563 [==============================] - 5s 3ms/step - loss: 0.3665 - accuracy: 0.8694 - val_loss: 1.1616 - val_accuracy: 0.7047\n",
            "Epoch 27/500\n",
            "1563/1563 [==============================] - 5s 3ms/step - loss: 0.3692 - accuracy: 0.8714 - val_loss: 1.1646 - val_accuracy: 0.7049\n",
            "Epoch 28/500\n",
            "1563/1563 [==============================] - 5s 3ms/step - loss: 0.3525 - accuracy: 0.8759 - val_loss: 1.1818 - val_accuracy: 0.7126\n",
            "Epoch 29/500\n",
            "1563/1563 [==============================] - 5s 3ms/step - loss: 0.3396 - accuracy: 0.8813 - val_loss: 1.2374 - val_accuracy: 0.7085\n",
            "Epoch 30/500\n",
            "1563/1563 [==============================] - 5s 3ms/step - loss: 0.3358 - accuracy: 0.8803 - val_loss: 1.2538 - val_accuracy: 0.7048\n",
            "Epoch 31/500\n",
            "1563/1563 [==============================] - 5s 3ms/step - loss: 0.3295 - accuracy: 0.8825 - val_loss: 1.2554 - val_accuracy: 0.7058\n",
            "Epoch 32/500\n",
            "1563/1563 [==============================] - 5s 3ms/step - loss: 0.3178 - accuracy: 0.8885 - val_loss: 1.2382 - val_accuracy: 0.7067\n",
            "Epoch 33/500\n",
            "1563/1563 [==============================] - 5s 3ms/step - loss: 0.3099 - accuracy: 0.8904 - val_loss: 1.2630 - val_accuracy: 0.7074\n",
            "Epoch 34/500\n",
            "1563/1563 [==============================] - 5s 3ms/step - loss: 0.3081 - accuracy: 0.8914 - val_loss: 1.3080 - val_accuracy: 0.7055\n",
            "Epoch 35/500\n",
            "1563/1563 [==============================] - 5s 3ms/step - loss: 0.2977 - accuracy: 0.8953 - val_loss: 1.3138 - val_accuracy: 0.7045\n",
            "Epoch 36/500\n",
            "1563/1563 [==============================] - 5s 3ms/step - loss: 0.2951 - accuracy: 0.8971 - val_loss: 1.3717 - val_accuracy: 0.7047\n",
            "Epoch 37/500\n",
            "1563/1563 [==============================] - 5s 3ms/step - loss: 0.2931 - accuracy: 0.8960 - val_loss: 1.3811 - val_accuracy: 0.7024\n",
            "Epoch 38/500\n",
            "1563/1563 [==============================] - 5s 3ms/step - loss: 0.2854 - accuracy: 0.9001 - val_loss: 1.3436 - val_accuracy: 0.7007\n",
            "Epoch 39/500\n",
            "1563/1563 [==============================] - 5s 3ms/step - loss: 0.2785 - accuracy: 0.9012 - val_loss: 1.3922 - val_accuracy: 0.7030\n",
            "Epoch 40/500\n",
            "1563/1563 [==============================] - 5s 3ms/step - loss: 0.2755 - accuracy: 0.9030 - val_loss: 1.4337 - val_accuracy: 0.7037\n",
            "Epoch 41/500\n",
            "1563/1563 [==============================] - 5s 3ms/step - loss: 0.2674 - accuracy: 0.9068 - val_loss: 1.3904 - val_accuracy: 0.7088\n",
            "Epoch 00041: early stopping\n"
          ],
          "name": "stdout"
        },
        {
          "output_type": "execute_result",
          "data": {
            "text/plain": [
              "<tensorflow.python.keras.callbacks.History at 0x7fdde836eda0>"
            ]
          },
          "metadata": {
            "tags": []
          },
          "execution_count": 19
        }
      ]
    },
    {
      "cell_type": "code",
      "metadata": {
        "id": "W-eIxCasDBil",
        "colab": {
          "base_uri": "https://localhost:8080/"
        },
        "outputId": "c566ed00-a37d-45a5-a994-c71370c166cc"
      },
      "source": [
        " c2f3.evaluate(X_test, y_test, batch_size = 32)"
      ],
      "execution_count": 20,
      "outputs": [
        {
          "output_type": "stream",
          "text": [
            "313/313 [==============================] - 1s 2ms/step - loss: 1.3904 - accuracy: 0.7088\n"
          ],
          "name": "stdout"
        },
        {
          "output_type": "execute_result",
          "data": {
            "text/plain": [
              "[1.3903965950012207, 0.7088000178337097]"
            ]
          },
          "metadata": {
            "tags": []
          },
          "execution_count": 20
        }
      ]
    },
    {
      "cell_type": "markdown",
      "metadata": {
        "id": "5XYSVtC-DVsz"
      },
      "source": [
        "# **[DIY] Hidden layer에 따른 정확도**"
      ]
    },
    {
      "cell_type": "code",
      "metadata": {
        "id": "OiCc_UO2rGmp",
        "colab": {
          "base_uri": "https://localhost:8080/"
        },
        "outputId": "9948ad95-9bee-4ae1-e3b8-7c19cd2b1a04"
      },
      "source": [
        "score1=c2f2.evaluate(X_test, y_test, batch_size = 32)\n",
        "score2=c2f3.evaluate(X_test, y_test, batch_size = 32)\n",
        "losses = [score1[0],score2[0]]\n",
        "accuracies= [score1[1],score2[1]]\n",
        "losses,accuracies"
      ],
      "execution_count": 21,
      "outputs": [
        {
          "output_type": "stream",
          "text": [
            "313/313 [==============================] - 1s 2ms/step - loss: 1.7083 - accuracy: 0.6951\n",
            "313/313 [==============================] - 1s 2ms/step - loss: 1.3904 - accuracy: 0.7088\n"
          ],
          "name": "stdout"
        },
        {
          "output_type": "execute_result",
          "data": {
            "text/plain": [
              "([1.7083415985107422, 1.3903965950012207],\n",
              " [0.6951000094413757, 0.7088000178337097])"
            ]
          },
          "metadata": {
            "tags": []
          },
          "execution_count": 21
        }
      ]
    },
    {
      "cell_type": "code",
      "metadata": {
        "id": "vZv6a2aVRw9j",
        "colab": {
          "base_uri": "https://localhost:8080/",
          "height": 269
        },
        "outputId": "8280cbe7-4f42-448a-d401-53336b67c9ab"
      },
      "source": [
        "x = np.arange(2)\n",
        "cnns = ['C2F2','C2F3']\n",
        "\n",
        "plt.bar(x, accuracies)\n",
        "plt.xticks(x, cnns)\n",
        "plt.ylim((.5,1.0))\n",
        "plt.show()"
      ],
      "execution_count": 22,
      "outputs": [
        {
          "output_type": "display_data",
          "data": {
            "image/png": "[encoded data removed]",
            "text/plain": [
              "<Figure size 432x288 with 1 Axes>"
            ]
          },
          "metadata": {
            "tags": [],
            "needs_background": "light"
          }
        }
      ]
    },
    {
      "cell_type": "markdown",
      "metadata": {
        "id": "63oPbpPejqOj"
      },
      "source": [
        "## Complex model\n",
        "- C4F5 model\n",
        "\n",
        "![cnn_c4f5.png](https://raw.githubusercontent.com/Redwoods/Py/master//pdm2020/my-note/py-tensorflow/images/cnn_c4f5.png)"
      ]
    },
    {
      "cell_type": "code",
      "metadata": {
        "id": "kSN8pq8DkQ6B"
      },
      "source": [
        "c4f5 = keras.models.Sequential([ \n",
        "    Conv2D(input_shape=(32,32,3),kernel_size=(3,3),strides=(1,1),filters= 64,padding='same',activation='relu'),\n",
        "    MaxPool2D(pool_size=(2,2), strides=(2,2)), \n",
        "    Conv2D(kernel_size=(3,3),strides=(1,1),filters= 128,padding='same',activation='relu'),\n",
        "    MaxPool2D(pool_size=(2,2), strides=(2,2)),\n",
        "    Conv2D(kernel_size=(3,3),strides=(1,1),filters= 256,padding='same',activation='relu'),\n",
        "    MaxPool2D(pool_size=(2,2), strides=(2,2)),\n",
        "    Conv2D(kernel_size=(3,3),strides=(1,1),filters= 512,padding='same',activation='relu'),\n",
        "    MaxPool2D(pool_size=(2,2), strides=(2,2)),\n",
        "    Flatten(), \n",
        "    keras.layers.Dense(128, activation='relu'),   #5단짜리 dense를 만들어준다\n",
        "    keras.layers.Dropout(0.25), \n",
        "    keras.layers.Dense(256, activation='relu'),  \n",
        "    keras.layers.Dropout(0.25), \n",
        "    keras.layers.Dense(512, activation='relu'),  \n",
        "    keras.layers.Dropout(0.25), \n",
        "    keras.layers.Dense(1024, activation='relu'),  \n",
        "    keras.layers.Dropout(0.25), \n",
        "    keras.layers.Dense(10, activation='softmax')\n",
        "])\n",
        "\n",
        "c4f5.compile(optimizer='adam',\n",
        "              loss='categorical_crossentropy',\n",
        "              metrics=['accuracy']) "
      ],
      "execution_count": 23,
      "outputs": []
    },
    {
      "cell_type": "code",
      "metadata": {
        "colab": {
          "base_uri": "https://localhost:8080/"
        },
        "id": "k7qWzpLRkQ6C",
        "outputId": "81be83d5-5239-48f3-b138-78820df59d16"
      },
      "source": [
        "c4f5.summary()"
      ],
      "execution_count": 24,
      "outputs": [
        {
          "output_type": "stream",
          "text": [
            "Model: \"sequential_2\"\n",
            "_________________________________________________________________\n",
            "Layer (type)                 Output Shape              Param #   \n",
            "=================================================================\n",
            "conv2d_4 (Conv2D)            (None, 32, 32, 64)        1792      \n",
            "_________________________________________________________________\n",
            "max_pooling2d_4 (MaxPooling2 (None, 16, 16, 64)        0         \n",
            "_________________________________________________________________\n",
            "conv2d_5 (Conv2D)            (None, 16, 16, 128)       73856     \n",
            "_________________________________________________________________\n",
            "max_pooling2d_5 (MaxPooling2 (None, 8, 8, 128)         0         \n",
            "_________________________________________________________________\n",
            "conv2d_6 (Conv2D)            (None, 8, 8, 256)         295168    \n",
            "_________________________________________________________________\n",
            "max_pooling2d_6 (MaxPooling2 (None, 4, 4, 256)         0         \n",
            "_________________________________________________________________\n",
            "conv2d_7 (Conv2D)            (None, 4, 4, 512)         1180160   \n",
            "_________________________________________________________________\n",
            "max_pooling2d_7 (MaxPooling2 (None, 2, 2, 512)         0         \n",
            "_________________________________________________________________\n",
            "flatten_2 (Flatten)          (None, 2048)              0         \n",
            "_________________________________________________________________\n",
            "dense_5 (Dense)              (None, 128)               262272    \n",
            "_________________________________________________________________\n",
            "dropout_3 (Dropout)          (None, 128)               0         \n",
            "_________________________________________________________________\n",
            "dense_6 (Dense)              (None, 256)               33024     \n",
            "_________________________________________________________________\n",
            "dropout_4 (Dropout)          (None, 256)               0         \n",
            "_________________________________________________________________\n",
            "dense_7 (Dense)              (None, 512)               131584    \n",
            "_________________________________________________________________\n",
            "dropout_5 (Dropout)          (None, 512)               0         \n",
            "_________________________________________________________________\n",
            "dense_8 (Dense)              (None, 1024)              525312    \n",
            "_________________________________________________________________\n",
            "dropout_6 (Dropout)          (None, 1024)              0         \n",
            "_________________________________________________________________\n",
            "dense_9 (Dense)              (None, 10)                10250     \n",
            "=================================================================\n",
            "Total params: 2,513,418\n",
            "Trainable params: 2,513,418\n",
            "Non-trainable params: 0\n",
            "_________________________________________________________________\n"
          ],
          "name": "stdout"
        }
      ]
    },
    {
      "cell_type": "code",
      "metadata": {
        "id": "-pKJWy-2kQ6C"
      },
      "source": [
        "cp_callback = callbacks.ModelCheckpoint(filepath=\"./cifar10_c4f5_best_weights.{epoch:03d}-{val_accuracy:.4f}.hdf5\", \n",
        "                              monitor='val_accuracy', verbose=0, save_best_only=True)\n",
        "es_callback = callbacks.EarlyStopping(monitor='val_accuracy', \n",
        "                            mode='max', verbose=1, patience=25)    # patience=10, 25, 50"
      ],
      "execution_count": 25,
      "outputs": []
    },
    {
      "cell_type": "code",
      "metadata": {
        "colab": {
          "base_uri": "https://localhost:8080/"
        },
        "id": "wKdgr9EskQ6C",
        "outputId": "61682747-660d-4129-d2ee-3b6a5f7586b7"
      },
      "source": [
        "c4f5.fit(X_train, y_train, epochs=500, batch_size =32, \n",
        "         callbacks=[cp_callback, es_callback], \n",
        "         validation_data=(X_test,y_test))"
      ],
      "execution_count": 26,
      "outputs": [
        {
          "output_type": "stream",
          "text": [
            "Epoch 1/500\n",
            "1563/1563 [==============================] - 10s 6ms/step - loss: 1.6781 - accuracy: 0.3602 - val_loss: 1.3215 - val_accuracy: 0.5094\n",
            "Epoch 2/500\n",
            "1563/1563 [==============================] - 9s 6ms/step - loss: 1.2450 - accuracy: 0.5580 - val_loss: 1.1000 - val_accuracy: 0.6036\n",
            "Epoch 3/500\n",
            "1563/1563 [==============================] - 9s 6ms/step - loss: 1.0487 - accuracy: 0.6356 - val_loss: 1.0295 - val_accuracy: 0.6509\n",
            "Epoch 4/500\n",
            "1563/1563 [==============================] - 9s 6ms/step - loss: 0.9251 - accuracy: 0.6831 - val_loss: 0.9859 - val_accuracy: 0.6564\n",
            "Epoch 5/500\n",
            "1563/1563 [==============================] - 9s 6ms/step - loss: 0.8327 - accuracy: 0.7185 - val_loss: 0.9141 - val_accuracy: 0.6850\n",
            "Epoch 6/500\n",
            "1563/1563 [==============================] - 9s 6ms/step - loss: 0.7526 - accuracy: 0.7472 - val_loss: 0.9058 - val_accuracy: 0.7063\n",
            "Epoch 7/500\n",
            "1563/1563 [==============================] - 9s 6ms/step - loss: 0.6983 - accuracy: 0.7667 - val_loss: 0.8754 - val_accuracy: 0.7076\n",
            "Epoch 8/500\n",
            "1563/1563 [==============================] - 9s 6ms/step - loss: 0.6395 - accuracy: 0.7885 - val_loss: 0.8482 - val_accuracy: 0.7177\n",
            "Epoch 9/500\n",
            "1563/1563 [==============================] - 9s 6ms/step - loss: 0.6056 - accuracy: 0.8016 - val_loss: 0.8903 - val_accuracy: 0.7116\n",
            "Epoch 10/500\n",
            "1563/1563 [==============================] - 9s 6ms/step - loss: 0.5617 - accuracy: 0.8170 - val_loss: 0.8436 - val_accuracy: 0.7194\n",
            "Epoch 11/500\n",
            "1563/1563 [==============================] - 9s 6ms/step - loss: 0.5256 - accuracy: 0.8299 - val_loss: 0.8888 - val_accuracy: 0.7302\n",
            "Epoch 12/500\n",
            "1563/1563 [==============================] - 9s 6ms/step - loss: 0.4893 - accuracy: 0.8426 - val_loss: 0.8357 - val_accuracy: 0.7314\n",
            "Epoch 13/500\n",
            "1563/1563 [==============================] - 9s 6ms/step - loss: 0.4650 - accuracy: 0.8501 - val_loss: 0.9446 - val_accuracy: 0.7237\n",
            "Epoch 14/500\n",
            "1563/1563 [==============================] - 9s 6ms/step - loss: 0.4522 - accuracy: 0.8571 - val_loss: 0.8883 - val_accuracy: 0.7405\n",
            "Epoch 15/500\n",
            "1563/1563 [==============================] - 9s 6ms/step - loss: 0.4216 - accuracy: 0.8661 - val_loss: 0.8460 - val_accuracy: 0.7325\n",
            "Epoch 16/500\n",
            "1563/1563 [==============================] - 9s 6ms/step - loss: 0.4193 - accuracy: 0.8677 - val_loss: 0.9179 - val_accuracy: 0.7340\n",
            "Epoch 17/500\n",
            "1563/1563 [==============================] - 10s 6ms/step - loss: 0.3911 - accuracy: 0.8782 - val_loss: 0.9514 - val_accuracy: 0.7218\n",
            "Epoch 18/500\n",
            "1563/1563 [==============================] - 9s 6ms/step - loss: 0.3832 - accuracy: 0.8830 - val_loss: 0.9022 - val_accuracy: 0.7404\n",
            "Epoch 19/500\n",
            "1563/1563 [==============================] - 9s 6ms/step - loss: 0.3593 - accuracy: 0.8885 - val_loss: 0.9679 - val_accuracy: 0.7157\n",
            "Epoch 20/500\n",
            "1563/1563 [==============================] - 9s 6ms/step - loss: 0.3505 - accuracy: 0.8928 - val_loss: 0.9229 - val_accuracy: 0.7429\n",
            "Epoch 21/500\n",
            "1563/1563 [==============================] - 9s 6ms/step - loss: 0.3258 - accuracy: 0.9002 - val_loss: 1.0073 - val_accuracy: 0.7364\n",
            "Epoch 22/500\n",
            "1563/1563 [==============================] - 9s 6ms/step - loss: 0.3343 - accuracy: 0.9004 - val_loss: 0.9512 - val_accuracy: 0.7378\n",
            "Epoch 23/500\n",
            "1563/1563 [==============================] - 9s 6ms/step - loss: 0.3187 - accuracy: 0.9029 - val_loss: 0.9177 - val_accuracy: 0.7362\n",
            "Epoch 24/500\n",
            "1563/1563 [==============================] - 9s 6ms/step - loss: 0.3114 - accuracy: 0.9066 - val_loss: 1.0130 - val_accuracy: 0.7354\n",
            "Epoch 25/500\n",
            "1563/1563 [==============================] - 9s 6ms/step - loss: 0.3064 - accuracy: 0.9094 - val_loss: 0.9992 - val_accuracy: 0.7309\n",
            "Epoch 26/500\n",
            "1563/1563 [==============================] - 9s 6ms/step - loss: 0.2956 - accuracy: 0.9129 - val_loss: 1.0256 - val_accuracy: 0.7121\n",
            "Epoch 27/500\n",
            "1563/1563 [==============================] - 9s 6ms/step - loss: 0.3024 - accuracy: 0.9123 - val_loss: 1.0228 - val_accuracy: 0.7336\n",
            "Epoch 28/500\n",
            "1563/1563 [==============================] - 9s 6ms/step - loss: 0.2907 - accuracy: 0.9156 - val_loss: 1.1012 - val_accuracy: 0.7141\n",
            "Epoch 29/500\n",
            "1563/1563 [==============================] - 9s 6ms/step - loss: 0.3160 - accuracy: 0.9088 - val_loss: 0.9667 - val_accuracy: 0.7322\n",
            "Epoch 30/500\n",
            "1563/1563 [==============================] - 9s 6ms/step - loss: 0.2703 - accuracy: 0.9209 - val_loss: 1.0375 - val_accuracy: 0.7349\n",
            "Epoch 31/500\n",
            "1563/1563 [==============================] - 9s 6ms/step - loss: 0.2871 - accuracy: 0.9166 - val_loss: 0.9715 - val_accuracy: 0.7330\n",
            "Epoch 32/500\n",
            "1563/1563 [==============================] - 9s 6ms/step - loss: 0.2481 - accuracy: 0.9308 - val_loss: 0.9976 - val_accuracy: 0.7300\n",
            "Epoch 33/500\n",
            "1563/1563 [==============================] - 9s 6ms/step - loss: 0.2985 - accuracy: 0.9162 - val_loss: 1.0187 - val_accuracy: 0.7259\n",
            "Epoch 34/500\n",
            "1563/1563 [==============================] - 9s 6ms/step - loss: 0.2511 - accuracy: 0.9298 - val_loss: 0.9859 - val_accuracy: 0.7388\n",
            "Epoch 35/500\n",
            "1563/1563 [==============================] - 9s 6ms/step - loss: 0.2768 - accuracy: 0.9217 - val_loss: 1.0097 - val_accuracy: 0.7330\n",
            "Epoch 36/500\n",
            "1563/1563 [==============================] - 9s 6ms/step - loss: 0.2514 - accuracy: 0.9308 - val_loss: 1.0288 - val_accuracy: 0.7302\n",
            "Epoch 37/500\n",
            "1563/1563 [==============================] - 9s 6ms/step - loss: 0.2585 - accuracy: 0.9296 - val_loss: 1.0637 - val_accuracy: 0.7371\n",
            "Epoch 38/500\n",
            "1563/1563 [==============================] - 9s 6ms/step - loss: 0.2673 - accuracy: 0.9255 - val_loss: 1.0653 - val_accuracy: 0.7432\n",
            "Epoch 39/500\n",
            "1563/1563 [==============================] - 9s 6ms/step - loss: 0.2366 - accuracy: 0.9336 - val_loss: 1.1603 - val_accuracy: 0.7254\n",
            "Epoch 40/500\n",
            "1563/1563 [==============================] - 9s 6ms/step - loss: 0.2502 - accuracy: 0.9315 - val_loss: 1.0472 - val_accuracy: 0.7344\n",
            "Epoch 41/500\n",
            "1563/1563 [==============================] - 9s 6ms/step - loss: 0.2520 - accuracy: 0.9298 - val_loss: 1.1209 - val_accuracy: 0.7381\n",
            "Epoch 42/500\n",
            "1563/1563 [==============================] - 9s 6ms/step - loss: 0.2477 - accuracy: 0.9337 - val_loss: 1.1565 - val_accuracy: 0.7158\n",
            "Epoch 43/500\n",
            "1563/1563 [==============================] - 9s 6ms/step - loss: 0.2419 - accuracy: 0.9342 - val_loss: 1.1021 - val_accuracy: 0.7351\n",
            "Epoch 44/500\n",
            "1563/1563 [==============================] - 9s 6ms/step - loss: 0.2099 - accuracy: 0.9440 - val_loss: 1.0899 - val_accuracy: 0.7378\n",
            "Epoch 45/500\n",
            "1563/1563 [==============================] - 9s 6ms/step - loss: 0.2679 - accuracy: 0.9303 - val_loss: 1.1109 - val_accuracy: 0.7397\n",
            "Epoch 46/500\n",
            "1563/1563 [==============================] - 9s 6ms/step - loss: 0.2159 - accuracy: 0.9416 - val_loss: 1.1799 - val_accuracy: 0.7321\n",
            "Epoch 47/500\n",
            "1563/1563 [==============================] - 9s 6ms/step - loss: 0.2267 - accuracy: 0.9402 - val_loss: 1.1655 - val_accuracy: 0.7372\n",
            "Epoch 48/500\n",
            "1563/1563 [==============================] - 9s 6ms/step - loss: 0.2506 - accuracy: 0.9368 - val_loss: 1.1114 - val_accuracy: 0.7310\n",
            "Epoch 49/500\n",
            "1563/1563 [==============================] - 9s 6ms/step - loss: 0.2487 - accuracy: 0.9350 - val_loss: 1.0369 - val_accuracy: 0.7372\n",
            "Epoch 50/500\n",
            "1563/1563 [==============================] - 9s 6ms/step - loss: 0.2136 - accuracy: 0.9459 - val_loss: 1.1599 - val_accuracy: 0.6867\n",
            "Epoch 51/500\n",
            "1563/1563 [==============================] - 10s 6ms/step - loss: 0.2455 - accuracy: 0.9375 - val_loss: 1.1319 - val_accuracy: 0.7376\n",
            "Epoch 52/500\n",
            "1563/1563 [==============================] - 9s 6ms/step - loss: 0.2964 - accuracy: 0.9262 - val_loss: 1.1392 - val_accuracy: 0.7427\n",
            "Epoch 53/500\n",
            "1563/1563 [==============================] - 9s 6ms/step - loss: 0.2456 - accuracy: 0.9382 - val_loss: 1.1451 - val_accuracy: 0.7382\n",
            "Epoch 54/500\n",
            "1563/1563 [==============================] - 9s 6ms/step - loss: 0.2044 - accuracy: 0.9486 - val_loss: 1.0448 - val_accuracy: 0.7338\n",
            "Epoch 55/500\n",
            "1563/1563 [==============================] - 9s 6ms/step - loss: 0.1925 - accuracy: 0.9504 - val_loss: 1.0810 - val_accuracy: 0.7335\n",
            "Epoch 56/500\n",
            "1563/1563 [==============================] - 9s 6ms/step - loss: 0.2168 - accuracy: 0.9467 - val_loss: 1.1421 - val_accuracy: 0.7295\n",
            "Epoch 57/500\n",
            "1563/1563 [==============================] - 9s 6ms/step - loss: 0.2124 - accuracy: 0.9465 - val_loss: 1.2240 - val_accuracy: 0.7423\n",
            "Epoch 58/500\n",
            "1563/1563 [==============================] - 9s 6ms/step - loss: 0.2835 - accuracy: 0.9281 - val_loss: 1.1313 - val_accuracy: 0.7272\n",
            "Epoch 59/500\n",
            "1563/1563 [==============================] - 9s 6ms/step - loss: 0.2041 - accuracy: 0.9486 - val_loss: 1.2208 - val_accuracy: 0.7457\n",
            "Epoch 60/500\n",
            "1563/1563 [==============================] - 9s 6ms/step - loss: 0.1977 - accuracy: 0.9500 - val_loss: 1.1229 - val_accuracy: 0.7408\n",
            "Epoch 61/500\n",
            "1563/1563 [==============================] - 9s 6ms/step - loss: 0.2376 - accuracy: 0.9419 - val_loss: 1.1110 - val_accuracy: 0.7299\n",
            "Epoch 62/500\n",
            "1563/1563 [==============================] - 9s 6ms/step - loss: 0.1972 - accuracy: 0.9495 - val_loss: 1.2529 - val_accuracy: 0.7346\n",
            "Epoch 63/500\n",
            "1563/1563 [==============================] - 9s 6ms/step - loss: 0.1894 - accuracy: 0.9540 - val_loss: 1.3137 - val_accuracy: 0.7357\n",
            "Epoch 64/500\n",
            "1563/1563 [==============================] - 9s 6ms/step - loss: 0.2126 - accuracy: 0.9479 - val_loss: 1.3013 - val_accuracy: 0.7339\n",
            "Epoch 65/500\n",
            "1563/1563 [==============================] - 9s 6ms/step - loss: 0.2655 - accuracy: 0.9355 - val_loss: 1.2588 - val_accuracy: 0.7420\n",
            "Epoch 66/500\n",
            "1563/1563 [==============================] - 9s 6ms/step - loss: 0.2004 - accuracy: 0.9523 - val_loss: 1.2877 - val_accuracy: 0.7311\n",
            "Epoch 67/500\n",
            "1563/1563 [==============================] - 9s 6ms/step - loss: 0.2250 - accuracy: 0.9467 - val_loss: 1.3192 - val_accuracy: 0.7304\n",
            "Epoch 68/500\n",
            "1563/1563 [==============================] - 9s 6ms/step - loss: 0.2270 - accuracy: 0.9461 - val_loss: 1.3075 - val_accuracy: 0.7373\n",
            "Epoch 69/500\n",
            "1563/1563 [==============================] - 9s 6ms/step - loss: 0.4926 - accuracy: 0.8625 - val_loss: 1.1156 - val_accuracy: 0.7312\n",
            "Epoch 70/500\n",
            "1563/1563 [==============================] - 9s 6ms/step - loss: 0.2477 - accuracy: 0.9364 - val_loss: 1.4147 - val_accuracy: 0.7333\n",
            "Epoch 71/500\n",
            "1563/1563 [==============================] - 9s 6ms/step - loss: 0.1700 - accuracy: 0.9577 - val_loss: 1.2531 - val_accuracy: 0.7397\n",
            "Epoch 72/500\n",
            "1563/1563 [==============================] - 9s 6ms/step - loss: 0.1969 - accuracy: 0.9525 - val_loss: 1.2102 - val_accuracy: 0.7427\n",
            "Epoch 73/500\n",
            "1563/1563 [==============================] - 9s 6ms/step - loss: 0.2123 - accuracy: 0.9486 - val_loss: 1.2624 - val_accuracy: 0.7435\n",
            "Epoch 74/500\n",
            "1563/1563 [==============================] - 9s 6ms/step - loss: 0.2258 - accuracy: 0.9454 - val_loss: 1.3037 - val_accuracy: 0.7413\n",
            "Epoch 75/500\n",
            "1563/1563 [==============================] - 9s 6ms/step - loss: 0.1865 - accuracy: 0.9553 - val_loss: 1.2872 - val_accuracy: 0.7289\n",
            "Epoch 76/500\n",
            "1563/1563 [==============================] - 9s 6ms/step - loss: 0.2406 - accuracy: 0.9423 - val_loss: 1.3711 - val_accuracy: 0.5536\n",
            "Epoch 77/500\n",
            "1563/1563 [==============================] - 9s 6ms/step - loss: 0.2679 - accuracy: 0.9323 - val_loss: 1.4190 - val_accuracy: 0.7451\n",
            "Epoch 78/500\n",
            "1563/1563 [==============================] - 9s 6ms/step - loss: 0.1818 - accuracy: 0.9580 - val_loss: 1.2961 - val_accuracy: 0.7445\n",
            "Epoch 79/500\n",
            "1563/1563 [==============================] - 9s 6ms/step - loss: 0.2153 - accuracy: 0.9492 - val_loss: 1.4008 - val_accuracy: 0.7393\n",
            "Epoch 80/500\n",
            "1563/1563 [==============================] - 9s 6ms/step - loss: 0.3120 - accuracy: 0.9269 - val_loss: 1.2637 - val_accuracy: 0.7429\n",
            "Epoch 81/500\n",
            "1563/1563 [==============================] - 9s 6ms/step - loss: 0.2184 - accuracy: 0.9494 - val_loss: 1.5777 - val_accuracy: 0.7416\n",
            "Epoch 82/500\n",
            "1563/1563 [==============================] - 9s 6ms/step - loss: 0.1976 - accuracy: 0.9535 - val_loss: 1.3030 - val_accuracy: 0.7447\n",
            "Epoch 83/500\n",
            "1563/1563 [==============================] - 9s 6ms/step - loss: 0.2078 - accuracy: 0.9536 - val_loss: 1.3081 - val_accuracy: 0.7303\n",
            "Epoch 84/500\n",
            "1563/1563 [==============================] - 10s 6ms/step - loss: 0.1835 - accuracy: 0.9568 - val_loss: 1.3247 - val_accuracy: 0.7408\n",
            "Epoch 00084: early stopping\n"
          ],
          "name": "stdout"
        },
        {
          "output_type": "execute_result",
          "data": {
            "text/plain": [
              "<tensorflow.python.keras.callbacks.History at 0x7fddaa06f6a0>"
            ]
          },
          "metadata": {
            "tags": []
          },
          "execution_count": 26
        }
      ]
    },
    {
      "cell_type": "code",
      "metadata": {
        "colab": {
          "base_uri": "https://localhost:8080/"
        },
        "id": "jfwYHBexkQ6D",
        "outputId": "1037a3ad-995b-418d-fe92-f532ebb3f26f"
      },
      "source": [
        " c4f5.evaluate(X_test, y_test, batch_size = 32)"
      ],
      "execution_count": 28,
      "outputs": [
        {
          "output_type": "stream",
          "text": [
            "313/313 [==============================] - 1s 3ms/step - loss: 1.3247 - accuracy: 0.7408\n"
          ],
          "name": "stdout"
        },
        {
          "output_type": "execute_result",
          "data": {
            "text/plain": [
              "[1.324691653251648, 0.7408000230789185]"
            ]
          },
          "metadata": {
            "tags": []
          },
          "execution_count": 28
        }
      ]
    },
    {
      "cell_type": "markdown",
      "metadata": {
        "id": "3Ub3qGnjs4EI"
      },
      "source": [
        "## Graph of loss and accuracy\n",
        "- model: C4f5"
      ]
    },
    {
      "cell_type": "code",
      "metadata": {
        "id": "NiSAsgsNtUte"
      },
      "source": [
        "c4f5 = keras.models.Sequential([ \n",
        "    Conv2D(input_shape=(32,32,3),kernel_size=(3,3),strides=(1,1),filters= 64,padding='same',activation='relu'),\n",
        "    MaxPool2D(pool_size=(2,2), strides=(2,2)), \n",
        "    Conv2D(kernel_size=(3,3),strides=(1,1),filters= 128,padding='same',activation='relu'),\n",
        "    MaxPool2D(pool_size=(2,2), strides=(2,2)),\n",
        "    Conv2D(kernel_size=(3,3),strides=(1,1),filters= 256,padding='same',activation='relu'),\n",
        "    MaxPool2D(pool_size=(2,2), strides=(2,2)),\n",
        "    Conv2D(kernel_size=(3,3),strides=(1,1),filters= 512,padding='same',activation='relu'),\n",
        "    MaxPool2D(pool_size=(2,2), strides=(2,2)),\n",
        "    Flatten(), \n",
        "    keras.layers.Dense(128, activation='relu'),  \n",
        "    keras.layers.Dropout(0.25), \n",
        "    keras.layers.Dense(256, activation='relu'),  \n",
        "    keras.layers.Dropout(0.25), \n",
        "    keras.layers.Dense(512, activation='relu'),  \n",
        "    keras.layers.Dropout(0.25), \n",
        "    keras.layers.Dense(1024, activation='relu'),  \n",
        "    keras.layers.Dropout(0.25), \n",
        "    keras.layers.Dense(10, activation='softmax')\n",
        "])\n",
        "\n",
        "c4f5.compile(optimizer='adam',\n",
        "              loss='categorical_crossentropy',\n",
        "              metrics=['accuracy'])"
      ],
      "execution_count": 29,
      "outputs": []
    },
    {
      "cell_type": "code",
      "metadata": {
        "id": "-Yfqv2AqtUtz",
        "colab": {
          "base_uri": "https://localhost:8080/"
        },
        "outputId": "8ede83a7-bf03-40f0-b3c7-c18477e302f6"
      },
      "source": [
        "epoch = 39\n",
        "hist = c4f5.fit(X_train, y_train, \n",
        "         epochs = epoch, \n",
        "         batch_size =32, \n",
        "         validation_data=(X_test,y_test))"
      ],
      "execution_count": 30,
      "outputs": [
        {
          "output_type": "stream",
          "text": [
            "Epoch 1/39\n",
            "1563/1563 [==============================] - 9s 6ms/step - loss: 1.6723 - accuracy: 0.3625 - val_loss: 1.3634 - val_accuracy: 0.4905\n",
            "Epoch 2/39\n",
            "1563/1563 [==============================] - 9s 6ms/step - loss: 1.2480 - accuracy: 0.5553 - val_loss: 1.0908 - val_accuracy: 0.6187\n",
            "Epoch 3/39\n",
            "1563/1563 [==============================] - 9s 6ms/step - loss: 1.0491 - accuracy: 0.6389 - val_loss: 1.0507 - val_accuracy: 0.6392\n",
            "Epoch 4/39\n",
            "1563/1563 [==============================] - 9s 6ms/step - loss: 0.9241 - accuracy: 0.6837 - val_loss: 0.9781 - val_accuracy: 0.6652\n",
            "Epoch 5/39\n",
            "1563/1563 [==============================] - 9s 6ms/step - loss: 0.8471 - accuracy: 0.7128 - val_loss: 0.9621 - val_accuracy: 0.6724\n",
            "Epoch 6/39\n",
            "1563/1563 [==============================] - 9s 6ms/step - loss: 0.7729 - accuracy: 0.7390 - val_loss: 0.8622 - val_accuracy: 0.7116\n",
            "Epoch 7/39\n",
            "1563/1563 [==============================] - 9s 6ms/step - loss: 0.7072 - accuracy: 0.7642 - val_loss: 0.9054 - val_accuracy: 0.6948\n",
            "Epoch 8/39\n",
            "1563/1563 [==============================] - 9s 6ms/step - loss: 0.6566 - accuracy: 0.7806 - val_loss: 0.8419 - val_accuracy: 0.7203\n",
            "Epoch 9/39\n",
            "1563/1563 [==============================] - 9s 6ms/step - loss: 0.6119 - accuracy: 0.7976 - val_loss: 0.9034 - val_accuracy: 0.7096\n",
            "Epoch 10/39\n",
            "1563/1563 [==============================] - 9s 6ms/step - loss: 0.5760 - accuracy: 0.8113 - val_loss: 0.8337 - val_accuracy: 0.7305\n",
            "Epoch 11/39\n",
            "1563/1563 [==============================] - 9s 6ms/step - loss: 0.5409 - accuracy: 0.8228 - val_loss: 0.8614 - val_accuracy: 0.7185\n",
            "Epoch 12/39\n",
            "1563/1563 [==============================] - 9s 6ms/step - loss: 0.5135 - accuracy: 0.8335 - val_loss: 0.9035 - val_accuracy: 0.7178\n",
            "Epoch 13/39\n",
            "1563/1563 [==============================] - 9s 6ms/step - loss: 0.4807 - accuracy: 0.8449 - val_loss: 0.8960 - val_accuracy: 0.7261\n",
            "Epoch 14/39\n",
            "1563/1563 [==============================] - 9s 6ms/step - loss: 0.4611 - accuracy: 0.8516 - val_loss: 0.9662 - val_accuracy: 0.7074\n",
            "Epoch 15/39\n",
            "1563/1563 [==============================] - 9s 6ms/step - loss: 0.4357 - accuracy: 0.8614 - val_loss: 0.9092 - val_accuracy: 0.7298\n",
            "Epoch 16/39\n",
            "1563/1563 [==============================] - 9s 6ms/step - loss: 0.4276 - accuracy: 0.8657 - val_loss: 0.8614 - val_accuracy: 0.7308\n",
            "Epoch 17/39\n",
            "1563/1563 [==============================] - 9s 6ms/step - loss: 0.4006 - accuracy: 0.8752 - val_loss: 0.8992 - val_accuracy: 0.7314\n",
            "Epoch 18/39\n",
            "1563/1563 [==============================] - 9s 6ms/step - loss: 0.3892 - accuracy: 0.8796 - val_loss: 0.9584 - val_accuracy: 0.7340\n",
            "Epoch 19/39\n",
            "1563/1563 [==============================] - 9s 6ms/step - loss: 0.3772 - accuracy: 0.8822 - val_loss: 0.9360 - val_accuracy: 0.7341\n",
            "Epoch 20/39\n",
            "1563/1563 [==============================] - 9s 6ms/step - loss: 0.3616 - accuracy: 0.8886 - val_loss: 0.9464 - val_accuracy: 0.7227\n",
            "Epoch 21/39\n",
            "1563/1563 [==============================] - 9s 6ms/step - loss: 0.3558 - accuracy: 0.8924 - val_loss: 0.9994 - val_accuracy: 0.7213\n",
            "Epoch 22/39\n",
            "1563/1563 [==============================] - 9s 6ms/step - loss: 0.3563 - accuracy: 0.8934 - val_loss: 0.9681 - val_accuracy: 0.7315\n",
            "Epoch 23/39\n",
            "1563/1563 [==============================] - 9s 6ms/step - loss: 0.3331 - accuracy: 0.8999 - val_loss: 0.9625 - val_accuracy: 0.7356\n",
            "Epoch 24/39\n",
            "1563/1563 [==============================] - 9s 6ms/step - loss: 0.3196 - accuracy: 0.9050 - val_loss: 0.9946 - val_accuracy: 0.7368\n",
            "Epoch 25/39\n",
            "1563/1563 [==============================] - 9s 6ms/step - loss: 0.3178 - accuracy: 0.9055 - val_loss: 1.0162 - val_accuracy: 0.7319\n",
            "Epoch 26/39\n",
            "1563/1563 [==============================] - 9s 6ms/step - loss: 0.3288 - accuracy: 0.9033 - val_loss: 1.0274 - val_accuracy: 0.7369\n",
            "Epoch 27/39\n",
            "1563/1563 [==============================] - 9s 6ms/step - loss: 0.3073 - accuracy: 0.9100 - val_loss: 1.0527 - val_accuracy: 0.7315\n",
            "Epoch 28/39\n",
            "1563/1563 [==============================] - 9s 6ms/step - loss: 0.2994 - accuracy: 0.9130 - val_loss: 1.0922 - val_accuracy: 0.7138\n",
            "Epoch 29/39\n",
            "1563/1563 [==============================] - 10s 6ms/step - loss: 0.3034 - accuracy: 0.9099 - val_loss: 1.0268 - val_accuracy: 0.7295\n",
            "Epoch 30/39\n",
            "1563/1563 [==============================] - 9s 6ms/step - loss: 0.2945 - accuracy: 0.9159 - val_loss: 1.0174 - val_accuracy: 0.7384\n",
            "Epoch 31/39\n",
            "1563/1563 [==============================] - 9s 6ms/step - loss: 0.2775 - accuracy: 0.9222 - val_loss: 1.0335 - val_accuracy: 0.7290\n",
            "Epoch 32/39\n",
            "1563/1563 [==============================] - 9s 6ms/step - loss: 0.2783 - accuracy: 0.9201 - val_loss: 1.1903 - val_accuracy: 0.7375\n",
            "Epoch 33/39\n",
            "1563/1563 [==============================] - 9s 6ms/step - loss: 0.3621 - accuracy: 0.8968 - val_loss: 1.0173 - val_accuracy: 0.7336\n",
            "Epoch 34/39\n",
            "1563/1563 [==============================] - 9s 6ms/step - loss: 0.2670 - accuracy: 0.9230 - val_loss: 1.0645 - val_accuracy: 0.7365\n",
            "Epoch 35/39\n",
            "1563/1563 [==============================] - 9s 6ms/step - loss: 0.3415 - accuracy: 0.9048 - val_loss: 1.0045 - val_accuracy: 0.7383\n",
            "Epoch 36/39\n",
            "1563/1563 [==============================] - 9s 6ms/step - loss: 0.2656 - accuracy: 0.9253 - val_loss: 1.0653 - val_accuracy: 0.7308\n",
            "Epoch 37/39\n",
            "1563/1563 [==============================] - 9s 6ms/step - loss: 0.2515 - accuracy: 0.9303 - val_loss: 1.0972 - val_accuracy: 0.7264\n",
            "Epoch 38/39\n",
            "1563/1563 [==============================] - 9s 6ms/step - loss: 0.3422 - accuracy: 0.9048 - val_loss: 0.9885 - val_accuracy: 0.7146\n",
            "Epoch 39/39\n",
            "1563/1563 [==============================] - 9s 6ms/step - loss: 0.2641 - accuracy: 0.9268 - val_loss: 1.0376 - val_accuracy: 0.7364\n"
          ],
          "name": "stdout"
        }
      ]
    },
    {
      "cell_type": "code",
      "metadata": {
        "id": "WNmXXLhvWUiK",
        "colab": {
          "base_uri": "https://localhost:8080/",
          "height": 313
        },
        "outputId": "3848054a-0ebc-407b-84e9-ad345cc791a1"
      },
      "source": [
        "# Plot loass and accuracy\n",
        "# Plot training & validation accuracy values\n",
        "epochs = epoch\n",
        "loss_list = [100 * i for i in hist.history['loss']]\n",
        "acc_list = [100 * i for i in hist.history['accuracy']]\n",
        "plt.plot(range(1,epochs+1),loss_list) \n",
        "plt.plot(range(1,epochs+1),acc_list) \n",
        "plt.title('Model loss & accuracy')\n",
        "plt.ylabel('Accuracy (%)')\n",
        "plt.xlabel('Epoch')\n",
        "plt.legend(['loss', 'accuracy'], loc='center left')"
      ],
      "execution_count": 31,
      "outputs": [
        {
          "output_type": "execute_result",
          "data": {
            "text/plain": [
              "<matplotlib.legend.Legend at 0x7fdda8cab6a0>"
            ]
          },
          "metadata": {
            "tags": []
          },
          "execution_count": 31
        },
        {
          "output_type": "display_data",
          "data": {
            "image/png": "[encoded data removed]",
            "text/plain": [
              "<Figure size 432x288 with 1 Axes>"
            ]
          },
          "metadata": {
            "tags": [],
            "needs_background": "light"
          }
        }
      ]
    },
    {
      "cell_type": "code",
      "metadata": {
        "id": "0wNssVPhu_8m"
      },
      "source": [
        "vloss_list = [100 * i for i in hist.history['val_loss']]\n",
        "vacc_list = [100 * i for i in hist.history['val_accuracy']]"
      ],
      "execution_count": 32,
      "outputs": []
    },
    {
      "cell_type": "code",
      "metadata": {
        "id": "TX5Uzro4vjaY",
        "colab": {
          "base_uri": "https://localhost:8080/",
          "height": 313
        },
        "outputId": "e5c495fa-b960-49c4-a080-03e1659fb6cf"
      },
      "source": [
        "plt.plot(range(1,epochs+1),vloss_list)  \n",
        "plt.plot(range(1,epochs+1),vacc_list)  \n",
        "plt.title('Model val_loss & val_accuracy')\n",
        "plt.ylabel('Accuracy (%)')\n",
        "plt.xlabel('Epoch')\n",
        "plt.legend(['val_loss', 'val_accuracy'], loc='center left')"
      ],
      "execution_count": 33,
      "outputs": [
        {
          "output_type": "execute_result",
          "data": {
            "text/plain": [
              "<matplotlib.legend.Legend at 0x7fdda8d19f60>"
            ]
          },
          "metadata": {
            "tags": []
          },
          "execution_count": 33
        },
        {
          "output_type": "display_data",
          "data": {
            "image/png": "[encoded data removed]",
            "text/plain": [
              "<Figure size 432x288 with 1 Axes>"
            ]
          },
          "metadata": {
            "tags": [],
            "needs_background": "light"
          }
        }
      ]
    },
    {
      "cell_type": "code",
      "metadata": {
        "id": "blALTNdyvjVK",
        "colab": {
          "base_uri": "https://localhost:8080/",
          "height": 313
        },
        "outputId": "cdfceb82-ee01-40bc-cf11-ddb5a5b7b375"
      },
      "source": [
        "plt.plot(range(1,epochs+1),acc_list)  \n",
        "plt.plot(range(1,epochs+1),vacc_list)  \n",
        "plt.plot(np.argmax(np.array(vacc_list))+1,vacc_list[np.argmax(np.array(vacc_list))], 'r*') \n",
        "plt.title('accuracy vs. val_accuracy, best = ' +str(vacc_list[np.argmax(np.array(vacc_list))]))\n",
        "plt.ylabel('Accuracy (%)')\n",
        "plt.xlabel('Epoch')\n",
        "plt.legend(['accuracy','val_accuracy','best']) #, loc='center bottom')\n"
      ],
      "execution_count": 34,
      "outputs": [
        {
          "output_type": "execute_result",
          "data": {
            "text/plain": [
              "<matplotlib.legend.Legend at 0x7fdda8be1198>"
            ]
          },
          "metadata": {
            "tags": []
          },
          "execution_count": 34
        },
        {
          "output_type": "display_data",
          "data": {
            "image/png": "[encoded data removed]",
            "text/plain": [
              "<Figure size 432x288 with 1 Axes>"
            ]
          },
          "metadata": {
            "tags": [],
            "needs_background": "light"
          }
        }
      ]
    },
    {
      "cell_type": "markdown",
      "metadata": {
        "id": "SQ3M6vRVXG78"
      },
      "source": [
        "## cifar10 모델 학습\n",
        "> https://gruuuuu.github.io/machine-learning/cifar10-cnn/#"
      ]
    },
    {
      "cell_type": "markdown",
      "metadata": {
        "id": "gBPKMI4y3fsa"
      },
      "source": [
        "## 모형의 저장\n",
        "\n",
        "- 트레이닝이 끝난 모형은 save 메서드로 가중치와 함께 hdf5 형식으로 저장\n",
        "- load 명령으로 불러 사용"
      ]
    },
    {
      "cell_type": "code",
      "metadata": {
        "id": "KCfbQl2v3fsa"
      },
      "source": [
        "# c2f2.save('fmnist_cnn_best.hdf5')"
      ],
      "execution_count": 35,
      "outputs": []
    },
    {
      "cell_type": "code",
      "metadata": {
        "id": "b7-ysIVy3fse",
        "colab": {
          "base_uri": "https://localhost:8080/"
        },
        "outputId": "2863c3a9-3e39-42ff-89d3-be3af3809b7e"
      },
      "source": [
        "from keras.models import load_model\n",
        "\n",
        "model = load_model('cifar10_c4f5_best_weights.059-0.7457.hdf5')\n",
        "model.evaluate(X_test, y_test, batch_size=32)"
      ],
      "execution_count": 36,
      "outputs": [
        {
          "output_type": "stream",
          "text": [
            "313/313 [==============================] - 1s 3ms/step - loss: 1.2208 - accuracy: 0.7457\n"
          ],
          "name": "stdout"
        },
        {
          "output_type": "execute_result",
          "data": {
            "text/plain": [
              "[1.2208255529403687, 0.7457000017166138]"
            ]
          },
          "metadata": {
            "tags": []
          },
          "execution_count": 36
        }
      ]
    },
    {
      "cell_type": "markdown",
      "metadata": {
        "id": "KF3UzDJotZrh"
      },
      "source": [
        "## Confusion matrix"
      ]
    },
    {
      "cell_type": "code",
      "metadata": {
        "id": "RV1IaOyeu6Em"
      },
      "source": [
        "from sklearn.metrics import confusion_matrix\n",
        "import seaborn as sns"
      ],
      "execution_count": 37,
      "outputs": []
    },
    {
      "cell_type": "code",
      "metadata": {
        "id": "Bxs1eC-cuO0Y"
      },
      "source": [
        "predictions = model.predict(X_test)"
      ],
      "execution_count": 38,
      "outputs": []
    },
    {
      "cell_type": "code",
      "metadata": {
        "colab": {
          "base_uri": "https://localhost:8080/"
        },
        "id": "6Tqhg-UJujo5",
        "outputId": "e706d618-6c67-4512-8e30-279a7c1ecfc1"
      },
      "source": [
        "predictions.shape"
      ],
      "execution_count": 39,
      "outputs": [
        {
          "output_type": "execute_result",
          "data": {
            "text/plain": [
              "(10000, 10)"
            ]
          },
          "metadata": {
            "tags": []
          },
          "execution_count": 39
        }
      ]
    },
    {
      "cell_type": "code",
      "metadata": {
        "colab": {
          "base_uri": "https://localhost:8080/"
        },
        "id": "nZch1JFSufoR",
        "outputId": "6ad913cc-dd9b-4ae1-8caa-c1a7f6c61c35"
      },
      "source": [
        "predictions0 = np.argmax(predictions, axis=1)\n",
        "predictions0.shape"
      ],
      "execution_count": 40,
      "outputs": [
        {
          "output_type": "execute_result",
          "data": {
            "text/plain": [
              "(10000,)"
            ]
          },
          "metadata": {
            "tags": []
          },
          "execution_count": 40
        }
      ]
    },
    {
      "cell_type": "code",
      "metadata": {
        "id": "hiPMQeYXt12l"
      },
      "source": [
        "cm = confusion_matrix(y_test0, predictions0)"
      ],
      "execution_count": 41,
      "outputs": []
    },
    {
      "cell_type": "code",
      "metadata": {
        "id": "YITaGwYjvatc"
      },
      "source": [
        "class_names = ['airplane', 'automobile', 'bird', 'cat', 'deer', 'dog', 'frog', 'horse', 'ship', 'truck']"
      ],
      "execution_count": 42,
      "outputs": []
    },
    {
      "cell_type": "code",
      "metadata": {
        "colab": {
          "base_uri": "https://localhost:8080/",
          "height": 551
        },
        "id": "2qGHMNU3u8ut",
        "outputId": "f24e6fb8-89a0-4078-984b-efbf94842f80"
      },
      "source": [
        "plt.figure(figsize=(9,9))\n",
        "sns.heatmap(cm, cbar=False, xticklabels=class_names, yticklabels=class_names, fmt='d', annot=True, cmap=plt.cm.coolwarm)\n",
        "plt.xlabel('Predicted')\n",
        "plt.ylabel('Actual')\n",
        "plt.show()"
      ],
      "execution_count": 43,
      "outputs": [
        {
          "output_type": "display_data",
          "data": {
            "image/png": "[encoded data removed]",
            "text/plain": [
              "<Figure size 648x648 with 1 Axes>"
            ]
          },
          "metadata": {
            "tags": [],
            "needs_background": "light"
          }
        }
      ]
    },
    {
      "cell_type": "markdown",
      "metadata": {
        "id": "0n2PfCMBh2ju"
      },
      "source": [
        "# State of current scores of cifar-10\n",
        "\n",
        "> https://paperswithcode.com/sota/image-classification-on-cifar-10"
      ]
    },
    {
      "cell_type": "markdown",
      "metadata": {
        "id": "7abyx_2n0_7d"
      },
      "source": [
        "## Transfer learning on cifar-10\n",
        "\n",
        "- https://medium.com/@andrew.dabydeen/transfer-learning-using-resnet50-and-cifar-10-6242ed4b4245\n",
        "\n",
        "- https://medium.com/swlh/comparative-analysis-of-cifar-10-image-classification-transfer-learning-vs-user-defined-cnns-e673685d925e\n",
        "\n",
        "- https://medium.com/swlh/hands-on-the-cifar-10-dataset-with-transfer-learning-2e768fd6c318\n",
        "\n",
        "- https://medium.com/analytics-vidhya/the-transfer-learning-experience-with-vgg16-and-cifar-10-dataset-9b25b306a23f"
      ]
    },
    {
      "cell_type": "code",
      "metadata": {
        "id": "o5iFioeMiAHE"
      },
      "source": [
        ""
      ],
      "execution_count": null,
      "outputs": []
    }
  ]
}