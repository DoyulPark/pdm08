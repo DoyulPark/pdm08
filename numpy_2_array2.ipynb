{
  "nbformat": 4,
  "nbformat_minor": 0,
  "metadata": {
    "colab": {
      "name": "numpy_2_array2.ipynb",
      "provenance": [],
      "collapsed_sections": [],
      "include_colab_link": true
    },
    "kernelspec": {
      "name": "python3",
      "display_name": "Python 3"
    }
  },
  "cells": [
    {
      "cell_type": "markdown",
      "metadata": {
        "id": "view-in-github",
        "colab_type": "text"
      },
      "source": [
        "<a href=\"https://colab.research.google.com/github/DoyulPark/pdm08/blob/master/numpy_2_array2.ipynb\" target=\"_parent\"><img src=\"https://colab.research.google.com/assets/colab-badge.svg\" alt=\"Open In Colab\"/></a>"
      ]
    },
    {
      "cell_type": "markdown",
      "metadata": {
        "id": "_zrirXHfgmyY",
        "colab_type": "text"
      },
      "source": [
        "# numpy\n",
        "## concatenate()를 이용한 배열 결합\n",
        "> [numpy 배열 합치기, concatenate 함수](https://m.blog.naver.com/PostView.nhn?blogId=qbxlvnf11&logNo=221490583222&categoryNo=0&proxyReferer=https%3A%2F%2Fwww.google.com%2F)"
      ]
    },
    {
      "cell_type": "code",
      "metadata": {
        "id": "CDwOGQJ49LE3",
        "colab_type": "code",
        "colab": {}
      },
      "source": [
        "import numpy as np"
      ],
      "execution_count": 1,
      "outputs": []
    },
    {
      "cell_type": "code",
      "metadata": {
        "id": "AJyEO89Y9bwx",
        "colab_type": "code",
        "colab": {
          "base_uri": "https://localhost:8080/",
          "height": 53
        },
        "outputId": "a06d9021-6041-42de-dfc1-e6be699ff2c0"
      },
      "source": [
        "ar1 = np.array(range(1,5)).reshape(2,2)\n",
        "ar1"
      ],
      "execution_count": 2,
      "outputs": [
        {
          "output_type": "execute_result",
          "data": {
            "text/plain": [
              "array([[1, 2],\n",
              "       [3, 4]])"
            ]
          },
          "metadata": {
            "tags": []
          },
          "execution_count": 2
        }
      ]
    },
    {
      "cell_type": "code",
      "metadata": {
        "id": "ZihwnXV4-yOt",
        "colab_type": "code",
        "colab": {
          "base_uri": "https://localhost:8080/",
          "height": 35
        },
        "outputId": "d2e22a8a-123d-452b-b1b0-de3678951116"
      },
      "source": [
        "ar1.shape"
      ],
      "execution_count": 3,
      "outputs": [
        {
          "output_type": "execute_result",
          "data": {
            "text/plain": [
              "(2, 2)"
            ]
          },
          "metadata": {
            "tags": []
          },
          "execution_count": 3
        }
      ]
    },
    {
      "cell_type": "code",
      "metadata": {
        "id": "ZzFyvMlgeIGQ",
        "colab_type": "code",
        "colab": {}
      },
      "source": [
        "ar2 = np.array(range(5,11)).reshape(2,3)  # np.array(range(5,11)).reshape(-1,3)\n",
        "ar2"
      ],
      "execution_count": null,
      "outputs": []
    },
    {
      "cell_type": "code",
      "metadata": {
        "id": "w-1gGrBueSqI",
        "colab_type": "code",
        "colab": {}
      },
      "source": [
        "ar2.shape  # 2 X 3 array"
      ],
      "execution_count": null,
      "outputs": []
    },
    {
      "cell_type": "markdown",
      "metadata": {
        "id": "-RUqNH1jefLd",
        "colab_type": "text"
      },
      "source": [
        "## concatenate()를 이용한 배열 합치기\n"
      ]
    },
    {
      "cell_type": "markdown",
      "metadata": {
        "id": "-rMO4Jzwfqnw",
        "colab_type": "text"
      },
      "source": [
        "- concatenate(array1, array2, axis = 0)\n",
        "- concatenate(array1, array2, axis = 1)\n",
        "- concatenate(array1, array2, axis = None)"
      ]
    },
    {
      "cell_type": "code",
      "metadata": {
        "id": "Ib68XISkeW34",
        "colab_type": "code",
        "colab": {}
      },
      "source": [
        "np.concatenate((ar1,ar1), axis=0)"
      ],
      "execution_count": null,
      "outputs": []
    },
    {
      "cell_type": "code",
      "metadata": {
        "id": "peJO0eQiezng",
        "colab_type": "code",
        "colab": {}
      },
      "source": [
        "np.concatenate((ar1,ar1), axis=1)"
      ],
      "execution_count": null,
      "outputs": []
    },
    {
      "cell_type": "code",
      "metadata": {
        "colab_type": "code",
        "id": "HV9kfBoGf_29",
        "colab": {}
      },
      "source": [
        "np.concatenate((ar1,ar1), axis=None)"
      ],
      "execution_count": null,
      "outputs": []
    },
    {
      "cell_type": "markdown",
      "metadata": {
        "id": "hGAJVGgeKkiI",
        "colab_type": "text"
      },
      "source": [
        "### ar2에 대하여도 배열합치기를 해보시오."
      ]
    },
    {
      "cell_type": "markdown",
      "metadata": {
        "id": "Hl_PgVdzgEAA",
        "colab_type": "text"
      },
      "source": [
        "### Error in concatenation"
      ]
    },
    {
      "cell_type": "code",
      "metadata": {
        "id": "wdhuj5Vie8FX",
        "colab_type": "code",
        "colab": {}
      },
      "source": [
        "np.concatenate((ar1,ar2), axis=0)"
      ],
      "execution_count": null,
      "outputs": []
    },
    {
      "cell_type": "markdown",
      "metadata": {
        "id": "5w2gtJc570pG",
        "colab_type": "text"
      },
      "source": [
        "> ar1의 열의 갯수 == ar2의 열의 갯수"
      ]
    },
    {
      "cell_type": "code",
      "metadata": {
        "id": "z3y05uAz8G-X",
        "colab_type": "code",
        "colab": {}
      },
      "source": [
        "ar1.shape, ar2.shape"
      ],
      "execution_count": null,
      "outputs": []
    },
    {
      "cell_type": "code",
      "metadata": {
        "id": "Gxhxr_Zq8cv1",
        "colab_type": "code",
        "colab": {}
      },
      "source": [
        "ar2.T.shape"
      ],
      "execution_count": null,
      "outputs": []
    },
    {
      "cell_type": "code",
      "metadata": {
        "id": "-YluBjwJe-ZA",
        "colab_type": "code",
        "colab": {}
      },
      "source": [
        "np.concatenate((ar1,ar2.T), axis=0)"
      ],
      "execution_count": null,
      "outputs": []
    },
    {
      "cell_type": "markdown",
      "metadata": {
        "id": "SdshjTzPfesK",
        "colab_type": "text"
      },
      "source": [
        "### concatenate(array1, array2, axis = 1)"
      ]
    },
    {
      "cell_type": "code",
      "metadata": {
        "id": "w9kFrYBhfHk3",
        "colab_type": "code",
        "colab": {}
      },
      "source": [
        "np.concatenate((ar1,ar2), axis=1)"
      ],
      "execution_count": null,
      "outputs": []
    },
    {
      "cell_type": "markdown",
      "metadata": {
        "id": "jyLRkxWphKuh",
        "colab_type": "text"
      },
      "source": [
        "\n",
        "\n",
        "---\n",
        "\n",
        "\n",
        "\n",
        "---\n",
        "\n"
      ]
    },
    {
      "cell_type": "markdown",
      "metadata": {
        "colab_type": "text",
        "id": "0bOTc7xGhNL_"
      },
      "source": [
        "## [복습] numpy 배열 연산: broadcasting\n",
        "> [파이썬 Numpy 라이브러리 (5) Broadcasting|작성자 예비개발자](https://blog.naver.com/qbxlvnf11/221509303462)"
      ]
    },
    {
      "cell_type": "code",
      "metadata": {
        "id": "dbwtQs2_gW4I",
        "colab_type": "code",
        "colab": {}
      },
      "source": [
        "a = np.array([1.0, 2.0, 3.0])\n",
        "b = np.array([2.0, 2.0, 2.0])\n",
        "a * b   # elementwise multiplication\n",
        "# [출처] 파이썬 Numpy 라이브러리 (5) Broadcasting|작성자 예비개발자\n"
      ],
      "execution_count": null,
      "outputs": []
    },
    {
      "cell_type": "code",
      "metadata": {
        "id": "Ulu6tHKKh_KH",
        "colab_type": "code",
        "colab": {}
      },
      "source": [
        "a = np.array([1.0, 2.0, 3.0])\n",
        "b = 2.0\n",
        "a * b   # broadcasted multiplication\n"
      ],
      "execution_count": null,
      "outputs": []
    },
    {
      "cell_type": "markdown",
      "metadata": {
        "id": "5GD4KImwiVMK",
        "colab_type": "text"
      },
      "source": [
        "> 차원이 다른 두 개의 피연산자를 산술 연산할 때는 원래 연산이 불가능합니다.\n",
        "하지만, 연산이 가능하도록 배열 b가 브로드캐스팅이 되어 numpy array ([2.0, 2.0, 2.0])으로 확장됩니다."
      ]
    },
    {
      "cell_type": "markdown",
      "metadata": {
        "id": "AawX49nxjTc6",
        "colab_type": "text"
      },
      "source": [
        "### 2차원 broadcasting"
      ]
    },
    {
      "cell_type": "code",
      "metadata": {
        "id": "knujYDR0iYLi",
        "colab_type": "code",
        "colab": {}
      },
      "source": [
        "a = np.array([[ 0.0,  0.0,  0.0],\n",
        "              [10.0, 10.0, 10.0],\n",
        "              [20.0, 20.0, 20.0],\n",
        "              [30.0, 30.0, 30.0]])\n",
        "\n",
        "b = np.array([1.0, 2.0, 3.0])\n",
        "\n",
        "a + b"
      ],
      "execution_count": null,
      "outputs": []
    },
    {
      "cell_type": "code",
      "metadata": {
        "id": "cWfxzXxvjdWn",
        "colab_type": "code",
        "colab": {}
      },
      "source": [
        "(a+b).shape"
      ],
      "execution_count": null,
      "outputs": []
    },
    {
      "cell_type": "code",
      "metadata": {
        "id": "LqvXRY40jjZ7",
        "colab_type": "code",
        "colab": {}
      },
      "source": [
        "from numpy import array, newaxis\n",
        "a = array([0.0, 10.0, 20.0, 30.0])\n",
        "b = array([1.0, 2.0, 3.0])\n",
        "c = a[:,newaxis] + b\n",
        "c\n"
      ],
      "execution_count": null,
      "outputs": []
    },
    {
      "cell_type": "code",
      "metadata": {
        "id": "JHIEdW8s8RGN",
        "colab_type": "code",
        "colab": {}
      },
      "source": [
        "c.shape"
      ],
      "execution_count": null,
      "outputs": []
    },
    {
      "cell_type": "code",
      "metadata": {
        "id": "Y5ud-HFW8eIf",
        "colab_type": "code",
        "colab": {}
      },
      "source": [
        ""
      ],
      "execution_count": null,
      "outputs": []
    }
  ]
}