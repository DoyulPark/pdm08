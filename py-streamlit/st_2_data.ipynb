{
  "nbformat": 4,
  "nbformat_minor": 0,
  "metadata": {
    "colab": {
      "name": "st_2_data.ipynb",
      "provenance": [],
      "collapsed_sections": [],
      "include_colab_link": true
    },
    "kernelspec": {
      "name": "python3",
      "display_name": "Python 3"
    }
  },
  "cells": [
    {
      "cell_type": "markdown",
      "metadata": {
        "id": "view-in-github",
        "colab_type": "text"
      },
      "source": [
        "<a href=\"https://colab.research.google.com/github/DoyulPark/pdm08/blob/master/py-streamlit/st_2_data.ipynb\" target=\"_parent\"><img src=\"https://colab.research.google.com/assets/colab-badge.svg\" alt=\"Open In Colab\"/></a>"
      ]
    },
    {
      "cell_type": "markdown",
      "metadata": {
        "id": "O5Gq5ZnKOKpX"
      },
      "source": [
        "\n",
        "\n",
        "# streamlit\n",
        "\n",
        "- WebApp generation module => \n",
        "[streamlit-vs-dash-vs-shiny-vs-voila-vs-flask-vs-jupyter](https://towardsdatascience.com/streamlit-vs-dash-vs-shiny-vs-voila-vs-flask-vs-jupyter-24739ab5d569)\n",
        "- !pip install -q streamlit\n",
        "- !pip install pyngrok\n",
        "\n",
        "- Run webapp in Colab\n",
        "    * make streamlit python code\n",
        "    * !streamlit run *.py &>/dev/null&\n",
        "\n",
        "> [How to run streamlit app in colab?](https://mc.ai/how-to-run-and-share-your-deep-learning-web-app-on-colab-2/)"
      ]
    },
    {
      "cell_type": "code",
      "metadata": {
        "id": "R8l0okryNgBJ",
        "outputId": "b267c8a6-a05c-4fa1-ae60-d45af6825cca",
        "colab": {
          "base_uri": "https://localhost:8080/",
          "height": 297
        }
      },
      "source": [
        "!pip install -q streamlit"
      ],
      "execution_count": 1,
      "outputs": [
        {
          "output_type": "stream",
          "text": [
            "\u001b[K     |████████████████████████████████| 7.4MB 2.1MB/s \n",
            "\u001b[K     |████████████████████████████████| 102kB 10.1MB/s \n",
            "\u001b[K     |████████████████████████████████| 133kB 46.9MB/s \n",
            "\u001b[K     |████████████████████████████████| 163kB 33.5MB/s \n",
            "\u001b[K     |████████████████████████████████| 4.4MB 42.3MB/s \n",
            "\u001b[K     |████████████████████████████████| 6.7MB 49.9MB/s \n",
            "\u001b[K     |████████████████████████████████| 112kB 44.6MB/s \n",
            "\u001b[K     |████████████████████████████████| 71kB 7.9MB/s \n",
            "\u001b[K     |████████████████████████████████| 71kB 7.7MB/s \n",
            "\u001b[K     |████████████████████████████████| 122kB 48.6MB/s \n",
            "\u001b[?25h  Building wheel for watchdog (setup.py) ... \u001b[?25l\u001b[?25hdone\n",
            "  Building wheel for blinker (setup.py) ... \u001b[?25l\u001b[?25hdone\n",
            "  Building wheel for pathtools (setup.py) ... \u001b[?25l\u001b[?25hdone\n",
            "\u001b[31mERROR: google-colab 1.0.0 has requirement ipykernel~=4.10, but you'll have ipykernel 5.3.4 which is incompatible.\u001b[0m\n",
            "\u001b[31mERROR: botocore 1.19.4 has requirement urllib3<1.26,>=1.25.4; python_version != \"3.4\", but you'll have urllib3 1.24.3 which is incompatible.\u001b[0m\n"
          ],
          "name": "stdout"
        }
      ]
    },
    {
      "cell_type": "code",
      "metadata": {
        "id": "7kz92O-cUf5v",
        "outputId": "ee816efb-40fc-4096-8e0b-5abdd4574db9",
        "colab": {
          "base_uri": "https://localhost:8080/",
          "height": 204
        }
      },
      "source": [
        "!pip install pyngrok"
      ],
      "execution_count": 2,
      "outputs": [
        {
          "output_type": "stream",
          "text": [
            "Collecting pyngrok\n",
            "  Downloading https://files.pythonhosted.org/packages/ea/63/e086f165125e9bf2e71c0db2955911baaaa0af8947ab5c7b3771bdf4d4d5/pyngrok-5.0.0.tar.gz\n",
            "Requirement already satisfied: PyYAML in /usr/local/lib/python3.6/dist-packages (from pyngrok) (3.13)\n",
            "Building wheels for collected packages: pyngrok\n",
            "  Building wheel for pyngrok (setup.py) ... \u001b[?25l\u001b[?25hdone\n",
            "  Created wheel for pyngrok: filename=pyngrok-5.0.0-cp36-none-any.whl size=18780 sha256=ac6fcfd4f4c0b00b8bdde12287701079642e2013cd030e354907057cb9c31395\n",
            "  Stored in directory: /root/.cache/pip/wheels/95/df/23/af8dde08c3fcdc7b966adcacef48ab29aa3b0b1860df5d2b79\n",
            "Successfully built pyngrok\n",
            "Installing collected packages: pyngrok\n",
            "Successfully installed pyngrok-5.0.0\n"
          ],
          "name": "stdout"
        }
      ]
    },
    {
      "cell_type": "markdown",
      "metadata": {
        "id": "qGIbFpyabeYG"
      },
      "source": [
        "### st-app-02\n",
        "- load data\n",
        "- make dataframe\n",
        "- show dataframe\n",
        "\n",
        "> [streamlit 기초](https://medium.com/@lucaseo0147/kr-%ED%8C%8C%EC%9D%B4%EC%8D%AC-%EC%9B%B9%EC%96%B4%ED%94%8C%EB%A6%AC%EC%BC%80%EC%9D%B4%EC%85%98-%EB%A7%9B%EB%B3%B4%EA%B8%B0-feat-streamlit-846937a7438d)"
      ]
    },
    {
      "cell_type": "code",
      "metadata": {
        "id": "49aaqaCXmU0t"
      },
      "source": [
        "## Load data\n",
        "import pandas as pd\n",
        "from sklearn.datasets import load_iris\n",
        "iris = load_iris()"
      ],
      "execution_count": null,
      "outputs": []
    },
    {
      "cell_type": "code",
      "metadata": {
        "id": "6MQyS1tvmn2x"
      },
      "source": [
        "type(iris)"
      ],
      "execution_count": null,
      "outputs": []
    },
    {
      "cell_type": "code",
      "metadata": {
        "id": "QDqdc3lsm7Dk"
      },
      "source": [
        "iris.data.shape"
      ],
      "execution_count": null,
      "outputs": []
    },
    {
      "cell_type": "code",
      "metadata": {
        "id": "qvruXbBZm-4c"
      },
      "source": [
        "iris.feature_names"
      ],
      "execution_count": null,
      "outputs": []
    },
    {
      "cell_type": "code",
      "metadata": {
        "id": "oiQwQtkdmj8C"
      },
      "source": [
        "iris_df = pd.DataFrame(iris.data, columns=iris.feature_names)"
      ],
      "execution_count": null,
      "outputs": []
    },
    {
      "cell_type": "code",
      "metadata": {
        "id": "aNNg9qqfnKjk"
      },
      "source": [
        "iris_df.shape, iris_df.columns"
      ],
      "execution_count": null,
      "outputs": []
    },
    {
      "cell_type": "code",
      "metadata": {
        "id": "8UwRK0QTnS85"
      },
      "source": [
        "iris_df.head()"
      ],
      "execution_count": null,
      "outputs": []
    },
    {
      "cell_type": "code",
      "metadata": {
        "id": "BEYdqnLnnpDC"
      },
      "source": [
        "iris['target'].shape"
      ],
      "execution_count": null,
      "outputs": []
    },
    {
      "cell_type": "code",
      "metadata": {
        "id": "i0qjxnFWnvMx"
      },
      "source": [
        "iris['target']"
      ],
      "execution_count": null,
      "outputs": []
    },
    {
      "cell_type": "code",
      "metadata": {
        "id": "dG1A0tLjnJeE"
      },
      "source": [
        "# Set label of iris target\n",
        "iris_df['target'] = iris['target']\n",
        "iris_df['target'] = iris_df['target'].apply(lambda x: 'setosa' if x == 0 else ('versicolor' if x == 1 else 'virginica'))"
      ],
      "execution_count": null,
      "outputs": []
    },
    {
      "cell_type": "code",
      "metadata": {
        "id": "A0kvn9Jon9_j"
      },
      "source": [
        "iris_df.head()"
      ],
      "execution_count": null,
      "outputs": []
    },
    {
      "cell_type": "markdown",
      "metadata": {
        "id": "RFQf7xGBoWTg"
      },
      "source": [
        "### streamlit code\n",
        "```\n",
        "import streamlit as st\n",
        "## Load data\n",
        "import pandas as pd\n",
        "from sklearn.datasets import load_iris\n",
        "iris = load_iris()\n",
        "iris_df = pd.DataFrame(iris.data, columns=iris.feature_names)\n",
        "iris_df['target'] = iris['target']\n",
        "iris_df['target'] = iris_df['target'].apply(lambda x: 'setosa' if x == 0 else ('versicolor' if x == 1 else 'virginica'))\n",
        "\n",
        "## Return table/dataframe\n",
        "# table\n",
        "st.table(iris_df.head())\n",
        "\n",
        "# dataframe\n",
        "st.dataframe(iris_df)\n",
        "\n",
        "st.write(iris_df)\n",
        "\n",
        "```"
      ]
    },
    {
      "cell_type": "code",
      "metadata": {
        "id": "WLwyAK0xV_yu"
      },
      "source": [
        "!streamlit run st_02_data.py &>/dev/null&"
      ],
      "execution_count": null,
      "outputs": []
    },
    {
      "cell_type": "code",
      "metadata": {
        "id": "SJRONSuiX4gJ"
      },
      "source": [
        "from pyngrok import ngrok\n",
        "# Setup a tunnel to the streamlit port 8501\n",
        "public_url = ngrok.connect(port='8501')\n",
        "public_url"
      ],
      "execution_count": null,
      "outputs": []
    },
    {
      "cell_type": "markdown",
      "metadata": {
        "id": "t7CpOdeFttzY"
      },
      "source": [
        "***"
      ]
    },
    {
      "cell_type": "markdown",
      "metadata": {
        "id": "oquiDq8xtTlG"
      },
      "source": [
        "### [도전 과제]\n",
        "\n",
        "- Update st_02_data.py\n",
        "    * Show diabetes.csv in dataframe\n",
        "    * https://github.com/Redwoods/Py/raw/master/pdm2020/my-note/py-pandas/data/diabetes.csv"
      ]
    },
    {
      "cell_type": "markdown",
      "metadata": {
        "id": "_-A11fShtv4v"
      },
      "source": [
        "***"
      ]
    },
    {
      "cell_type": "markdown",
      "metadata": {
        "id": "04-bP_keed1E"
      },
      "source": [
        "# st-app-demo-01\n",
        "- example : ML of iris data"
      ]
    },
    {
      "cell_type": "markdown",
      "metadata": {
        "id": "AbdShmjut0Uc"
      },
      "source": [
        "### Colab에서 새로운 streamlit 앱을 실행하는 방법\n",
        "- 런타임 초기화\n",
        "- 새로 연결\n",
        "- upload files\n",
        "    * iris-ml-app.py"
      ]
    },
    {
      "cell_type": "code",
      "metadata": {
        "id": "r40wJWwIeZje"
      },
      "source": [
        "!streamlit run iris-ml-app.py &>/dev/null&"
      ],
      "execution_count": 3,
      "outputs": []
    },
    {
      "cell_type": "code",
      "metadata": {
        "id": "_WWniiGpeZjr",
        "outputId": "59b1856d-28a3-4107-e304-ba352e9a87cb",
        "colab": {
          "base_uri": "https://localhost:8080/",
          "height": 36
        }
      },
      "source": [
        "from pyngrok import ngrok\n",
        "# Setup a tunnel to the streamlit port 8501\n",
        "public_url = ngrok.connect(port='8501')\n",
        "public_url"
      ],
      "execution_count": 4,
      "outputs": [
        {
          "output_type": "stream",
          "text": [
            ""
          ],
          "name": "stdout"
        },
        {
          "output_type": "execute_result",
          "data": {
            "text/plain": [
              "<NgrokTunnel: \"http://cb1b64ef6e93.ngrok.io\" -> \"http://localhost:80\">"
            ]
          },
          "metadata": {
            "tags": []
          },
          "execution_count": 4
        }
      ]
    },
    {
      "cell_type": "markdown",
      "metadata": {
        "id": "p4EPpG6G254D"
      },
      "source": [
        "## streamlit cheat sheet\n",
        "- https://share.streamlit.io/daniellewisdl/streamlit-cheat-sheet/app.py"
      ]
    }
  ]
}