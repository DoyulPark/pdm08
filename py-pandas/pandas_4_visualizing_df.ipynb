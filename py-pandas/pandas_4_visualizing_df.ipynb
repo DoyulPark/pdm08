{
  "nbformat": 4,
  "nbformat_minor": 0,
  "metadata": {
    "kernelspec": {
      "name": "python3",
      "display_name": "Python 3"
    },
    "language_info": {
      "codemirror_mode": {
        "name": "ipython",
        "version": 3
      },
      "file_extension": ".py",
      "mimetype": "text/x-python",
      "name": "python",
      "nbconvert_exporter": "python",
      "pygments_lexer": "ipython3",
      "version": "3.6.6"
    },
    "colab": {
      "name": "pandas_4_visualizing_df.ipynb",
      "provenance": [],
      "collapsed_sections": [],
      "include_colab_link": true
    }
  },
  "cells": [
    {
      "cell_type": "markdown",
      "metadata": {
        "id": "view-in-github",
        "colab_type": "text"
      },
      "source": [
        "<a href=\"https://colab.research.google.com/github/DoyulPark/pdm08/blob/master/py-pandas/pandas_4_visualizing_df.ipynb\" target=\"_parent\"><img src=\"https://colab.research.google.com/assets/colab-badge.svg\" alt=\"Open In Colab\"/></a>"
      ]
    },
    {
      "cell_type": "markdown",
      "metadata": {
        "id": "-a_Ksvwdx5pf"
      },
      "source": [
        "### Python module 3. **pandas**"
      ]
    },
    {
      "cell_type": "markdown",
      "metadata": {
        "id": "P_F0RSPKx5pl"
      },
      "source": [
        "# Using pandas"
      ]
    },
    {
      "cell_type": "markdown",
      "metadata": {
        "id": "FfxMgWUFx5pm"
      },
      "source": [
        "* [10 Minutes to pandas](https://pandas.pydata.org/pandas-docs/stable/10min.html)\n",
        "* [Pandas tutorial with interactive exercises](https://www.kaggle.com/pistak/pandas-tutorial-with-interactive-exercises)"
      ]
    },
    {
      "cell_type": "code",
      "metadata": {
        "id": "2mpGSeRlx5po"
      },
      "source": [
        "import pandas as pd\n",
        "import numpy as np\n",
        "import matplotlib.pyplot as plt # plt로 import\n",
        "# %matplotlib inline  # work for Jupyter notebook or lab"
      ],
      "execution_count": 3,
      "outputs": []
    },
    {
      "cell_type": "code",
      "metadata": {
        "id": "w2eNkCfLx5p-",
        "outputId": "c691d41c-7c44-4194-cb51-ace7b344565f",
        "colab": {
          "base_uri": "https://localhost:8080/",
          "height": 73
        }
      },
      "source": [
        "# Creating a DataFrame by passing a NumPy array, with a datetime index and labeled columns:\n",
        "dates = pd.date_range('20200928', periods=6)  # 6일 동안의 index를 생성\n",
        "dates"
      ],
      "execution_count": 4,
      "outputs": [
        {
          "output_type": "execute_result",
          "data": {
            "text/plain": [
              "DatetimeIndex(['2020-09-28', '2020-09-29', '2020-09-30', '2020-10-01',\n",
              "               '2020-10-02', '2020-10-03'],\n",
              "              dtype='datetime64[ns]', freq='D')"
            ]
          },
          "metadata": {
            "tags": []
          },
          "execution_count": 4
        }
      ]
    },
    {
      "cell_type": "code",
      "metadata": {
        "id": "dHwUodTGx5qj",
        "outputId": "954f1316-1577-4d9d-cf88-1e06a05572b0",
        "colab": {
          "base_uri": "https://localhost:8080/",
          "height": 233
        }
      },
      "source": [
        "# head()\n",
        "df = pd.DataFrame(np.random.randn(6,4), index=dates, columns=list('ABCD'))  # 데이터 프레임을 만듬\n",
        "df"
      ],
      "execution_count": 5,
      "outputs": [
        {
          "output_type": "execute_result",
          "data": {
            "text/html": [
              "<div>\n",
              "<style scoped>\n",
              "    .dataframe tbody tr th:only-of-type {\n",
              "        vertical-align: middle;\n",
              "    }\n",
              "\n",
              "    .dataframe tbody tr th {\n",
              "        vertical-align: top;\n",
              "    }\n",
              "\n",
              "    .dataframe thead th {\n",
              "        text-align: right;\n",
              "    }\n",
              "</style>\n",
              "<table border=\"1\" class=\"dataframe\">\n",
              "  <thead>\n",
              "    <tr style=\"text-align: right;\">\n",
              "      <th></th>\n",
              "      <th>A</th>\n",
              "      <th>B</th>\n",
              "      <th>C</th>\n",
              "      <th>D</th>\n",
              "    </tr>\n",
              "  </thead>\n",
              "  <tbody>\n",
              "    <tr>\n",
              "      <th>2020-09-28</th>\n",
              "      <td>1.784149</td>\n",
              "      <td>0.661528</td>\n",
              "      <td>-0.860923</td>\n",
              "      <td>0.237545</td>\n",
              "    </tr>\n",
              "    <tr>\n",
              "      <th>2020-09-29</th>\n",
              "      <td>-2.810148</td>\n",
              "      <td>0.875390</td>\n",
              "      <td>0.048838</td>\n",
              "      <td>0.085494</td>\n",
              "    </tr>\n",
              "    <tr>\n",
              "      <th>2020-09-30</th>\n",
              "      <td>-1.430271</td>\n",
              "      <td>-0.069535</td>\n",
              "      <td>2.094814</td>\n",
              "      <td>0.841728</td>\n",
              "    </tr>\n",
              "    <tr>\n",
              "      <th>2020-10-01</th>\n",
              "      <td>2.407884</td>\n",
              "      <td>1.261639</td>\n",
              "      <td>-0.761356</td>\n",
              "      <td>0.017688</td>\n",
              "    </tr>\n",
              "    <tr>\n",
              "      <th>2020-10-02</th>\n",
              "      <td>-0.178404</td>\n",
              "      <td>-0.165468</td>\n",
              "      <td>0.514202</td>\n",
              "      <td>1.705688</td>\n",
              "    </tr>\n",
              "    <tr>\n",
              "      <th>2020-10-03</th>\n",
              "      <td>-0.851665</td>\n",
              "      <td>-0.559364</td>\n",
              "      <td>-0.249099</td>\n",
              "      <td>-0.452206</td>\n",
              "    </tr>\n",
              "  </tbody>\n",
              "</table>\n",
              "</div>"
            ],
            "text/plain": [
              "                   A         B         C         D\n",
              "2020-09-28  1.784149  0.661528 -0.860923  0.237545\n",
              "2020-09-29 -2.810148  0.875390  0.048838  0.085494\n",
              "2020-09-30 -1.430271 -0.069535  2.094814  0.841728\n",
              "2020-10-01  2.407884  1.261639 -0.761356  0.017688\n",
              "2020-10-02 -0.178404 -0.165468  0.514202  1.705688\n",
              "2020-10-03 -0.851665 -0.559364 -0.249099 -0.452206"
            ]
          },
          "metadata": {
            "tags": []
          },
          "execution_count": 5
        }
      ]
    },
    {
      "cell_type": "markdown",
      "metadata": {
        "id": "wq1nIp3F1fFB"
      },
      "source": [
        "\n",
        "\n",
        "---\n",
        "\n"
      ]
    },
    {
      "cell_type": "markdown",
      "metadata": {
        "id": "I1IgbN4Gx5s4"
      },
      "source": [
        "# 데이터 시각화"
      ]
    },
    {
      "cell_type": "markdown",
      "metadata": {
        "id": "vaKGa-Yx6cvg"
      },
      "source": [
        "#### [도전] 데이터프레임 df의 평균(mean(0))과 표준편차를 이용한 그래프\n",
        "- 평균에 대한 꺽은선그래프\n",
        "- 평균과 표준편차를 이용한 막대그래프\n",
        "> x-축은 A,B,C,D"
      ]
    },
    {
      "cell_type": "code",
      "metadata": {
        "id": "A2YtMydfBFUV",
        "outputId": "ac2689be-6a26-4ab5-8acf-d79e34b3f3a4",
        "colab": {
          "base_uri": "https://localhost:8080/",
          "height": 323
        }
      },
      "source": [
        "# df의 평균(mean(0))과 표준편차를 이용한 바그래프\n",
        "bar_labels = df.columns\n",
        "# plot bars\n",
        "plt.bar(bar_labels, df.mean(0), yerr=df.std(0), color='rgbcy')\n",
        "plt.show()  # text 설명이 없어지고 그래프만 보임."
      ],
      "execution_count": 6,
      "outputs": [
        {
          "output_type": "stream",
          "text": [
            "/usr/local/lib/python3.6/dist-packages/ipykernel_launcher.py:4: MatplotlibDeprecationWarning: Using a string of single character colors as a color sequence is deprecated. Use an explicit list instead.\n",
            "  after removing the cwd from sys.path.\n"
          ],
          "name": "stderr"
        },
        {
          "output_type": "display_data",
          "data": {
            "image/png": "[encoded data removed]",
            "text/plain": [
              "<Figure size 432x288 with 1 Axes>"
            ]
          },
          "metadata": {
            "tags": [],
            "needs_background": "light"
          }
        }
      ]
    },
    {
      "cell_type": "markdown",
      "metadata": {
        "id": "Kf4ixkqVx5uH"
      },
      "source": [
        "***"
      ]
    },
    {
      "cell_type": "markdown",
      "metadata": {
        "id": "4ufrGhr47LKj"
      },
      "source": [
        "## pandas의 데이터 시각화 (Visualization)"
      ]
    },
    {
      "cell_type": "code",
      "metadata": {
        "id": "t4O_8Rnw7UER",
        "outputId": "fb59f927-57b2-4150-f00c-e3f3c23e6e5a",
        "colab": {
          "base_uri": "https://localhost:8080/",
          "height": 233
        }
      },
      "source": [
        "df"
      ],
      "execution_count": 7,
      "outputs": [
        {
          "output_type": "execute_result",
          "data": {
            "text/html": [
              "<div>\n",
              "<style scoped>\n",
              "    .dataframe tbody tr th:only-of-type {\n",
              "        vertical-align: middle;\n",
              "    }\n",
              "\n",
              "    .dataframe tbody tr th {\n",
              "        vertical-align: top;\n",
              "    }\n",
              "\n",
              "    .dataframe thead th {\n",
              "        text-align: right;\n",
              "    }\n",
              "</style>\n",
              "<table border=\"1\" class=\"dataframe\">\n",
              "  <thead>\n",
              "    <tr style=\"text-align: right;\">\n",
              "      <th></th>\n",
              "      <th>A</th>\n",
              "      <th>B</th>\n",
              "      <th>C</th>\n",
              "      <th>D</th>\n",
              "    </tr>\n",
              "  </thead>\n",
              "  <tbody>\n",
              "    <tr>\n",
              "      <th>2020-09-28</th>\n",
              "      <td>1.784149</td>\n",
              "      <td>0.661528</td>\n",
              "      <td>-0.860923</td>\n",
              "      <td>0.237545</td>\n",
              "    </tr>\n",
              "    <tr>\n",
              "      <th>2020-09-29</th>\n",
              "      <td>-2.810148</td>\n",
              "      <td>0.875390</td>\n",
              "      <td>0.048838</td>\n",
              "      <td>0.085494</td>\n",
              "    </tr>\n",
              "    <tr>\n",
              "      <th>2020-09-30</th>\n",
              "      <td>-1.430271</td>\n",
              "      <td>-0.069535</td>\n",
              "      <td>2.094814</td>\n",
              "      <td>0.841728</td>\n",
              "    </tr>\n",
              "    <tr>\n",
              "      <th>2020-10-01</th>\n",
              "      <td>2.407884</td>\n",
              "      <td>1.261639</td>\n",
              "      <td>-0.761356</td>\n",
              "      <td>0.017688</td>\n",
              "    </tr>\n",
              "    <tr>\n",
              "      <th>2020-10-02</th>\n",
              "      <td>-0.178404</td>\n",
              "      <td>-0.165468</td>\n",
              "      <td>0.514202</td>\n",
              "      <td>1.705688</td>\n",
              "    </tr>\n",
              "    <tr>\n",
              "      <th>2020-10-03</th>\n",
              "      <td>-0.851665</td>\n",
              "      <td>-0.559364</td>\n",
              "      <td>-0.249099</td>\n",
              "      <td>-0.452206</td>\n",
              "    </tr>\n",
              "  </tbody>\n",
              "</table>\n",
              "</div>"
            ],
            "text/plain": [
              "                   A         B         C         D\n",
              "2020-09-28  1.784149  0.661528 -0.860923  0.237545\n",
              "2020-09-29 -2.810148  0.875390  0.048838  0.085494\n",
              "2020-09-30 -1.430271 -0.069535  2.094814  0.841728\n",
              "2020-10-01  2.407884  1.261639 -0.761356  0.017688\n",
              "2020-10-02 -0.178404 -0.165468  0.514202  1.705688\n",
              "2020-10-03 -0.851665 -0.559364 -0.249099 -0.452206"
            ]
          },
          "metadata": {
            "tags": []
          },
          "execution_count": 7
        }
      ]
    },
    {
      "cell_type": "markdown",
      "metadata": {
        "id": "LQw5KvJgH3Lk"
      },
      "source": [
        "### 꺽은선 그래프"
      ]
    },
    {
      "cell_type": "code",
      "metadata": {
        "id": "Twvix2E7EvNm",
        "outputId": "2321a66f-e759-472d-ee97-3b3c13cd0b06",
        "colab": {
          "base_uri": "https://localhost:8080/",
          "height": 308
        }
      },
      "source": [
        "df['A'].plot(marker='o', c='r', ms=8) # 'A열'  마크는 o, 색상은 red, 마크 size = 8"
      ],
      "execution_count": 8,
      "outputs": [
        {
          "output_type": "execute_result",
          "data": {
            "text/plain": [
              "<matplotlib.axes._subplots.AxesSubplot at 0x7f85e8fd0be0>"
            ]
          },
          "metadata": {
            "tags": []
          },
          "execution_count": 8
        },
        {
          "output_type": "display_data",
          "data": {
            "image/png": "[encoded data removed]",
            "text/plain": [
              "<Figure size 432x288 with 1 Axes>"
            ]
          },
          "metadata": {
            "tags": [],
            "needs_background": "light"
          }
        }
      ]
    },
    {
      "cell_type": "code",
      "metadata": {
        "id": "eYBvunC9E1FP",
        "outputId": "f25d47e6-e333-4682-8bb6-5a9ffea1e5d8",
        "colab": {
          "base_uri": "https://localhost:8080/",
          "height": 308
        }
      },
      "source": [
        "df['C'].plot(marker='D', c='g', ms=8)  # set figsize 'B열'"
      ],
      "execution_count": 9,
      "outputs": [
        {
          "output_type": "execute_result",
          "data": {
            "text/plain": [
              "<matplotlib.axes._subplots.AxesSubplot at 0x7f85e88563c8>"
            ]
          },
          "metadata": {
            "tags": []
          },
          "execution_count": 9
        },
        {
          "output_type": "display_data",
          "data": {
            "image/png": "[encoded data removed]",
            "text/plain": [
              "<Figure size 432x288 with 1 Axes>"
            ]
          },
          "metadata": {
            "tags": [],
            "needs_background": "light"
          }
        }
      ]
    },
    {
      "cell_type": "code",
      "metadata": {
        "id": "2Ky8komoHYt6",
        "outputId": "a5127b21-8208-429b-d61d-c2aaffbc7606",
        "colab": {
          "base_uri": "https://localhost:8080/",
          "height": 308
        }
      },
      "source": [
        "df.plot(y='D', marker='*', c='r', ms=12)   # x-축은 날짜인덱스 y = 'D'는 'D'열을 의미 -> (특정 열을 뽑는 또 다른 방법)"
      ],
      "execution_count": 10,
      "outputs": [
        {
          "output_type": "execute_result",
          "data": {
            "text/plain": [
              "<matplotlib.axes._subplots.AxesSubplot at 0x7f85e779e5c0>"
            ]
          },
          "metadata": {
            "tags": []
          },
          "execution_count": 10
        },
        {
          "output_type": "display_data",
          "data": {
            "image/png": "[encoded data removed]",
            "text/plain": [
              "<Figure size 432x288 with 1 Axes>"
            ]
          },
          "metadata": {
            "tags": [],
            "needs_background": "light"
          }
        }
      ]
    },
    {
      "cell_type": "code",
      "metadata": {
        "id": "l1IlNnuUF95d",
        "outputId": "a3a9c7b2-2aaf-44f0-9103-13c603bd4de7",
        "colab": {
          "base_uri": "https://localhost:8080/",
          "height": 308
        }
      },
      "source": [
        "# 두 개의 그래프를 한 축에 그리기\n",
        "# df['A','D'].plot(marker='o', c='r', ms=8) # 오류가 뜨는데 이 코드는 두개다 뽑지 못함. 밑의 코드로 해결 가능.\n",
        "df[['A','D']].plot(marker='o', color='bg', ms=8)  # works!, change colors (대괄호로 두번 묶어 주어야지 두개를 뽑을 수 있음.)\n",
        "# 두개 이상의 그래프를 다른 색깔로 그리고 싶으면 \"color\"라는 속성에 두개의 색을 지정해 주어야함."
      ],
      "execution_count": 11,
      "outputs": [
        {
          "output_type": "execute_result",
          "data": {
            "text/plain": [
              "<matplotlib.axes._subplots.AxesSubplot at 0x7f85e9038550>"
            ]
          },
          "metadata": {
            "tags": []
          },
          "execution_count": 11
        },
        {
          "output_type": "display_data",
          "data": {
            "image/png": "[encoded data removed]",
            "text/plain": [
              "<Figure size 432x288 with 1 Axes>"
            ]
          },
          "metadata": {
            "tags": [],
            "needs_background": "light"
          }
        }
      ]
    },
    {
      "cell_type": "code",
      "metadata": {
        "id": "PpO346h9GB5E",
        "outputId": "d5ff55b9-5a47-44d6-9dfc-32a9d49e0593",
        "colab": {
          "base_uri": "https://localhost:8080/",
          "height": 308
        }
      },
      "source": [
        "df.plot(y=['A','C'], marker='o')  \n",
        "# 동시에 리스트로 한 묶음 해서 뽑아내면 하나의 axis에 그려짐, color를 지정을 안하면 자동으로 선택이 되어서 그려짐."
      ],
      "execution_count": 12,
      "outputs": [
        {
          "output_type": "execute_result",
          "data": {
            "text/plain": [
              "<matplotlib.axes._subplots.AxesSubplot at 0x7f85e77ba4a8>"
            ]
          },
          "metadata": {
            "tags": []
          },
          "execution_count": 12
        },
        {
          "output_type": "display_data",
          "data": {
            "image/png": "[encoded data removed]",
            "text/plain": [
              "<Figure size 432x288 with 1 Axes>"
            ]
          },
          "metadata": {
            "tags": [],
            "needs_background": "light"
          }
        }
      ]
    },
    {
      "cell_type": "markdown",
      "metadata": {
        "id": "zDd0SXGSQKMR"
      },
      "source": [
        "### 산포도 (Scatter graph)\n",
        "-> 서로서로 어떤 식으로 관련되어서 분포하느냐"
      ]
    },
    {
      "cell_type": "code",
      "metadata": {
        "id": "DKbgOnNp9C__",
        "outputId": "7076663b-8afa-4207-c6f0-19601c502a1b",
        "colab": {
          "base_uri": "https://localhost:8080/",
          "height": 233
        }
      },
      "source": [
        "df"
      ],
      "execution_count": 13,
      "outputs": [
        {
          "output_type": "execute_result",
          "data": {
            "text/html": [
              "<div>\n",
              "<style scoped>\n",
              "    .dataframe tbody tr th:only-of-type {\n",
              "        vertical-align: middle;\n",
              "    }\n",
              "\n",
              "    .dataframe tbody tr th {\n",
              "        vertical-align: top;\n",
              "    }\n",
              "\n",
              "    .dataframe thead th {\n",
              "        text-align: right;\n",
              "    }\n",
              "</style>\n",
              "<table border=\"1\" class=\"dataframe\">\n",
              "  <thead>\n",
              "    <tr style=\"text-align: right;\">\n",
              "      <th></th>\n",
              "      <th>A</th>\n",
              "      <th>B</th>\n",
              "      <th>C</th>\n",
              "      <th>D</th>\n",
              "    </tr>\n",
              "  </thead>\n",
              "  <tbody>\n",
              "    <tr>\n",
              "      <th>2020-09-28</th>\n",
              "      <td>1.784149</td>\n",
              "      <td>0.661528</td>\n",
              "      <td>-0.860923</td>\n",
              "      <td>0.237545</td>\n",
              "    </tr>\n",
              "    <tr>\n",
              "      <th>2020-09-29</th>\n",
              "      <td>-2.810148</td>\n",
              "      <td>0.875390</td>\n",
              "      <td>0.048838</td>\n",
              "      <td>0.085494</td>\n",
              "    </tr>\n",
              "    <tr>\n",
              "      <th>2020-09-30</th>\n",
              "      <td>-1.430271</td>\n",
              "      <td>-0.069535</td>\n",
              "      <td>2.094814</td>\n",
              "      <td>0.841728</td>\n",
              "    </tr>\n",
              "    <tr>\n",
              "      <th>2020-10-01</th>\n",
              "      <td>2.407884</td>\n",
              "      <td>1.261639</td>\n",
              "      <td>-0.761356</td>\n",
              "      <td>0.017688</td>\n",
              "    </tr>\n",
              "    <tr>\n",
              "      <th>2020-10-02</th>\n",
              "      <td>-0.178404</td>\n",
              "      <td>-0.165468</td>\n",
              "      <td>0.514202</td>\n",
              "      <td>1.705688</td>\n",
              "    </tr>\n",
              "    <tr>\n",
              "      <th>2020-10-03</th>\n",
              "      <td>-0.851665</td>\n",
              "      <td>-0.559364</td>\n",
              "      <td>-0.249099</td>\n",
              "      <td>-0.452206</td>\n",
              "    </tr>\n",
              "  </tbody>\n",
              "</table>\n",
              "</div>"
            ],
            "text/plain": [
              "                   A         B         C         D\n",
              "2020-09-28  1.784149  0.661528 -0.860923  0.237545\n",
              "2020-09-29 -2.810148  0.875390  0.048838  0.085494\n",
              "2020-09-30 -1.430271 -0.069535  2.094814  0.841728\n",
              "2020-10-01  2.407884  1.261639 -0.761356  0.017688\n",
              "2020-10-02 -0.178404 -0.165468  0.514202  1.705688\n",
              "2020-10-03 -0.851665 -0.559364 -0.249099 -0.452206"
            ]
          },
          "metadata": {
            "tags": []
          },
          "execution_count": 13
        }
      ]
    },
    {
      "cell_type": "code",
      "metadata": {
        "id": "qVXSMlMVQTYN",
        "outputId": "8a1269e1-d21d-4b4a-e725-e0d07899f2d1",
        "colab": {
          "base_uri": "https://localhost:8080/",
          "height": 298
        }
      },
      "source": [
        "df.plot(kind='scatter',x='C',y='A', color='r', marker='o', s=32) \n",
        "# 데이터가 작아서 관련성을 찾기가 어려움."
      ],
      "execution_count": 14,
      "outputs": [
        {
          "output_type": "execute_result",
          "data": {
            "text/plain": [
              "<matplotlib.axes._subplots.AxesSubplot at 0x7f85e76827f0>"
            ]
          },
          "metadata": {
            "tags": []
          },
          "execution_count": 14
        },
        {
          "output_type": "display_data",
          "data": {
            "image/png": "[encoded data removed]",
            "text/plain": [
              "<Figure size 432x288 with 1 Axes>"
            ]
          },
          "metadata": {
            "tags": [],
            "needs_background": "light"
          }
        }
      ]
    },
    {
      "cell_type": "code",
      "metadata": {
        "id": "zLlbFKxERJ9p",
        "outputId": "3df980e7-a74a-4685-8558-6a628c9b7fb9",
        "colab": {
          "base_uri": "https://localhost:8080/",
          "height": 298
        }
      },
      "source": [
        "df.plot(kind='scatter',x='B',y='C', color='blue', marker='d', s=50)  "
      ],
      "execution_count": 15,
      "outputs": [
        {
          "output_type": "execute_result",
          "data": {
            "text/plain": [
              "<matplotlib.axes._subplots.AxesSubplot at 0x7f85e75fa8d0>"
            ]
          },
          "metadata": {
            "tags": []
          },
          "execution_count": 15
        },
        {
          "output_type": "display_data",
          "data": {
            "image/png": "[encoded data removed]",
            "text/plain": [
              "<Figure size 432x288 with 1 Axes>"
            ]
          },
          "metadata": {
            "tags": [],
            "needs_background": "light"
          }
        }
      ]
    },
    {
      "cell_type": "markdown",
      "metadata": {
        "id": "sirI2suwH9Yh"
      },
      "source": [
        "### 바 그래프"
      ]
    },
    {
      "cell_type": "code",
      "metadata": {
        "id": "0YVzF5xyGiFc",
        "outputId": "6702a3fe-9ef8-44e5-e799-246b753d73f3",
        "colab": {
          "base_uri": "https://localhost:8080/",
          "height": 379
        }
      },
      "source": [
        "df['A'].plot.bar()  # A열의 바 그래프"
      ],
      "execution_count": 16,
      "outputs": [
        {
          "output_type": "execute_result",
          "data": {
            "text/plain": [
              "<matplotlib.axes._subplots.AxesSubplot at 0x7f85e75a7940>"
            ]
          },
          "metadata": {
            "tags": []
          },
          "execution_count": 16
        },
        {
          "output_type": "display_data",
          "data": {
            "image/png": "[encoded data removed]",
            "text/plain": [
              "<Figure size 432x288 with 1 Axes>"
            ]
          },
          "metadata": {
            "tags": [],
            "needs_background": "light"
          }
        }
      ]
    },
    {
      "cell_type": "code",
      "metadata": {
        "id": "OQVX4QH3IWIK",
        "outputId": "362c9939-f9d0-448c-fc29-b755c43695f8",
        "colab": {
          "base_uri": "https://localhost:8080/",
          "height": 379
        }
      },
      "source": [
        "df['D'].plot.bar()  # D열의 바 그래프"
      ],
      "execution_count": 17,
      "outputs": [
        {
          "output_type": "execute_result",
          "data": {
            "text/plain": [
              "<matplotlib.axes._subplots.AxesSubplot at 0x7f85e7524e48>"
            ]
          },
          "metadata": {
            "tags": []
          },
          "execution_count": 17
        },
        {
          "output_type": "display_data",
          "data": {
            "image/png": "[encoded data removed]",
            "text/plain": [
              "<Figure size 432x288 with 1 Axes>"
            ]
          },
          "metadata": {
            "tags": [],
            "needs_background": "light"
          }
        }
      ]
    },
    {
      "cell_type": "code",
      "metadata": {
        "id": "pSekXLHMoPr9",
        "outputId": "5f71ee57-9425-48b0-bd99-bf958e6f3ad4",
        "colab": {
          "base_uri": "https://localhost:8080/",
          "height": 366
        }
      },
      "source": [
        "df.plot(kind='bar', y='D', rot=55)  \n",
        "# rot라는 속성을 추가하면 x축의 label값들이 75도 각도로 변함."
      ],
      "execution_count": 18,
      "outputs": [
        {
          "output_type": "execute_result",
          "data": {
            "text/plain": [
              "<matplotlib.axes._subplots.AxesSubplot at 0x7f85e749ac88>"
            ]
          },
          "metadata": {
            "tags": []
          },
          "execution_count": 18
        },
        {
          "output_type": "display_data",
          "data": {
            "image/png": "[encoded data removed]",
            "text/plain": [
              "<Figure size 432x288 with 1 Axes>"
            ]
          },
          "metadata": {
            "tags": [],
            "needs_background": "light"
          }
        }
      ]
    },
    {
      "cell_type": "markdown",
      "metadata": {
        "id": "WUEzWDX5JC16"
      },
      "source": [
        "#### 다중 바그래프"
      ]
    },
    {
      "cell_type": "code",
      "metadata": {
        "id": "gcxproHoIMbt",
        "outputId": "af205f6a-b22f-4479-a546-8688696ffd32",
        "colab": {
          "base_uri": "https://localhost:8080/",
          "height": 379
        }
      },
      "source": [
        "df.plot(kind='bar',y=['A','C','D']) # 세개의 열에 대한 바 그래프(리스트로 묶음)"
      ],
      "execution_count": 19,
      "outputs": [
        {
          "output_type": "execute_result",
          "data": {
            "text/plain": [
              "<matplotlib.axes._subplots.AxesSubplot at 0x7f85e7423860>"
            ]
          },
          "metadata": {
            "tags": []
          },
          "execution_count": 19
        },
        {
          "output_type": "display_data",
          "data": {
            "image/png": "[encoded data removed]",
            "text/plain": [
              "<Figure size 432x288 with 1 Axes>"
            ]
          },
          "metadata": {
            "tags": [],
            "needs_background": "light"
          }
        }
      ]
    },
    {
      "cell_type": "markdown",
      "metadata": {
        "id": "k1zlpFKBm4jc"
      },
      "source": [
        "#### 평균/표준편차 그래프"
      ]
    },
    {
      "cell_type": "code",
      "metadata": {
        "id": "1kiH3AgYn4hm",
        "outputId": "2e3f804b-816b-4873-feec-46d1f089ab2e",
        "colab": {
          "base_uri": "https://localhost:8080/",
          "height": 185
        }
      },
      "source": [
        "df.mean(0), df.std(0), df.columns # 열 방향으로 평균, 표준편차를 구함."
      ],
      "execution_count": 20,
      "outputs": [
        {
          "output_type": "execute_result",
          "data": {
            "text/plain": [
              "(A   -0.179743\n",
              " B    0.334032\n",
              " C    0.131079\n",
              " D    0.405989\n",
              " dtype: float64, A    1.974184\n",
              " B    0.703036\n",
              " C    1.089481\n",
              " D    0.761243\n",
              " dtype: float64, Index(['A', 'B', 'C', 'D'], dtype='object'))"
            ]
          },
          "metadata": {
            "tags": []
          },
          "execution_count": 20
        }
      ]
    },
    {
      "cell_type": "code",
      "metadata": {
        "id": "SgMoh5uTIfgk",
        "outputId": "53cc3379-79aa-47b7-a2ff-15a7c7a820c6",
        "colab": {
          "base_uri": "https://localhost:8080/",
          "height": 284
        }
      },
      "source": [
        "# plot bars\n",
        "# bar_labels = df.columns\n",
        "# plt.bar(bar_labels, df.mean(0), yerr=df.std(0))\n",
        "df.mean(0).plot.bar(yerr=df.std(0), rot=0) # 원래 x축의 label이 가로로 있었는데 rot를 사용해서 세로로 글자를 돌려줌."
      ],
      "execution_count": 21,
      "outputs": [
        {
          "output_type": "execute_result",
          "data": {
            "text/plain": [
              "<matplotlib.axes._subplots.AxesSubplot at 0x7f85e73bfe10>"
            ]
          },
          "metadata": {
            "tags": []
          },
          "execution_count": 21
        },
        {
          "output_type": "display_data",
          "data": {
            "image/png": "[encoded data removed]",
            "text/plain": [
              "<Figure size 432x288 with 1 Axes>"
            ]
          },
          "metadata": {
            "tags": [],
            "needs_background": "light"
          }
        }
      ]
    },
    {
      "cell_type": "markdown",
      "metadata": {
        "id": "IJk__nDpx9MI"
      },
      "source": [
        "\n",
        "\n",
        "---\n",
        "\n"
      ]
    },
    {
      "cell_type": "markdown",
      "metadata": {
        "id": "dmtUkwvkyC-8"
      },
      "source": [
        "### 그래프 이어 그리기"
      ]
    },
    {
      "cell_type": "code",
      "metadata": {
        "id": "zihYMbXbJP0k",
        "outputId": "bf676fab-4ae6-415f-b6f5-7e59a08cd574",
        "colab": {
          "base_uri": "https://localhost:8080/",
          "height": 284
        }
      },
      "source": [
        "x1 = np.arange(0.0, 5.0, 0.01)  # 0부터 5까지 \n",
        "y1 = np.sin(2*np.pi*x1) # sin2pi x1 값\n",
        "plt.figure(figsize=(10,4))  # 가로로 10, 세로로 4비율\n",
        "plt.plot(x1, y1, 'o', ms = 4)"
      ],
      "execution_count": 22,
      "outputs": [
        {
          "output_type": "execute_result",
          "data": {
            "text/plain": [
              "[<matplotlib.lines.Line2D at 0x7f85e7508c18>]"
            ]
          },
          "metadata": {
            "tags": []
          },
          "execution_count": 22
        },
        {
          "output_type": "display_data",
          "data": {
            "image/png": "[encoded data removed]",
            "text/plain": [
              "<Figure size 720x288 with 1 Axes>"
            ]
          },
          "metadata": {
            "tags": [],
            "needs_background": "light"
          }
        }
      ]
    },
    {
      "cell_type": "code",
      "metadata": {
        "id": "qTNhXTqZzKlN",
        "outputId": "abb04be9-73d9-42c7-aef0-60d9531eb656",
        "colab": {
          "base_uri": "https://localhost:8080/",
          "height": 36
        }
      },
      "source": [
        "x1.shape, y1.shape  # 길이가 500인 일반 벡터"
      ],
      "execution_count": 23,
      "outputs": [
        {
          "output_type": "execute_result",
          "data": {
            "text/plain": [
              "((500,), (500,))"
            ]
          },
          "metadata": {
            "tags": []
          },
          "execution_count": 23
        }
      ]
    },
    {
      "cell_type": "markdown",
      "metadata": {
        "id": "dmNZ6PNgyrn3"
      },
      "source": [
        "#### pandas 데이터프레임을 이용한 그래프 "
      ]
    },
    {
      "cell_type": "code",
      "metadata": {
        "id": "WpzC6VNNyM_w",
        "outputId": "e73edd05-6f2b-40cd-deb6-d4f2efcada2c",
        "colab": {
          "base_uri": "https://localhost:8080/",
          "height": 202
        }
      },
      "source": [
        "df = pd.DataFrame(dict(sine=y1), index=x1, columns=['sine'])  \n",
        "# dict에 key값을 할당해주고, index를 설정, columns 이름을 sine으로 \n",
        "df.head()"
      ],
      "execution_count": 24,
      "outputs": [
        {
          "output_type": "execute_result",
          "data": {
            "text/html": [
              "<div>\n",
              "<style scoped>\n",
              "    .dataframe tbody tr th:only-of-type {\n",
              "        vertical-align: middle;\n",
              "    }\n",
              "\n",
              "    .dataframe tbody tr th {\n",
              "        vertical-align: top;\n",
              "    }\n",
              "\n",
              "    .dataframe thead th {\n",
              "        text-align: right;\n",
              "    }\n",
              "</style>\n",
              "<table border=\"1\" class=\"dataframe\">\n",
              "  <thead>\n",
              "    <tr style=\"text-align: right;\">\n",
              "      <th></th>\n",
              "      <th>sine</th>\n",
              "    </tr>\n",
              "  </thead>\n",
              "  <tbody>\n",
              "    <tr>\n",
              "      <th>0.00</th>\n",
              "      <td>0.000000</td>\n",
              "    </tr>\n",
              "    <tr>\n",
              "      <th>0.01</th>\n",
              "      <td>0.062791</td>\n",
              "    </tr>\n",
              "    <tr>\n",
              "      <th>0.02</th>\n",
              "      <td>0.125333</td>\n",
              "    </tr>\n",
              "    <tr>\n",
              "      <th>0.03</th>\n",
              "      <td>0.187381</td>\n",
              "    </tr>\n",
              "    <tr>\n",
              "      <th>0.04</th>\n",
              "      <td>0.248690</td>\n",
              "    </tr>\n",
              "  </tbody>\n",
              "</table>\n",
              "</div>"
            ],
            "text/plain": [
              "          sine\n",
              "0.00  0.000000\n",
              "0.01  0.062791\n",
              "0.02  0.125333\n",
              "0.03  0.187381\n",
              "0.04  0.248690"
            ]
          },
          "metadata": {
            "tags": []
          },
          "execution_count": 24
        }
      ]
    },
    {
      "cell_type": "code",
      "metadata": {
        "id": "jYGyLlgKz5PQ",
        "outputId": "b0dcc3ce-9587-4863-83d7-4d7aa7989684",
        "colab": {
          "base_uri": "https://localhost:8080/",
          "height": 202
        }
      },
      "source": [
        "df.tail() # 5는 포함 x"
      ],
      "execution_count": 25,
      "outputs": [
        {
          "output_type": "execute_result",
          "data": {
            "text/html": [
              "<div>\n",
              "<style scoped>\n",
              "    .dataframe tbody tr th:only-of-type {\n",
              "        vertical-align: middle;\n",
              "    }\n",
              "\n",
              "    .dataframe tbody tr th {\n",
              "        vertical-align: top;\n",
              "    }\n",
              "\n",
              "    .dataframe thead th {\n",
              "        text-align: right;\n",
              "    }\n",
              "</style>\n",
              "<table border=\"1\" class=\"dataframe\">\n",
              "  <thead>\n",
              "    <tr style=\"text-align: right;\">\n",
              "      <th></th>\n",
              "      <th>sine</th>\n",
              "    </tr>\n",
              "  </thead>\n",
              "  <tbody>\n",
              "    <tr>\n",
              "      <th>4.95</th>\n",
              "      <td>-0.309017</td>\n",
              "    </tr>\n",
              "    <tr>\n",
              "      <th>4.96</th>\n",
              "      <td>-0.248690</td>\n",
              "    </tr>\n",
              "    <tr>\n",
              "      <th>4.97</th>\n",
              "      <td>-0.187381</td>\n",
              "    </tr>\n",
              "    <tr>\n",
              "      <th>4.98</th>\n",
              "      <td>-0.125333</td>\n",
              "    </tr>\n",
              "    <tr>\n",
              "      <th>4.99</th>\n",
              "      <td>-0.062791</td>\n",
              "    </tr>\n",
              "  </tbody>\n",
              "</table>\n",
              "</div>"
            ],
            "text/plain": [
              "          sine\n",
              "4.95 -0.309017\n",
              "4.96 -0.248690\n",
              "4.97 -0.187381\n",
              "4.98 -0.125333\n",
              "4.99 -0.062791"
            ]
          },
          "metadata": {
            "tags": []
          },
          "execution_count": 25
        }
      ]
    },
    {
      "cell_type": "code",
      "metadata": {
        "id": "SNVHpbe6DQno",
        "outputId": "e5607041-8b9c-4bf8-9fbf-c114fac9b02c",
        "colab": {
          "base_uri": "https://localhost:8080/",
          "height": 36
        }
      },
      "source": [
        "len(df)"
      ],
      "execution_count": 26,
      "outputs": [
        {
          "output_type": "execute_result",
          "data": {
            "text/plain": [
              "500"
            ]
          },
          "metadata": {
            "tags": []
          },
          "execution_count": 26
        }
      ]
    },
    {
      "cell_type": "code",
      "metadata": {
        "id": "B4OFMcqd0AeF",
        "outputId": "069c023f-b9ea-4d4d-eba8-25a5166d27df",
        "colab": {
          "base_uri": "https://localhost:8080/",
          "height": 36
        }
      },
      "source": [
        "pre_size = int(len(df) * 0.8) # 500의 앞부분 80%, 뒤에는 20%\n",
        "post_size = len(df) - pre_size\n",
        "pre, post = df.iloc[0:pre_size], df.iloc[pre_size:len(df)]\n",
        "print(len(pre), len(post))"
      ],
      "execution_count": 27,
      "outputs": [
        {
          "output_type": "stream",
          "text": [
            "400 100\n"
          ],
          "name": "stdout"
        }
      ]
    },
    {
      "cell_type": "code",
      "metadata": {
        "id": "CZ_XDFxI2N7E",
        "outputId": "30ca1bfe-4110-4edf-e11a-b1729cc8a618",
        "colab": {
          "base_uri": "https://localhost:8080/",
          "height": 36
        }
      },
      "source": [
        "post.shape "
      ],
      "execution_count": 28,
      "outputs": [
        {
          "output_type": "execute_result",
          "data": {
            "text/plain": [
              "(100, 1)"
            ]
          },
          "metadata": {
            "tags": []
          },
          "execution_count": 28
        }
      ]
    },
    {
      "cell_type": "code",
      "metadata": {
        "id": "1tsmjL2s13dn"
      },
      "source": [
        "post2 = post + np.random.normal(scale=0.2, size=len(post)).reshape(-1,1)\n",
        "# 가우시안 잡음을 만들어서 post 개수만큼 만듬 잡음을 (100, 1) 형태로 맞춰줌. -> 20% 가우시안 잡음을 넣어줌."
      ],
      "execution_count": 29,
      "outputs": []
    },
    {
      "cell_type": "code",
      "metadata": {
        "id": "yj7rZIK80xWk",
        "outputId": "ab34c1b6-260c-4d15-a11f-9393d065f592",
        "colab": {
          "base_uri": "https://localhost:8080/",
          "height": 334
        }
      },
      "source": [
        "plt.figure(figsize=(10,5))\n",
        "plt.plot(np.arange(0, len(pre)), pre, 'g', label=\"pre\")\n",
        "plt.plot(np.arange(len(pre), len(pre) + len(post)), post, 'b', marker='.', label=\"post\")\n",
        "# 뒷부분 20%를 blue로\n",
        "plt.plot(np.arange(len(pre), len(pre) + len(post)), post2, 'r', label=\"post2\")\n",
        "# 잡음이 들어간 sin 함수로 그리고 색상은 red로\n",
        "plt.ylabel('Value')\n",
        "plt.xlabel('Time Step')\n",
        "plt.legend()\n",
        "plt.show();"
      ],
      "execution_count": 31,
      "outputs": [
        {
          "output_type": "display_data",
          "data": {
            "image/png": "[encoded data removed]",
            "text/plain": [
              "<Figure size 720x360 with 1 Axes>"
            ]
          },
          "metadata": {
            "tags": [],
            "needs_background": "light"
          }
        }
      ]
    },
    {
      "cell_type": "markdown",
      "metadata": {
        "id": "GuMpCORM3A-2"
      },
      "source": [
        "#### post  post2를 동시에 그려서 두 그래프를 비교해보시오. \n",
        "\n",
        "- subplot 사용\n",
        "- 위, 아래로 그려서 비교"
      ]
    },
    {
      "cell_type": "code",
      "metadata": {
        "id": "HvjeAmyL2WcY",
        "outputId": "e4ffa33a-ccf6-4be3-832b-17fa516d97ba",
        "colab": {
          "base_uri": "https://localhost:8080/",
          "height": 369
        }
      },
      "source": [
        "plt.figure(figsize=(10,5))\n",
        "\n",
        "plt.subplot(211).set_title('post')  # 제목 설정\n",
        "plt.xlabel('Time Step') # post x label\n",
        "plt.ylabel('Value') # post y label\n",
        "plt.plot(np.arange(len(pre), len(pre) + len(post)), post, 'b', marker='.', label=\"post\")\n",
        "plt.legend()\n",
        "\n",
        "plt.subplot(212).set_title('post2') # 제목 설정\n",
        "plt.ylabel('Value') # post2 x label\n",
        "plt.xlabel('Time Step') # post2 y label\n",
        "plt.plot(np.arange(len(pre), len(pre) + len(post)), post2, 'r', label=\"post2\")\n",
        "plt.legend()\n",
        "\n",
        "plt.tight_layout()  # 그래프 간격 조절\n",
        "plt.show()"
      ],
      "execution_count": 32,
      "outputs": [
        {
          "output_type": "display_data",
          "data": {
            "image/png": "[encoded data removed]",
            "text/plain": [
              "<Figure size 720x360 with 2 Axes>"
            ]
          },
          "metadata": {
            "tags": [],
            "needs_background": "light"
          }
        }
      ]
    },
    {
      "cell_type": "code",
      "metadata": {
        "id": "60uHxNvo3r9V"
      },
      "source": [
        ""
      ],
      "execution_count": null,
      "outputs": []
    }
  ]
}