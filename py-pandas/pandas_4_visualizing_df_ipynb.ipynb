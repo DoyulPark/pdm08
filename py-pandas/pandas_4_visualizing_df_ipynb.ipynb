{
  "nbformat": 4,
  "nbformat_minor": 0,
  "metadata": {
    "kernelspec": {
      "name": "python3",
      "display_name": "Python 3"
    },
    "language_info": {
      "codemirror_mode": {
        "name": "ipython",
        "version": 3
      },
      "file_extension": ".py",
      "mimetype": "text/x-python",
      "name": "python",
      "nbconvert_exporter": "python",
      "pygments_lexer": "ipython3",
      "version": "3.6.6"
    },
    "colab": {
      "name": "pandas_4_visualizing_df.ipynb의 사본",
      "provenance": [],
      "collapsed_sections": [],
      "include_colab_link": true
    }
  },
  "cells": [
    {
      "cell_type": "markdown",
      "metadata": {
        "id": "view-in-github",
        "colab_type": "text"
      },
      "source": [
        "<a href=\"https://colab.research.google.com/github/DoyulPark/pdm08/blob/master/py-pandas/pandas_4_visualizing_df_ipynb.ipynb\" target=\"_parent\"><img src=\"https://colab.research.google.com/assets/colab-badge.svg\" alt=\"Open In Colab\"/></a>"
      ]
    },
    {
      "cell_type": "markdown",
      "metadata": {
        "id": "-a_Ksvwdx5pf"
      },
      "source": [
        "### Python module 3. **pandas**"
      ]
    },
    {
      "cell_type": "markdown",
      "metadata": {
        "id": "P_F0RSPKx5pl"
      },
      "source": [
        "# Using pandas"
      ]
    },
    {
      "cell_type": "markdown",
      "metadata": {
        "id": "FfxMgWUFx5pm"
      },
      "source": [
        "* [10 Minutes to pandas](https://pandas.pydata.org/pandas-docs/stable/10min.html)\n",
        "* [Pandas tutorial with interactive exercises](https://www.kaggle.com/pistak/pandas-tutorial-with-interactive-exercises)"
      ]
    },
    {
      "cell_type": "code",
      "metadata": {
        "id": "2mpGSeRlx5po"
      },
      "source": [
        "import pandas as pd\n",
        "import numpy as np\n",
        "import matplotlib.pyplot as plt\n",
        "# %matplotlib inline  # work for Jupyter notebook or lab"
      ],
      "execution_count": 1,
      "outputs": []
    },
    {
      "cell_type": "code",
      "metadata": {
        "id": "w2eNkCfLx5p-",
        "outputId": "38eac5e9-12d3-4541-908a-499d58c6da03",
        "colab": {
          "base_uri": "https://localhost:8080/",
          "height": 73
        }
      },
      "source": [
        "# Creating a DataFrame by passing a NumPy array, with a datetime index and labeled columns:\n",
        "dates = pd.date_range('20200928', periods=6)\n",
        "dates"
      ],
      "execution_count": 2,
      "outputs": [
        {
          "output_type": "execute_result",
          "data": {
            "text/plain": [
              "DatetimeIndex(['2020-09-28', '2020-09-29', '2020-09-30', '2020-10-01',\n",
              "               '2020-10-02', '2020-10-03'],\n",
              "              dtype='datetime64[ns]', freq='D')"
            ]
          },
          "metadata": {
            "tags": []
          },
          "execution_count": 2
        }
      ]
    },
    {
      "cell_type": "code",
      "metadata": {
        "id": "dHwUodTGx5qj",
        "outputId": "1ffb2fc5-d834-4dc4-997d-98346e256420",
        "colab": {
          "base_uri": "https://localhost:8080/",
          "height": 233
        }
      },
      "source": [
        "# head()\n",
        "df = pd.DataFrame(np.random.randn(6,4), index=dates, columns=list('ABCD'))\n",
        "df"
      ],
      "execution_count": 3,
      "outputs": [
        {
          "output_type": "execute_result",
          "data": {
            "text/html": [
              "<div>\n",
              "<style scoped>\n",
              "    .dataframe tbody tr th:only-of-type {\n",
              "        vertical-align: middle;\n",
              "    }\n",
              "\n",
              "    .dataframe tbody tr th {\n",
              "        vertical-align: top;\n",
              "    }\n",
              "\n",
              "    .dataframe thead th {\n",
              "        text-align: right;\n",
              "    }\n",
              "</style>\n",
              "<table border=\"1\" class=\"dataframe\">\n",
              "  <thead>\n",
              "    <tr style=\"text-align: right;\">\n",
              "      <th></th>\n",
              "      <th>A</th>\n",
              "      <th>B</th>\n",
              "      <th>C</th>\n",
              "      <th>D</th>\n",
              "    </tr>\n",
              "  </thead>\n",
              "  <tbody>\n",
              "    <tr>\n",
              "      <th>2020-09-28</th>\n",
              "      <td>1.739999</td>\n",
              "      <td>0.199724</td>\n",
              "      <td>-0.253895</td>\n",
              "      <td>0.048103</td>\n",
              "    </tr>\n",
              "    <tr>\n",
              "      <th>2020-09-29</th>\n",
              "      <td>-1.430388</td>\n",
              "      <td>0.773424</td>\n",
              "      <td>-1.202399</td>\n",
              "      <td>-1.375765</td>\n",
              "    </tr>\n",
              "    <tr>\n",
              "      <th>2020-09-30</th>\n",
              "      <td>1.157218</td>\n",
              "      <td>0.673413</td>\n",
              "      <td>1.211855</td>\n",
              "      <td>-2.163377</td>\n",
              "    </tr>\n",
              "    <tr>\n",
              "      <th>2020-10-01</th>\n",
              "      <td>0.715820</td>\n",
              "      <td>-1.650089</td>\n",
              "      <td>-0.358878</td>\n",
              "      <td>-1.774887</td>\n",
              "    </tr>\n",
              "    <tr>\n",
              "      <th>2020-10-02</th>\n",
              "      <td>0.723627</td>\n",
              "      <td>0.608201</td>\n",
              "      <td>0.184592</td>\n",
              "      <td>0.483824</td>\n",
              "    </tr>\n",
              "    <tr>\n",
              "      <th>2020-10-03</th>\n",
              "      <td>0.055503</td>\n",
              "      <td>1.890088</td>\n",
              "      <td>0.569307</td>\n",
              "      <td>0.356331</td>\n",
              "    </tr>\n",
              "  </tbody>\n",
              "</table>\n",
              "</div>"
            ],
            "text/plain": [
              "                   A         B         C         D\n",
              "2020-09-28  1.739999  0.199724 -0.253895  0.048103\n",
              "2020-09-29 -1.430388  0.773424 -1.202399 -1.375765\n",
              "2020-09-30  1.157218  0.673413  1.211855 -2.163377\n",
              "2020-10-01  0.715820 -1.650089 -0.358878 -1.774887\n",
              "2020-10-02  0.723627  0.608201  0.184592  0.483824\n",
              "2020-10-03  0.055503  1.890088  0.569307  0.356331"
            ]
          },
          "metadata": {
            "tags": []
          },
          "execution_count": 3
        }
      ]
    },
    {
      "cell_type": "markdown",
      "metadata": {
        "id": "wq1nIp3F1fFB"
      },
      "source": [
        "\n",
        "\n",
        "---\n",
        "\n"
      ]
    },
    {
      "cell_type": "markdown",
      "metadata": {
        "id": "I1IgbN4Gx5s4"
      },
      "source": [
        "# 데이터 시각화"
      ]
    },
    {
      "cell_type": "markdown",
      "metadata": {
        "id": "vaKGa-Yx6cvg"
      },
      "source": [
        "#### [도전] 데이터프레임 df의 평균(mean(0))과 표준편차를 이용한 그래프\n",
        "- 평균에 대한 꺽은선그래프\n",
        "- 평균과 표준편차를 이용한 막대그래프\n",
        "> x-축은 A,B,C,D"
      ]
    },
    {
      "cell_type": "code",
      "metadata": {
        "id": "A2YtMydfBFUV",
        "outputId": "88dbbc58-2d75-4a09-c33a-ff8df127a20d",
        "colab": {
          "base_uri": "https://localhost:8080/",
          "height": 341
        }
      },
      "source": [
        "# df의 평균(mean(0))과 표준편차를 이용한 바그래프\n",
        "bar_labels = df.columns\n",
        "# plot bars\n",
        "plt.bar(bar_labels, df.mean(0), yerr=df.std(0), color='rgbcy')\n",
        "# plt.show()"
      ],
      "execution_count": 10,
      "outputs": [
        {
          "output_type": "stream",
          "text": [
            "/usr/local/lib/python3.6/dist-packages/ipykernel_launcher.py:4: MatplotlibDeprecationWarning: Using a string of single character colors as a color sequence is deprecated. Use an explicit list instead.\n",
            "  after removing the cwd from sys.path.\n"
          ],
          "name": "stderr"
        },
        {
          "output_type": "execute_result",
          "data": {
            "text/plain": [
              "<BarContainer object of 4 artists>"
            ]
          },
          "metadata": {
            "tags": []
          },
          "execution_count": 10
        },
        {
          "output_type": "display_data",
          "data": {
            "image/png": "[encoded data removed]",
            "text/plain": [
              "<Figure size 432x288 with 1 Axes>"
            ]
          },
          "metadata": {
            "tags": [],
            "needs_background": "light"
          }
        }
      ]
    },
    {
      "cell_type": "markdown",
      "metadata": {
        "id": "Kf4ixkqVx5uH"
      },
      "source": [
        "***"
      ]
    },
    {
      "cell_type": "markdown",
      "metadata": {
        "id": "4ufrGhr47LKj"
      },
      "source": [
        "## pandas의 데이터 시각화 (Visualization)"
      ]
    },
    {
      "cell_type": "code",
      "metadata": {
        "id": "t4O_8Rnw7UER",
        "outputId": "e35497d1-a50d-455d-b5d2-d525a9d46f93",
        "colab": {
          "base_uri": "https://localhost:8080/",
          "height": 233
        }
      },
      "source": [
        "df"
      ],
      "execution_count": 11,
      "outputs": [
        {
          "output_type": "execute_result",
          "data": {
            "text/html": [
              "<div>\n",
              "<style scoped>\n",
              "    .dataframe tbody tr th:only-of-type {\n",
              "        vertical-align: middle;\n",
              "    }\n",
              "\n",
              "    .dataframe tbody tr th {\n",
              "        vertical-align: top;\n",
              "    }\n",
              "\n",
              "    .dataframe thead th {\n",
              "        text-align: right;\n",
              "    }\n",
              "</style>\n",
              "<table border=\"1\" class=\"dataframe\">\n",
              "  <thead>\n",
              "    <tr style=\"text-align: right;\">\n",
              "      <th></th>\n",
              "      <th>A</th>\n",
              "      <th>B</th>\n",
              "      <th>C</th>\n",
              "      <th>D</th>\n",
              "    </tr>\n",
              "  </thead>\n",
              "  <tbody>\n",
              "    <tr>\n",
              "      <th>2020-09-28</th>\n",
              "      <td>1.739999</td>\n",
              "      <td>0.199724</td>\n",
              "      <td>-0.253895</td>\n",
              "      <td>0.048103</td>\n",
              "    </tr>\n",
              "    <tr>\n",
              "      <th>2020-09-29</th>\n",
              "      <td>-1.430388</td>\n",
              "      <td>0.773424</td>\n",
              "      <td>-1.202399</td>\n",
              "      <td>-1.375765</td>\n",
              "    </tr>\n",
              "    <tr>\n",
              "      <th>2020-09-30</th>\n",
              "      <td>1.157218</td>\n",
              "      <td>0.673413</td>\n",
              "      <td>1.211855</td>\n",
              "      <td>-2.163377</td>\n",
              "    </tr>\n",
              "    <tr>\n",
              "      <th>2020-10-01</th>\n",
              "      <td>0.715820</td>\n",
              "      <td>-1.650089</td>\n",
              "      <td>-0.358878</td>\n",
              "      <td>-1.774887</td>\n",
              "    </tr>\n",
              "    <tr>\n",
              "      <th>2020-10-02</th>\n",
              "      <td>0.723627</td>\n",
              "      <td>0.608201</td>\n",
              "      <td>0.184592</td>\n",
              "      <td>0.483824</td>\n",
              "    </tr>\n",
              "    <tr>\n",
              "      <th>2020-10-03</th>\n",
              "      <td>0.055503</td>\n",
              "      <td>1.890088</td>\n",
              "      <td>0.569307</td>\n",
              "      <td>0.356331</td>\n",
              "    </tr>\n",
              "  </tbody>\n",
              "</table>\n",
              "</div>"
            ],
            "text/plain": [
              "                   A         B         C         D\n",
              "2020-09-28  1.739999  0.199724 -0.253895  0.048103\n",
              "2020-09-29 -1.430388  0.773424 -1.202399 -1.375765\n",
              "2020-09-30  1.157218  0.673413  1.211855 -2.163377\n",
              "2020-10-01  0.715820 -1.650089 -0.358878 -1.774887\n",
              "2020-10-02  0.723627  0.608201  0.184592  0.483824\n",
              "2020-10-03  0.055503  1.890088  0.569307  0.356331"
            ]
          },
          "metadata": {
            "tags": []
          },
          "execution_count": 11
        }
      ]
    },
    {
      "cell_type": "markdown",
      "metadata": {
        "id": "LQw5KvJgH3Lk"
      },
      "source": [
        "### 꺽은선 그래프"
      ]
    },
    {
      "cell_type": "code",
      "metadata": {
        "id": "Twvix2E7EvNm",
        "outputId": "220bb2de-f700-4aee-8aea-3c7fee0da32f",
        "colab": {
          "base_uri": "https://localhost:8080/",
          "height": 308
        }
      },
      "source": [
        "df['A'].plot(marker='o', c='r', ms=8)"
      ],
      "execution_count": 5,
      "outputs": [
        {
          "output_type": "execute_result",
          "data": {
            "text/plain": [
              "<matplotlib.axes._subplots.AxesSubplot at 0x7fb979caec50>"
            ]
          },
          "metadata": {
            "tags": []
          },
          "execution_count": 5
        },
        {
          "output_type": "display_data",
          "data": {
            "image/png": "[encoded data removed]",
            "text/plain": [
              "<Figure size 432x288 with 1 Axes>"
            ]
          },
          "metadata": {
            "tags": [],
            "needs_background": "light"
          }
        }
      ]
    },
    {
      "cell_type": "code",
      "metadata": {
        "id": "eYBvunC9E1FP",
        "outputId": "34012309-dbfc-4147-d2b5-9b092bd323dd",
        "colab": {
          "base_uri": "https://localhost:8080/",
          "height": 308
        }
      },
      "source": [
        "df['C'].plot(marker='D', c='g', ms=8)  # set figsize"
      ],
      "execution_count": 6,
      "outputs": [
        {
          "output_type": "execute_result",
          "data": {
            "text/plain": [
              "<matplotlib.axes._subplots.AxesSubplot at 0x7fb978964400>"
            ]
          },
          "metadata": {
            "tags": []
          },
          "execution_count": 6
        },
        {
          "output_type": "display_data",
          "data": {
            "image/png": "[encoded data removed]",
            "text/plain": [
              "<Figure size 432x288 with 1 Axes>"
            ]
          },
          "metadata": {
            "tags": [],
            "needs_background": "light"
          }
        }
      ]
    },
    {
      "cell_type": "code",
      "metadata": {
        "id": "2Ky8komoHYt6",
        "outputId": "fdf6b97f-f926-4071-93f7-9e4b3b41aec1",
        "colab": {
          "base_uri": "https://localhost:8080/",
          "height": 308
        }
      },
      "source": [
        "df.plot(y='D', marker='*', c='r', ms=12)   # x-축은 날짜인덱스"
      ],
      "execution_count": 7,
      "outputs": [
        {
          "output_type": "execute_result",
          "data": {
            "text/plain": [
              "<matplotlib.axes._subplots.AxesSubplot at 0x7fb9784a6940>"
            ]
          },
          "metadata": {
            "tags": []
          },
          "execution_count": 7
        },
        {
          "output_type": "display_data",
          "data": {
            "image/png": "[encoded data removed]",
            "text/plain": [
              "<Figure size 432x288 with 1 Axes>"
            ]
          },
          "metadata": {
            "tags": [],
            "needs_background": "light"
          }
        }
      ]
    },
    {
      "cell_type": "code",
      "metadata": {
        "id": "l1IlNnuUF95d",
        "outputId": "2fb05651-1885-4123-d5cf-4bfa149b6d1c",
        "colab": {
          "base_uri": "https://localhost:8080/",
          "height": 139
        }
      },
      "source": [
        "# 두 개의 그래프를 한 축에 그리기\n",
        "# df['A','D'].plot(marker='o', c='r', ms=8)\n",
        " df[['A','D']].plot(marker='o', c='r', ms=8)  # works!, change colors"
      ],
      "execution_count": 13,
      "outputs": [
        {
          "output_type": "error",
          "ename": "IndentationError",
          "evalue": "ignored",
          "traceback": [
            "\u001b[0;36m  File \u001b[0;32m\"<ipython-input-13-5a2fbf17f66d>\"\u001b[0;36m, line \u001b[0;32m3\u001b[0m\n\u001b[0;31m    df[['A','D']].plot(marker='o', c='r', ms=8)  # works!, change colors\u001b[0m\n\u001b[0m    ^\u001b[0m\n\u001b[0;31mIndentationError\u001b[0m\u001b[0;31m:\u001b[0m unexpected indent\n"
          ]
        }
      ]
    },
    {
      "cell_type": "code",
      "metadata": {
        "id": "PpO346h9GB5E",
        "outputId": "0e3623a2-1d15-4fa9-ee7b-d0d6d135d206",
        "colab": {
          "base_uri": "https://localhost:8080/",
          "height": 308
        }
      },
      "source": [
        "df.plot(y=['A','C'], marker='o')"
      ],
      "execution_count": 14,
      "outputs": [
        {
          "output_type": "execute_result",
          "data": {
            "text/plain": [
              "<matplotlib.axes._subplots.AxesSubplot at 0x7fb97839e048>"
            ]
          },
          "metadata": {
            "tags": []
          },
          "execution_count": 14
        },
        {
          "output_type": "display_data",
          "data": {
            "image/png": "[encoded data removed]",
            "text/plain": [
              "<Figure size 432x288 with 1 Axes>"
            ]
          },
          "metadata": {
            "tags": [],
            "needs_background": "light"
          }
        }
      ]
    },
    {
      "cell_type": "markdown",
      "metadata": {
        "id": "zDd0SXGSQKMR"
      },
      "source": [
        "### 산포도 (Scatter graph)"
      ]
    },
    {
      "cell_type": "code",
      "metadata": {
        "id": "dmS6rvlwMSR9",
        "outputId": "75039437-4cdc-45f0-c502-a21e4efa0034",
        "colab": {
          "base_uri": "https://localhost:8080/",
          "height": 233
        }
      },
      "source": [
        "df"
      ],
      "execution_count": 15,
      "outputs": [
        {
          "output_type": "execute_result",
          "data": {
            "text/html": [
              "<div>\n",
              "<style scoped>\n",
              "    .dataframe tbody tr th:only-of-type {\n",
              "        vertical-align: middle;\n",
              "    }\n",
              "\n",
              "    .dataframe tbody tr th {\n",
              "        vertical-align: top;\n",
              "    }\n",
              "\n",
              "    .dataframe thead th {\n",
              "        text-align: right;\n",
              "    }\n",
              "</style>\n",
              "<table border=\"1\" class=\"dataframe\">\n",
              "  <thead>\n",
              "    <tr style=\"text-align: right;\">\n",
              "      <th></th>\n",
              "      <th>A</th>\n",
              "      <th>B</th>\n",
              "      <th>C</th>\n",
              "      <th>D</th>\n",
              "    </tr>\n",
              "  </thead>\n",
              "  <tbody>\n",
              "    <tr>\n",
              "      <th>2020-09-28</th>\n",
              "      <td>1.739999</td>\n",
              "      <td>0.199724</td>\n",
              "      <td>-0.253895</td>\n",
              "      <td>0.048103</td>\n",
              "    </tr>\n",
              "    <tr>\n",
              "      <th>2020-09-29</th>\n",
              "      <td>-1.430388</td>\n",
              "      <td>0.773424</td>\n",
              "      <td>-1.202399</td>\n",
              "      <td>-1.375765</td>\n",
              "    </tr>\n",
              "    <tr>\n",
              "      <th>2020-09-30</th>\n",
              "      <td>1.157218</td>\n",
              "      <td>0.673413</td>\n",
              "      <td>1.211855</td>\n",
              "      <td>-2.163377</td>\n",
              "    </tr>\n",
              "    <tr>\n",
              "      <th>2020-10-01</th>\n",
              "      <td>0.715820</td>\n",
              "      <td>-1.650089</td>\n",
              "      <td>-0.358878</td>\n",
              "      <td>-1.774887</td>\n",
              "    </tr>\n",
              "    <tr>\n",
              "      <th>2020-10-02</th>\n",
              "      <td>0.723627</td>\n",
              "      <td>0.608201</td>\n",
              "      <td>0.184592</td>\n",
              "      <td>0.483824</td>\n",
              "    </tr>\n",
              "    <tr>\n",
              "      <th>2020-10-03</th>\n",
              "      <td>0.055503</td>\n",
              "      <td>1.890088</td>\n",
              "      <td>0.569307</td>\n",
              "      <td>0.356331</td>\n",
              "    </tr>\n",
              "  </tbody>\n",
              "</table>\n",
              "</div>"
            ],
            "text/plain": [
              "                   A         B         C         D\n",
              "2020-09-28  1.739999  0.199724 -0.253895  0.048103\n",
              "2020-09-29 -1.430388  0.773424 -1.202399 -1.375765\n",
              "2020-09-30  1.157218  0.673413  1.211855 -2.163377\n",
              "2020-10-01  0.715820 -1.650089 -0.358878 -1.774887\n",
              "2020-10-02  0.723627  0.608201  0.184592  0.483824\n",
              "2020-10-03  0.055503  1.890088  0.569307  0.356331"
            ]
          },
          "metadata": {
            "tags": []
          },
          "execution_count": 15
        }
      ]
    },
    {
      "cell_type": "code",
      "metadata": {
        "id": "qVXSMlMVQTYN",
        "outputId": "778a7f03-1e40-4187-c505-939e33b1b129",
        "colab": {
          "base_uri": "https://localhost:8080/",
          "height": 298
        }
      },
      "source": [
        "df.plot(kind='scatter',x='C',y='A', color='r', marker='o', s=32)  "
      ],
      "execution_count": 16,
      "outputs": [
        {
          "output_type": "execute_result",
          "data": {
            "text/plain": [
              "<matplotlib.axes._subplots.AxesSubplot at 0x7fb9782b4358>"
            ]
          },
          "metadata": {
            "tags": []
          },
          "execution_count": 16
        },
        {
          "output_type": "display_data",
          "data": {
            "image/png": "[encoded data removed]",
            "text/plain": [
              "<Figure size 432x288 with 1 Axes>"
            ]
          },
          "metadata": {
            "tags": [],
            "needs_background": "light"
          }
        }
      ]
    },
    {
      "cell_type": "code",
      "metadata": {
        "id": "zLlbFKxERJ9p",
        "outputId": "cfae1f8f-8e53-4f33-f405-1f2e09079421",
        "colab": {
          "base_uri": "https://localhost:8080/",
          "height": 298
        }
      },
      "source": [
        "df.plot(kind='scatter',x='B',y='C', color='blue', marker='d', s=50)  "
      ],
      "execution_count": 17,
      "outputs": [
        {
          "output_type": "execute_result",
          "data": {
            "text/plain": [
              "<matplotlib.axes._subplots.AxesSubplot at 0x7fb978215240>"
            ]
          },
          "metadata": {
            "tags": []
          },
          "execution_count": 17
        },
        {
          "output_type": "display_data",
          "data": {
            "image/png": "[encoded data removed]",
            "text/plain": [
              "<Figure size 432x288 with 1 Axes>"
            ]
          },
          "metadata": {
            "tags": [],
            "needs_background": "light"
          }
        }
      ]
    },
    {
      "cell_type": "markdown",
      "metadata": {
        "id": "sirI2suwH9Yh"
      },
      "source": [
        "### 바 그래프"
      ]
    },
    {
      "cell_type": "code",
      "metadata": {
        "id": "0YVzF5xyGiFc",
        "outputId": "248a9110-68f8-4d1a-a903-15ffd81acfd5",
        "colab": {
          "base_uri": "https://localhost:8080/",
          "height": 379
        }
      },
      "source": [
        "df['A'].plot.bar()"
      ],
      "execution_count": 18,
      "outputs": [
        {
          "output_type": "execute_result",
          "data": {
            "text/plain": [
              "<matplotlib.axes._subplots.AxesSubplot at 0x7fb9783a4128>"
            ]
          },
          "metadata": {
            "tags": []
          },
          "execution_count": 18
        },
        {
          "output_type": "display_data",
          "data": {
            "image/png": "[encoded data removed]",
            "text/plain": [
              "<Figure size 432x288 with 1 Axes>"
            ]
          },
          "metadata": {
            "tags": [],
            "needs_background": "light"
          }
        }
      ]
    },
    {
      "cell_type": "code",
      "metadata": {
        "id": "OQVX4QH3IWIK",
        "outputId": "0f45a2ca-ac4b-4cc4-9cbf-539a86b522ee",
        "colab": {
          "base_uri": "https://localhost:8080/",
          "height": 379
        }
      },
      "source": [
        "df['D'].plot.bar()"
      ],
      "execution_count": 19,
      "outputs": [
        {
          "output_type": "execute_result",
          "data": {
            "text/plain": [
              "<matplotlib.axes._subplots.AxesSubplot at 0x7fb978171160>"
            ]
          },
          "metadata": {
            "tags": []
          },
          "execution_count": 19
        },
        {
          "output_type": "display_data",
          "data": {
            "image/png": "[encoded data removed]",
            "text/plain": [
              "<Figure size 432x288 with 1 Axes>"
            ]
          },
          "metadata": {
            "tags": [],
            "needs_background": "light"
          }
        }
      ]
    },
    {
      "cell_type": "code",
      "metadata": {
        "id": "pSekXLHMoPr9",
        "outputId": "f8744c66-0945-489f-ae6d-87b29aed94ab",
        "colab": {
          "base_uri": "https://localhost:8080/",
          "height": 366
        }
      },
      "source": [
        "df.plot(kind='bar', y='D',rot=55)"
      ],
      "execution_count": 31,
      "outputs": [
        {
          "output_type": "execute_result",
          "data": {
            "text/plain": [
              "<matplotlib.axes._subplots.AxesSubplot at 0x7fb977dbecf8>"
            ]
          },
          "metadata": {
            "tags": []
          },
          "execution_count": 31
        },
        {
          "output_type": "display_data",
          "data": {
            "image/png": "[encoded data removed]",
            "text/plain": [
              "<Figure size 432x288 with 1 Axes>"
            ]
          },
          "metadata": {
            "tags": [],
            "needs_background": "light"
          }
        }
      ]
    },
    {
      "cell_type": "markdown",
      "metadata": {
        "id": "WUEzWDX5JC16"
      },
      "source": [
        "#### 다중 바그래프"
      ]
    },
    {
      "cell_type": "code",
      "metadata": {
        "id": "gcxproHoIMbt",
        "outputId": "355a5b93-e66c-4fb3-d671-4afed7073e43",
        "colab": {
          "base_uri": "https://localhost:8080/",
          "height": 379
        }
      },
      "source": [
        "df.plot(kind='bar',y=['A','C','D'])"
      ],
      "execution_count": 24,
      "outputs": [
        {
          "output_type": "execute_result",
          "data": {
            "text/plain": [
              "<matplotlib.axes._subplots.AxesSubplot at 0x7fb9780d6b00>"
            ]
          },
          "metadata": {
            "tags": []
          },
          "execution_count": 24
        },
        {
          "output_type": "display_data",
          "data": {
            "image/png": "[encoded data removed]",
            "text/plain": [
              "<Figure size 432x288 with 1 Axes>"
            ]
          },
          "metadata": {
            "tags": [],
            "needs_background": "light"
          }
        }
      ]
    },
    {
      "cell_type": "markdown",
      "metadata": {
        "id": "k1zlpFKBm4jc"
      },
      "source": [
        "#### 평균/표준편차 그래프"
      ]
    },
    {
      "cell_type": "code",
      "metadata": {
        "id": "1kiH3AgYn4hm",
        "outputId": "6a3f5ae7-89fc-423f-e68e-8273e40ba10c",
        "colab": {
          "base_uri": "https://localhost:8080/",
          "height": 185
        }
      },
      "source": [
        "df.mean(0), df.std(0), df.columns"
      ],
      "execution_count": 25,
      "outputs": [
        {
          "output_type": "execute_result",
          "data": {
            "text/plain": [
              "(A    0.493630\n",
              " B    0.415793\n",
              " C    0.025097\n",
              " D   -0.737628\n",
              " dtype: float64, A    1.094519\n",
              " B    1.159257\n",
              " C    0.832108\n",
              " D    1.168071\n",
              " dtype: float64, Index(['A', 'B', 'C', 'D'], dtype='object'))"
            ]
          },
          "metadata": {
            "tags": []
          },
          "execution_count": 25
        }
      ]
    },
    {
      "cell_type": "code",
      "metadata": {
        "id": "SgMoh5uTIfgk",
        "outputId": "d6a68936-f85f-40f9-af27-e2f11c046377",
        "colab": {
          "base_uri": "https://localhost:8080/",
          "height": 284
        }
      },
      "source": [
        "# plot bars\n",
        "# bar_labels = df.columns\n",
        "# plt.bar(bar_labels, df.mean(0), yerr=df.std(0))\n",
        "df.mean(0).plot.bar(yerr=df.std(0) , rot=0) "
      ],
      "execution_count": 30,
      "outputs": [
        {
          "output_type": "execute_result",
          "data": {
            "text/plain": [
              "<matplotlib.axes._subplots.AxesSubplot at 0x7fb977e90278>"
            ]
          },
          "metadata": {
            "tags": []
          },
          "execution_count": 30
        },
        {
          "output_type": "display_data",
          "data": {
            "image/png": "[encoded data removed]",
            "text/plain": [
              "<Figure size 432x288 with 1 Axes>"
            ]
          },
          "metadata": {
            "tags": [],
            "needs_background": "light"
          }
        }
      ]
    },
    {
      "cell_type": "markdown",
      "metadata": {
        "id": "IJk__nDpx9MI"
      },
      "source": [
        "\n",
        "\n",
        "---\n",
        "\n"
      ]
    },
    {
      "cell_type": "markdown",
      "metadata": {
        "id": "dmtUkwvkyC-8"
      },
      "source": [
        "### 그래프 이어 그리기"
      ]
    },
    {
      "cell_type": "code",
      "metadata": {
        "id": "zihYMbXbJP0k",
        "outputId": "c20a7735-fbe0-435e-d82d-ca9bcf262016",
        "colab": {
          "base_uri": "https://localhost:8080/",
          "height": 284
        }
      },
      "source": [
        "x1 = np.arange(0.0, 5.0, 0.01)\n",
        "y1 = np.sin(2*np.pi*x1)\n",
        "plt.figure(figsize=(10,4))\n",
        "plt.plot(x1, y1, 'o', ms = 4)"
      ],
      "execution_count": 32,
      "outputs": [
        {
          "output_type": "execute_result",
          "data": {
            "text/plain": [
              "[<matplotlib.lines.Line2D at 0x7fb977d04b00>]"
            ]
          },
          "metadata": {
            "tags": []
          },
          "execution_count": 32
        },
        {
          "output_type": "display_data",
          "data": {
            "image/png": "[encoded data removed]",
            "text/plain": [
              "<Figure size 720x288 with 1 Axes>"
            ]
          },
          "metadata": {
            "tags": [],
            "needs_background": "light"
          }
        }
      ]
    },
    {
      "cell_type": "code",
      "metadata": {
        "id": "qTNhXTqZzKlN",
        "outputId": "b6b09e49-dbb8-4281-d594-1a56e00b5ede",
        "colab": {
          "base_uri": "https://localhost:8080/",
          "height": 36
        }
      },
      "source": [
        "x1.shape, y1.shape"
      ],
      "execution_count": 33,
      "outputs": [
        {
          "output_type": "execute_result",
          "data": {
            "text/plain": [
              "((500,), (500,))"
            ]
          },
          "metadata": {
            "tags": []
          },
          "execution_count": 33
        }
      ]
    },
    {
      "cell_type": "markdown",
      "metadata": {
        "id": "dmNZ6PNgyrn3"
      },
      "source": [
        "#### pandas 데이터프레임을 이용한 그래프 "
      ]
    },
    {
      "cell_type": "code",
      "metadata": {
        "id": "WpzC6VNNyM_w",
        "outputId": "b86b5a82-bbdd-4c37-d7e1-9d76b04b7436",
        "colab": {
          "base_uri": "https://localhost:8080/",
          "height": 202
        }
      },
      "source": [
        "df = pd.DataFrame(dict(sine=y1), index=x1, columns=['sine'])\n",
        "df.head()"
      ],
      "execution_count": 34,
      "outputs": [
        {
          "output_type": "execute_result",
          "data": {
            "text/html": [
              "<div>\n",
              "<style scoped>\n",
              "    .dataframe tbody tr th:only-of-type {\n",
              "        vertical-align: middle;\n",
              "    }\n",
              "\n",
              "    .dataframe tbody tr th {\n",
              "        vertical-align: top;\n",
              "    }\n",
              "\n",
              "    .dataframe thead th {\n",
              "        text-align: right;\n",
              "    }\n",
              "</style>\n",
              "<table border=\"1\" class=\"dataframe\">\n",
              "  <thead>\n",
              "    <tr style=\"text-align: right;\">\n",
              "      <th></th>\n",
              "      <th>sine</th>\n",
              "    </tr>\n",
              "  </thead>\n",
              "  <tbody>\n",
              "    <tr>\n",
              "      <th>0.00</th>\n",
              "      <td>0.000000</td>\n",
              "    </tr>\n",
              "    <tr>\n",
              "      <th>0.01</th>\n",
              "      <td>0.062791</td>\n",
              "    </tr>\n",
              "    <tr>\n",
              "      <th>0.02</th>\n",
              "      <td>0.125333</td>\n",
              "    </tr>\n",
              "    <tr>\n",
              "      <th>0.03</th>\n",
              "      <td>0.187381</td>\n",
              "    </tr>\n",
              "    <tr>\n",
              "      <th>0.04</th>\n",
              "      <td>0.248690</td>\n",
              "    </tr>\n",
              "  </tbody>\n",
              "</table>\n",
              "</div>"
            ],
            "text/plain": [
              "          sine\n",
              "0.00  0.000000\n",
              "0.01  0.062791\n",
              "0.02  0.125333\n",
              "0.03  0.187381\n",
              "0.04  0.248690"
            ]
          },
          "metadata": {
            "tags": []
          },
          "execution_count": 34
        }
      ]
    },
    {
      "cell_type": "code",
      "metadata": {
        "id": "jYGyLlgKz5PQ",
        "outputId": "6c36c0b5-fbf9-47f5-a14b-e92137d7896f",
        "colab": {
          "base_uri": "https://localhost:8080/",
          "height": 202
        }
      },
      "source": [
        "df.tail()"
      ],
      "execution_count": 35,
      "outputs": [
        {
          "output_type": "execute_result",
          "data": {
            "text/html": [
              "<div>\n",
              "<style scoped>\n",
              "    .dataframe tbody tr th:only-of-type {\n",
              "        vertical-align: middle;\n",
              "    }\n",
              "\n",
              "    .dataframe tbody tr th {\n",
              "        vertical-align: top;\n",
              "    }\n",
              "\n",
              "    .dataframe thead th {\n",
              "        text-align: right;\n",
              "    }\n",
              "</style>\n",
              "<table border=\"1\" class=\"dataframe\">\n",
              "  <thead>\n",
              "    <tr style=\"text-align: right;\">\n",
              "      <th></th>\n",
              "      <th>sine</th>\n",
              "    </tr>\n",
              "  </thead>\n",
              "  <tbody>\n",
              "    <tr>\n",
              "      <th>4.95</th>\n",
              "      <td>-0.309017</td>\n",
              "    </tr>\n",
              "    <tr>\n",
              "      <th>4.96</th>\n",
              "      <td>-0.248690</td>\n",
              "    </tr>\n",
              "    <tr>\n",
              "      <th>4.97</th>\n",
              "      <td>-0.187381</td>\n",
              "    </tr>\n",
              "    <tr>\n",
              "      <th>4.98</th>\n",
              "      <td>-0.125333</td>\n",
              "    </tr>\n",
              "    <tr>\n",
              "      <th>4.99</th>\n",
              "      <td>-0.062791</td>\n",
              "    </tr>\n",
              "  </tbody>\n",
              "</table>\n",
              "</div>"
            ],
            "text/plain": [
              "          sine\n",
              "4.95 -0.309017\n",
              "4.96 -0.248690\n",
              "4.97 -0.187381\n",
              "4.98 -0.125333\n",
              "4.99 -0.062791"
            ]
          },
          "metadata": {
            "tags": []
          },
          "execution_count": 35
        }
      ]
    },
    {
      "cell_type": "code",
      "metadata": {
        "id": "H4mcYWNgO9Jv",
        "outputId": "2ea11753-d705-47fb-a798-280740ef811e",
        "colab": {
          "base_uri": "https://localhost:8080/",
          "height": 36
        }
      },
      "source": [
        "len(df)"
      ],
      "execution_count": 37,
      "outputs": [
        {
          "output_type": "execute_result",
          "data": {
            "text/plain": [
              "500"
            ]
          },
          "metadata": {
            "tags": []
          },
          "execution_count": 37
        }
      ]
    },
    {
      "cell_type": "code",
      "metadata": {
        "id": "B4OFMcqd0AeF",
        "outputId": "de60820e-add3-4497-ffa1-9e616b22c0d1",
        "colab": {
          "base_uri": "https://localhost:8080/",
          "height": 36
        }
      },
      "source": [
        "pre_size = int(len(df) * 0.8)\n",
        "post_size = len(df) - pre_size\n",
        "pre, post = df.iloc[0:pre_size], df.iloc[pre_size:len(df)]\n",
        "print(len(pre), len(post))"
      ],
      "execution_count": 36,
      "outputs": [
        {
          "output_type": "stream",
          "text": [
            "400 100\n"
          ],
          "name": "stdout"
        }
      ]
    },
    {
      "cell_type": "code",
      "metadata": {
        "id": "CZ_XDFxI2N7E",
        "outputId": "992183b6-e273-4f4b-eb9e-99823bc30dc4",
        "colab": {
          "base_uri": "https://localhost:8080/",
          "height": 36
        }
      },
      "source": [
        "post.shape"
      ],
      "execution_count": 38,
      "outputs": [
        {
          "output_type": "execute_result",
          "data": {
            "text/plain": [
              "(100, 1)"
            ]
          },
          "metadata": {
            "tags": []
          },
          "execution_count": 38
        }
      ]
    },
    {
      "cell_type": "code",
      "metadata": {
        "id": "1tsmjL2s13dn"
      },
      "source": [
        "post2 = post + np.random.normal(scale=0.2, size=len(post)).reshape(-1,1)"
      ],
      "execution_count": 40,
      "outputs": []
    },
    {
      "cell_type": "code",
      "metadata": {
        "id": "yj7rZIK80xWk",
        "outputId": "78f27a14-437a-4fe4-f631-c3fdfba30acc",
        "colab": {
          "base_uri": "https://localhost:8080/",
          "height": 336
        }
      },
      "source": [
        "plt.figure(figsize=(10,5))\n",
        "plt.plot(np.arange(0, len(pre)), pre, 'g', label=\"pre\")\n",
        "plt.plot(np.arange(len(pre), len(pre) + len(post)), post, 'b', marker='.', label=\"post\")\n",
        "plt.plot(np.arange(len(pre), len(pre) + len(post)), post2, 'r', label=\"post2\")\n",
        "plt.ylabel('Value')\n",
        "plt.xlabel('Time Step')\n",
        "plt.legend()\n",
        "plt.show();"
      ],
      "execution_count": 41,
      "outputs": [
        {
          "output_type": "display_data",
          "data": {
            "image/png": "[encoded data removed]",
            "text/plain": [
              "<Figure size 720x360 with 1 Axes>"
            ]
          },
          "metadata": {
            "tags": [],
            "needs_background": "light"
          }
        }
      ]
    },
    {
      "cell_type": "markdown",
      "metadata": {
        "id": "GuMpCORM3A-2"
      },
      "source": [
        "#### post  post2를 동시에 그려서 두 그래프를 비교해보시오. \n",
        "\n",
        "- subplot 사용"
      ]
    },
    {
      "cell_type": "code",
      "metadata": {
        "id": "HvjeAmyL2WcY"
      },
      "source": [
        "plt.figure(figsize=(10,5))\n"
      ],
      "execution_count": null,
      "outputs": []
    },
    {
      "cell_type": "code",
      "metadata": {
        "id": "60uHxNvo3r9V"
      },
      "source": [
        ""
      ],
      "execution_count": null,
      "outputs": []
    }
  ]
}